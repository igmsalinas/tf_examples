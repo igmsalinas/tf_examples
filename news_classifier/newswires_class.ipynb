{
 "cells": [
  {
   "cell_type": "code",
   "execution_count": 11,
   "id": "initial_id",
   "metadata": {
    "collapsed": true,
    "ExecuteTime": {
     "end_time": "2023-12-17T18:50:46.668844500Z",
     "start_time": "2023-12-17T18:50:46.328672839Z"
    }
   },
   "outputs": [],
   "source": [
    "from keras.datasets import reuters\n",
    "\n",
    "(train_data, train_labels), (test_data, test_labels) =reuters.load_data(num_words=10000)"
   ]
  },
  {
   "cell_type": "code",
   "execution_count": 12,
   "outputs": [],
   "source": [
    "word_index = reuters.get_word_index()\n",
    "reverse_word_index = dict([(value, key) for (key, value) in word_index.items()])\n",
    "decoded_newswire = ' '.join([reverse_word_index.get(i-3,'?') for i in train_data[0]])"
   ],
   "metadata": {
    "collapsed": false,
    "ExecuteTime": {
     "end_time": "2023-12-17T18:50:46.685967449Z",
     "start_time": "2023-12-17T18:50:46.666408330Z"
    }
   },
   "id": "49a9699573cfae82"
  },
  {
   "cell_type": "code",
   "execution_count": 13,
   "outputs": [],
   "source": [
    "import numpy as np\n",
    "\n",
    "def vectorize_sequences(sequences, dimension=10000):\n",
    "    results = np.zeros((len(sequences), dimension))\n",
    "    for i, sequence in enumerate(sequences):\n",
    "        results[i, sequence] = 1.\n",
    "    return results\n",
    "\n",
    "x_train = vectorize_sequences(train_data)\n",
    "x_test = vectorize_sequences(test_data)"
   ],
   "metadata": {
    "collapsed": false,
    "ExecuteTime": {
     "end_time": "2023-12-17T18:50:46.895267936Z",
     "start_time": "2023-12-17T18:50:46.687487006Z"
    }
   },
   "id": "641dad396805f886"
  },
  {
   "cell_type": "code",
   "execution_count": 14,
   "outputs": [],
   "source": [
    "from keras import models\n",
    "from keras import layers\n",
    "\n",
    "model = models.Sequential()\n",
    "model.add(layers.Dense(units=64, activation='relu', input_shape=(10000,)))\n",
    "model.add(layers.Dense(units=64, activation='relu'))\n",
    "model.add(layers.Dense(units=46, activation='softmax'))"
   ],
   "metadata": {
    "collapsed": false,
    "ExecuteTime": {
     "end_time": "2023-12-17T18:50:46.917516554Z",
     "start_time": "2023-12-17T18:50:46.898448341Z"
    }
   },
   "id": "3e7ccb06418439fe"
  },
  {
   "cell_type": "code",
   "execution_count": 15,
   "outputs": [],
   "source": [
    "model.compile(loss='categorical_crossentropy', optimizer='rmsprop', metrics=['accuracy'])"
   ],
   "metadata": {
    "collapsed": false,
    "ExecuteTime": {
     "end_time": "2023-12-17T18:50:46.925266519Z",
     "start_time": "2023-12-17T18:50:46.918154899Z"
    }
   },
   "id": "1f999fc1b8c442a4"
  },
  {
   "cell_type": "code",
   "execution_count": 16,
   "outputs": [],
   "source": [
    "x_val = x_train[:1000]\n",
    "partial_x_train = x_train[1000:]"
   ],
   "metadata": {
    "collapsed": false,
    "ExecuteTime": {
     "end_time": "2023-12-17T18:50:46.987774385Z",
     "start_time": "2023-12-17T18:50:46.944744399Z"
    }
   },
   "id": "4caf0cd0d4654c33"
  },
  {
   "cell_type": "code",
   "execution_count": 17,
   "outputs": [],
   "source": [
    "from keras.utils import to_categorical\n",
    "\n",
    "one_hot_train_labels = to_categorical(train_labels)\n",
    "one_hot_test_labels = to_categorical(test_labels)\n",
    "\n",
    "y_val = one_hot_train_labels[:1000]\n",
    "partial_y_train = one_hot_train_labels[1000:]"
   ],
   "metadata": {
    "collapsed": false,
    "ExecuteTime": {
     "end_time": "2023-12-17T18:50:46.988288871Z",
     "start_time": "2023-12-17T18:50:46.987675926Z"
    }
   },
   "id": "aa7d203fcdc13c82"
  },
  {
   "cell_type": "code",
   "execution_count": 18,
   "outputs": [
    {
     "name": "stdout",
     "output_type": "stream",
     "text": [
      "Epoch 1/20\n",
      "16/16 [==============================] - 1s 15ms/step - loss: 2.7118 - accuracy: 0.4977 - val_loss: 1.8547 - val_accuracy: 0.6280\n",
      "Epoch 2/20\n",
      "16/16 [==============================] - 0s 6ms/step - loss: 1.5672 - accuracy: 0.6736 - val_loss: 1.4017 - val_accuracy: 0.6870\n",
      "Epoch 3/20\n",
      "16/16 [==============================] - 0s 6ms/step - loss: 1.2049 - accuracy: 0.7377 - val_loss: 1.2089 - val_accuracy: 0.7380\n",
      "Epoch 4/20\n",
      "16/16 [==============================] - 0s 6ms/step - loss: 0.9823 - accuracy: 0.7868 - val_loss: 1.1068 - val_accuracy: 0.7620\n",
      "Epoch 5/20\n",
      "16/16 [==============================] - 0s 6ms/step - loss: 0.8168 - accuracy: 0.8229 - val_loss: 1.0357 - val_accuracy: 0.7750\n",
      "Epoch 6/20\n",
      "16/16 [==============================] - 0s 6ms/step - loss: 0.6770 - accuracy: 0.8538 - val_loss: 0.9717 - val_accuracy: 0.8000\n",
      "Epoch 7/20\n",
      "16/16 [==============================] - 0s 6ms/step - loss: 0.5688 - accuracy: 0.8776 - val_loss: 0.9186 - val_accuracy: 0.8070\n",
      "Epoch 8/20\n",
      "16/16 [==============================] - 0s 6ms/step - loss: 0.4766 - accuracy: 0.9014 - val_loss: 0.8956 - val_accuracy: 0.8170\n",
      "Epoch 9/20\n",
      "16/16 [==============================] - 0s 6ms/step - loss: 0.4008 - accuracy: 0.9183 - val_loss: 0.8864 - val_accuracy: 0.8170\n",
      "Epoch 10/20\n",
      "16/16 [==============================] - 0s 6ms/step - loss: 0.3408 - accuracy: 0.9280 - val_loss: 0.9032 - val_accuracy: 0.8120\n",
      "Epoch 11/20\n",
      "16/16 [==============================] - 0s 6ms/step - loss: 0.2979 - accuracy: 0.9349 - val_loss: 0.9071 - val_accuracy: 0.8150\n",
      "Epoch 12/20\n",
      "16/16 [==============================] - 0s 6ms/step - loss: 0.2564 - accuracy: 0.9415 - val_loss: 0.8896 - val_accuracy: 0.8170\n",
      "Epoch 13/20\n",
      "16/16 [==============================] - 0s 6ms/step - loss: 0.2275 - accuracy: 0.9468 - val_loss: 0.9137 - val_accuracy: 0.8060\n",
      "Epoch 14/20\n",
      "16/16 [==============================] - 0s 6ms/step - loss: 0.2104 - accuracy: 0.9476 - val_loss: 0.9258 - val_accuracy: 0.7990\n",
      "Epoch 15/20\n",
      "16/16 [==============================] - 0s 7ms/step - loss: 0.1839 - accuracy: 0.9501 - val_loss: 0.9474 - val_accuracy: 0.8030\n",
      "Epoch 16/20\n",
      "16/16 [==============================] - 0s 7ms/step - loss: 0.1715 - accuracy: 0.9539 - val_loss: 0.9586 - val_accuracy: 0.8040\n",
      "Epoch 17/20\n",
      "16/16 [==============================] - 0s 6ms/step - loss: 0.1581 - accuracy: 0.9548 - val_loss: 0.9374 - val_accuracy: 0.8070\n",
      "Epoch 18/20\n",
      "16/16 [==============================] - 0s 6ms/step - loss: 0.1515 - accuracy: 0.9541 - val_loss: 0.9399 - val_accuracy: 0.8070\n",
      "Epoch 19/20\n",
      "16/16 [==============================] - 0s 9ms/step - loss: 0.1427 - accuracy: 0.9569 - val_loss: 0.9492 - val_accuracy: 0.8050\n",
      "Epoch 20/20\n",
      "16/16 [==============================] - 0s 8ms/step - loss: 0.1323 - accuracy: 0.9568 - val_loss: 1.0250 - val_accuracy: 0.7910\n"
     ]
    }
   ],
   "source": [
    "history = model.fit(partial_x_train, partial_y_train, epochs=20, batch_size=512, validation_data=(x_val, y_val))"
   ],
   "metadata": {
    "collapsed": false,
    "ExecuteTime": {
     "end_time": "2023-12-17T18:50:50.117305821Z",
     "start_time": "2023-12-17T18:50:46.987935484Z"
    }
   },
   "id": "40cc608a0f7fdb90"
  },
  {
   "cell_type": "code",
   "execution_count": 19,
   "outputs": [
    {
     "data": {
      "text/plain": "<Figure size 640x480 with 1 Axes>",
      "image/png": "[encoded data removed]"
     },
     "metadata": {},
     "output_type": "display_data"
    }
   ],
   "source": [
    "import matplotlib.pyplot as plt\n",
    "\n",
    "loss = history.history['loss']\n",
    "val_loss = history.history['val_loss']\n",
    "\n",
    "epochs = range(1, len(loss) + 1)\n",
    "\n",
    "plt.plot(epochs, loss, 'bo', label='Training loss')\n",
    "plt.plot(epochs, val_loss, 'b', label='Validation loss')\n",
    "plt.title('Training and validation loss')\n",
    "plt.xlabel('Epochs')\n",
    "plt.ylabel('Loss')\n",
    "plt.legend()\n",
    "\n",
    "plt.show()"
   ],
   "metadata": {
    "collapsed": false,
    "ExecuteTime": {
     "end_time": "2023-12-17T18:50:50.200305525Z",
     "start_time": "2023-12-17T18:50:50.129612638Z"
    }
   },
   "id": "c99833c6e69d6c3a"
  },
  {
   "cell_type": "code",
   "execution_count": 20,
   "outputs": [
    {
     "data": {
      "text/plain": "<Figure size 640x480 with 1 Axes>",
      "image/png": "[encoded data removed]"
     },
     "metadata": {},
     "output_type": "display_data"
    }
   ],
   "source": [
    "acc = history.history['accuracy']\n",
    "val_acc = history.history['val_accuracy']\n",
    "\n",
    "plt.plot(epochs, acc, 'bo', label='Training accuracy')\n",
    "plt.plot(epochs, val_acc, 'b', label='Validation accuracy')\n",
    "plt.title('Training and validation accuracy')\n",
    "plt.xlabel('Epochs')\n",
    "plt.ylabel('Accuracy')\n",
    "plt.legend()\n",
    "\n",
    "plt.show()"
   ],
   "metadata": {
    "collapsed": false,
    "ExecuteTime": {
     "end_time": "2023-12-17T18:50:50.279989999Z",
     "start_time": "2023-12-17T18:50:50.199195744Z"
    }
   },
   "id": "9c9c926f1c4daf16"
  },
  {
   "cell_type": "code",
   "execution_count": 21,
   "outputs": [
    {
     "name": "stdout",
     "output_type": "stream",
     "text": [
      "Epoch 1/9\n",
      "16/16 [==============================] - 1s 15ms/step - loss: 2.7283 - accuracy: 0.4402 - val_loss: 1.8432 - val_accuracy: 0.6120\n",
      "Epoch 2/9\n",
      "16/16 [==============================] - 0s 6ms/step - loss: 1.5500 - accuracy: 0.6743 - val_loss: 1.3997 - val_accuracy: 0.6870\n",
      "Epoch 3/9\n",
      "16/16 [==============================] - 0s 6ms/step - loss: 1.1898 - accuracy: 0.7398 - val_loss: 1.2027 - val_accuracy: 0.7240\n",
      "Epoch 4/9\n",
      "16/16 [==============================] - 0s 6ms/step - loss: 0.9679 - accuracy: 0.7899 - val_loss: 1.0855 - val_accuracy: 0.7610\n",
      "Epoch 5/9\n",
      "16/16 [==============================] - 0s 6ms/step - loss: 0.8024 - accuracy: 0.8285 - val_loss: 1.0218 - val_accuracy: 0.7680\n",
      "Epoch 6/9\n",
      "16/16 [==============================] - 0s 6ms/step - loss: 0.6617 - accuracy: 0.8588 - val_loss: 0.9475 - val_accuracy: 0.7960\n",
      "Epoch 7/9\n",
      "16/16 [==============================] - 0s 6ms/step - loss: 0.5546 - accuracy: 0.8826 - val_loss: 0.9227 - val_accuracy: 0.7980\n",
      "Epoch 8/9\n",
      "16/16 [==============================] - 0s 6ms/step - loss: 0.4659 - accuracy: 0.9015 - val_loss: 0.9057 - val_accuracy: 0.8000\n",
      "Epoch 9/9\n",
      "16/16 [==============================] - 0s 5ms/step - loss: 0.3950 - accuracy: 0.9168 - val_loss: 0.8694 - val_accuracy: 0.8070\n",
      "71/71 [==============================] - 0s 1ms/step - loss: 0.9205 - accuracy: 0.7894\n"
     ]
    }
   ],
   "source": [
    "model = models.Sequential()\n",
    "model.add(layers.Dense(64, activation='relu', input_shape=(10000,)))\n",
    "model.add(layers.Dense(64, activation='relu'))\n",
    "model.add(layers.Dense(46, activation='softmax'))\n",
    "\n",
    "model.compile(optimizer='rmsprop', loss='categorical_crossentropy', metrics=['accuracy'])\n",
    "\n",
    "model.fit(partial_x_train, partial_y_train, epochs=9, batch_size=512, validation_data=(x_val, y_val))\n",
    "\n",
    "results = model.evaluate(x_test, one_hot_test_labels)"
   ],
   "metadata": {
    "collapsed": false,
    "ExecuteTime": {
     "end_time": "2023-12-17T18:54:29.892587209Z",
     "start_time": "2023-12-17T18:54:27.678813509Z"
    }
   },
   "id": "4da9dd94692821ec"
  },
  {
   "cell_type": "code",
   "execution_count": 22,
   "outputs": [
    {
     "name": "stdout",
     "output_type": "stream",
     "text": [
      "71/71 [==============================] - 0s 797us/step\n"
     ]
    }
   ],
   "source": [
    "predictions = model.predict(x_test)"
   ],
   "metadata": {
    "collapsed": false,
    "ExecuteTime": {
     "end_time": "2023-12-17T18:55:26.770674777Z",
     "start_time": "2023-12-17T18:55:26.473719891Z"
    }
   },
   "id": "2bd62ae965371cf0"
  },
  {
   "cell_type": "code",
   "execution_count": 23,
   "outputs": [
    {
     "name": "stdout",
     "output_type": "stream",
     "text": [
      "(46,)\n",
      "0.99999994\n",
      "3\n"
     ]
    }
   ],
   "source": [
    "print(predictions[0].shape)\n",
    "print(np.sum(predictions[0]))\n",
    "print(np.argmax(predictions[0]))"
   ],
   "metadata": {
    "collapsed": false,
    "ExecuteTime": {
     "end_time": "2023-12-17T18:56:00.616075083Z",
     "start_time": "2023-12-17T18:56:00.607877847Z"
    }
   },
   "id": "6040993d710bbe37"
  },
  {
   "cell_type": "code",
   "execution_count": 33,
   "outputs": [
    {
     "name": "stdout",
     "output_type": "stream",
     "text": [
      "Epoch 1/50\n",
      "16/16 [==============================] - 1s 16ms/step - loss: 3.2324 - accuracy: 0.2631 - val_loss: 2.0668 - val_accuracy: 0.5360\n",
      "Epoch 2/50\n",
      "16/16 [==============================] - 0s 7ms/step - loss: 2.1202 - accuracy: 0.4808 - val_loss: 1.6921 - val_accuracy: 0.6070\n",
      "Epoch 3/50\n",
      "16/16 [==============================] - 0s 7ms/step - loss: 1.7634 - accuracy: 0.5763 - val_loss: 1.4924 - val_accuracy: 0.6830\n",
      "Epoch 4/50\n",
      "16/16 [==============================] - 0s 7ms/step - loss: 1.5386 - accuracy: 0.6393 - val_loss: 1.3174 - val_accuracy: 0.7000\n",
      "Epoch 5/50\n",
      "16/16 [==============================] - 0s 7ms/step - loss: 1.3740 - accuracy: 0.6780 - val_loss: 1.2424 - val_accuracy: 0.7090\n",
      "Epoch 6/50\n",
      "16/16 [==============================] - 0s 7ms/step - loss: 1.2573 - accuracy: 0.7017 - val_loss: 1.1968 - val_accuracy: 0.7170\n",
      "Epoch 7/50\n",
      "16/16 [==============================] - 0s 7ms/step - loss: 1.1474 - accuracy: 0.7199 - val_loss: 1.1742 - val_accuracy: 0.7230\n",
      "Epoch 8/50\n",
      "16/16 [==============================] - 0s 7ms/step - loss: 1.0711 - accuracy: 0.7350 - val_loss: 1.1592 - val_accuracy: 0.7330\n",
      "Epoch 9/50\n",
      "16/16 [==============================] - 0s 7ms/step - loss: 0.9948 - accuracy: 0.7466 - val_loss: 1.1498 - val_accuracy: 0.7370\n",
      "Epoch 10/50\n",
      "16/16 [==============================] - 0s 7ms/step - loss: 0.9307 - accuracy: 0.7577 - val_loss: 1.1506 - val_accuracy: 0.7470\n",
      "Epoch 11/50\n",
      "16/16 [==============================] - 0s 8ms/step - loss: 0.8678 - accuracy: 0.7719 - val_loss: 1.1705 - val_accuracy: 0.7570\n",
      "Epoch 12/50\n",
      "16/16 [==============================] - 0s 7ms/step - loss: 0.8214 - accuracy: 0.7871 - val_loss: 1.1701 - val_accuracy: 0.7630\n",
      "Epoch 13/50\n",
      "16/16 [==============================] - 0s 7ms/step - loss: 0.7834 - accuracy: 0.7988 - val_loss: 1.1683 - val_accuracy: 0.7660\n",
      "Epoch 14/50\n",
      "16/16 [==============================] - 0s 7ms/step - loss: 0.7457 - accuracy: 0.8077 - val_loss: 1.1705 - val_accuracy: 0.7770\n",
      "Epoch 15/50\n",
      "16/16 [==============================] - 0s 8ms/step - loss: 0.7051 - accuracy: 0.8143 - val_loss: 1.1781 - val_accuracy: 0.7770\n",
      "Epoch 16/50\n",
      "16/16 [==============================] - 0s 7ms/step - loss: 0.6712 - accuracy: 0.8213 - val_loss: 1.1725 - val_accuracy: 0.7770\n",
      "Epoch 17/50\n",
      "16/16 [==============================] - 0s 7ms/step - loss: 0.6370 - accuracy: 0.8292 - val_loss: 1.1880 - val_accuracy: 0.7750\n",
      "Epoch 18/50\n",
      "16/16 [==============================] - 0s 8ms/step - loss: 0.6190 - accuracy: 0.8341 - val_loss: 1.2050 - val_accuracy: 0.7780\n",
      "Epoch 19/50\n",
      "16/16 [==============================] - 0s 7ms/step - loss: 0.5987 - accuracy: 0.8414 - val_loss: 1.2037 - val_accuracy: 0.7780\n",
      "Epoch 20/50\n",
      "16/16 [==============================] - 0s 7ms/step - loss: 0.5725 - accuracy: 0.8443 - val_loss: 1.2175 - val_accuracy: 0.7820\n",
      "Epoch 21/50\n",
      "16/16 [==============================] - 0s 7ms/step - loss: 0.5621 - accuracy: 0.8460 - val_loss: 1.2092 - val_accuracy: 0.7830\n",
      "Epoch 22/50\n",
      "16/16 [==============================] - 0s 7ms/step - loss: 0.5301 - accuracy: 0.8567 - val_loss: 1.2495 - val_accuracy: 0.7900\n",
      "Epoch 23/50\n",
      "16/16 [==============================] - 0s 8ms/step - loss: 0.5210 - accuracy: 0.8569 - val_loss: 1.2140 - val_accuracy: 0.7900\n",
      "Epoch 24/50\n",
      "16/16 [==============================] - 0s 7ms/step - loss: 0.5061 - accuracy: 0.8589 - val_loss: 1.2546 - val_accuracy: 0.7970\n",
      "Epoch 25/50\n",
      "16/16 [==============================] - 0s 7ms/step - loss: 0.4888 - accuracy: 0.8659 - val_loss: 1.2209 - val_accuracy: 0.7980\n",
      "Epoch 26/50\n",
      "16/16 [==============================] - 0s 7ms/step - loss: 0.4649 - accuracy: 0.8738 - val_loss: 1.2325 - val_accuracy: 0.8080\n",
      "Epoch 27/50\n",
      "16/16 [==============================] - 0s 6ms/step - loss: 0.4524 - accuracy: 0.8748 - val_loss: 1.2787 - val_accuracy: 0.8000\n",
      "Epoch 28/50\n",
      "16/16 [==============================] - 0s 7ms/step - loss: 0.4438 - accuracy: 0.8787 - val_loss: 1.2375 - val_accuracy: 0.8030\n",
      "Epoch 29/50\n",
      "16/16 [==============================] - 0s 7ms/step - loss: 0.4465 - accuracy: 0.8784 - val_loss: 1.2652 - val_accuracy: 0.8000\n",
      "Epoch 30/50\n",
      "16/16 [==============================] - 0s 7ms/step - loss: 0.4335 - accuracy: 0.8824 - val_loss: 1.2628 - val_accuracy: 0.8050\n",
      "Epoch 31/50\n",
      "16/16 [==============================] - 0s 7ms/step - loss: 0.4101 - accuracy: 0.8861 - val_loss: 1.3061 - val_accuracy: 0.8000\n",
      "Epoch 32/50\n",
      "16/16 [==============================] - 0s 7ms/step - loss: 0.4019 - accuracy: 0.8854 - val_loss: 1.3100 - val_accuracy: 0.8020\n",
      "Epoch 33/50\n",
      "16/16 [==============================] - 0s 7ms/step - loss: 0.3951 - accuracy: 0.8903 - val_loss: 1.3120 - val_accuracy: 0.8060\n",
      "Epoch 34/50\n",
      "16/16 [==============================] - 0s 6ms/step - loss: 0.3850 - accuracy: 0.8920 - val_loss: 1.2968 - val_accuracy: 0.8030\n",
      "Epoch 35/50\n",
      "16/16 [==============================] - 0s 7ms/step - loss: 0.3718 - accuracy: 0.8985 - val_loss: 1.3487 - val_accuracy: 0.8020\n",
      "Epoch 36/50\n",
      "16/16 [==============================] - 0s 7ms/step - loss: 0.3683 - accuracy: 0.8923 - val_loss: 1.3145 - val_accuracy: 0.8070\n",
      "Epoch 37/50\n",
      "16/16 [==============================] - 0s 7ms/step - loss: 0.3665 - accuracy: 0.8994 - val_loss: 1.3539 - val_accuracy: 0.8110\n",
      "Epoch 38/50\n",
      "16/16 [==============================] - 0s 8ms/step - loss: 0.3604 - accuracy: 0.9012 - val_loss: 1.3410 - val_accuracy: 0.8090\n",
      "Epoch 39/50\n",
      "16/16 [==============================] - 0s 7ms/step - loss: 0.3470 - accuracy: 0.9019 - val_loss: 1.3322 - val_accuracy: 0.8100\n",
      "Epoch 40/50\n",
      "16/16 [==============================] - 0s 7ms/step - loss: 0.3479 - accuracy: 0.9005 - val_loss: 1.3347 - val_accuracy: 0.8090\n",
      "Epoch 41/50\n",
      "16/16 [==============================] - 0s 7ms/step - loss: 0.3494 - accuracy: 0.9027 - val_loss: 1.3546 - val_accuracy: 0.8100\n",
      "Epoch 42/50\n",
      "16/16 [==============================] - 0s 7ms/step - loss: 0.3358 - accuracy: 0.9044 - val_loss: 1.3569 - val_accuracy: 0.8110\n",
      "Epoch 43/50\n",
      "16/16 [==============================] - 0s 7ms/step - loss: 0.3251 - accuracy: 0.9087 - val_loss: 1.3830 - val_accuracy: 0.8090\n",
      "Epoch 44/50\n",
      "16/16 [==============================] - 0s 7ms/step - loss: 0.3081 - accuracy: 0.9103 - val_loss: 1.3772 - val_accuracy: 0.8120\n",
      "Epoch 45/50\n",
      "16/16 [==============================] - 0s 7ms/step - loss: 0.3168 - accuracy: 0.9090 - val_loss: 1.4273 - val_accuracy: 0.8070\n",
      "Epoch 46/50\n",
      "16/16 [==============================] - 0s 7ms/step - loss: 0.3063 - accuracy: 0.9128 - val_loss: 1.3963 - val_accuracy: 0.8110\n",
      "Epoch 47/50\n",
      "16/16 [==============================] - 0s 7ms/step - loss: 0.3076 - accuracy: 0.9127 - val_loss: 1.4316 - val_accuracy: 0.8100\n",
      "Epoch 48/50\n",
      "16/16 [==============================] - 0s 7ms/step - loss: 0.2944 - accuracy: 0.9149 - val_loss: 1.4241 - val_accuracy: 0.8150\n",
      "Epoch 49/50\n",
      "16/16 [==============================] - 0s 7ms/step - loss: 0.2945 - accuracy: 0.9167 - val_loss: 1.4758 - val_accuracy: 0.8050\n",
      "Epoch 50/50\n",
      "16/16 [==============================] - 0s 8ms/step - loss: 0.2920 - accuracy: 0.9167 - val_loss: 1.4367 - val_accuracy: 0.8020\n"
     ]
    },
    {
     "data": {
      "text/plain": "<keras.src.callbacks.History at 0x7f83003e64d0>"
     },
     "execution_count": 33,
     "metadata": {},
     "output_type": "execute_result"
    }
   ],
   "source": [
    "model = models.Sequential()\n",
    "\n",
    "model.add(layers.Dense(256, activation='relu', input_shape=(10000,)))\n",
    "model.add(layers.Dropout(0.5))\n",
    "model.add(layers.Dense(128, activation='relu'))\n",
    "model.add(layers.Dropout(0.5))\n",
    "model.add(layers.Dense(64, activation='relu'))\n",
    "model.add(layers.Dropout(0.5))\n",
    "model.add(layers.Dense(46, activation='softmax'))\n",
    "\n",
    "model.compile(optimizer='adam', loss='categorical_crossentropy', metrics=['accuracy'])\n",
    "\n",
    "model.fit(partial_x_train, partial_y_train, epochs=50, batch_size=512, validation_data=(x_val, y_val))"
   ],
   "metadata": {
    "collapsed": false,
    "ExecuteTime": {
     "end_time": "2023-12-17T19:01:36.147585187Z",
     "start_time": "2023-12-17T19:01:28.805231110Z"
    }
   },
   "id": "7f32d4ab5a02d6aa"
  },
  {
   "cell_type": "code",
   "execution_count": 34,
   "outputs": [
    {
     "name": "stdout",
     "output_type": "stream",
     "text": [
      "71/71 [==============================] - 0s 1ms/step - loss: 1.6353 - accuracy: 0.7952\n"
     ]
    },
    {
     "data": {
      "text/plain": "[1.635337233543396, 0.7951914668083191]"
     },
     "execution_count": 34,
     "metadata": {},
     "output_type": "execute_result"
    }
   ],
   "source": [
    "model.evaluate(x_test, one_hot_test_labels)"
   ],
   "metadata": {
    "collapsed": false,
    "ExecuteTime": {
     "end_time": "2023-12-17T19:01:41.945127036Z",
     "start_time": "2023-12-17T19:01:41.712599364Z"
    }
   },
   "id": "f03c1f14b210554f"
  },
  {
   "cell_type": "code",
   "execution_count": null,
   "outputs": [],
   "source": [],
   "metadata": {
    "collapsed": false
   },
   "id": "86322722de10cf26"
  }
 ],
 "metadata": {
  "kernelspec": {
   "display_name": "Python 3",
   "language": "python",
   "name": "python3"
  },
  "language_info": {
   "codemirror_mode": {
    "name": "ipython",
    "version": 2
   },
   "file_extension": ".py",
   "mimetype": "text/x-python",
   "name": "python",
   "nbconvert_exporter": "python",
   "pygments_lexer": "ipython2",
   "version": "2.7.6"
  }
 },
 "nbformat": 4,
 "nbformat_minor": 5
}
