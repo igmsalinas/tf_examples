{
 "cells": [
  {
   "cell_type": "code",
   "execution_count": 12,
   "id": "initial_id",
   "metadata": {
    "collapsed": true,
    "ExecuteTime": {
     "end_time": "2023-12-16T13:14:28.406501146Z",
     "start_time": "2023-12-16T13:14:28.175180696Z"
    }
   },
   "outputs": [],
   "source": [
    "from keras.datasets import reuters\n",
    "\n",
    "(train_data, train_labels), (test_data, test_labels) =reuters.load_data(num_words=10000)"
   ]
  },
  {
   "cell_type": "code",
   "execution_count": 2,
   "outputs": [
    {
     "name": "stdout",
     "output_type": "stream",
     "text": [
      "Downloading data from https://storage.googleapis.com/tensorflow/tf-keras-datasets/reuters_word_index.json\n",
      "550378/550378 [==============================] - 0s 0us/step\n"
     ]
    }
   ],
   "source": [
    "word_index = reuters.get_word_index()\n",
    "reverse_word_index = dict([(value, key) for (key, value) in word_index.items()])\n",
    "decoded_newswire = ' '.join([reverse_word_index.get(i-3,'?') for i in train_data[0]])"
   ],
   "metadata": {
    "collapsed": false,
    "ExecuteTime": {
     "end_time": "2023-12-16T13:04:17.164269222Z",
     "start_time": "2023-12-16T13:04:16.916997748Z"
    }
   },
   "id": "49a9699573cfae82"
  },
  {
   "cell_type": "code",
   "execution_count": 3,
   "outputs": [],
   "source": [
    "import numpy as np\n",
    "\n",
    "def vectorize_sequences(sequences, dimension=10000):\n",
    "    results = np.zeros((len(sequences), dimension))\n",
    "    for i, sequence in enumerate(sequences):\n",
    "        results[i, sequence] = 1.\n",
    "    return results\n",
    "\n",
    "x_train = vectorize_sequences(train_data)\n",
    "x_test = vectorize_sequences(test_data)"
   ],
   "metadata": {
    "collapsed": false,
    "ExecuteTime": {
     "end_time": "2023-12-16T13:05:23.976110282Z",
     "start_time": "2023-12-16T13:05:23.731051602Z"
    }
   },
   "id": "641dad396805f886"
  },
  {
   "cell_type": "code",
   "execution_count": 4,
   "outputs": [
    {
     "name": "stderr",
     "output_type": "stream",
     "text": [
      "2023-12-16 14:07:46.324274: I tensorflow/core/common_runtime/gpu/gpu_device.cc:1929] Created device /job:localhost/replica:0/task:0/device:GPU:0 with 1091 MB memory:  -> device: 0, name: NVIDIA GeForce RTX 4070, pci bus id: 0000:2b:00.0, compute capability: 8.9\n"
     ]
    }
   ],
   "source": [
    "from keras import models\n",
    "from keras import layers\n",
    "\n",
    "model = models.Sequential()\n",
    "model.add(layers.Dense(units=64, activation='relu', input_shape=(10000,)))\n",
    "model.add(layers.Dense(units=64, activation='relu'))\n",
    "model.add(layers.Dense(units=46, activation='softmax'))"
   ],
   "metadata": {
    "collapsed": false,
    "ExecuteTime": {
     "end_time": "2023-12-16T13:07:46.376578661Z",
     "start_time": "2023-12-16T13:07:46.158754408Z"
    }
   },
   "id": "3e7ccb06418439fe"
  },
  {
   "cell_type": "code",
   "execution_count": 5,
   "outputs": [],
   "source": [
    "model.compile(loss='categorical_crossentropy', optimizer='rmsprop', metrics=['accuracy'])"
   ],
   "metadata": {
    "collapsed": false,
    "ExecuteTime": {
     "end_time": "2023-12-16T13:09:26.833612245Z",
     "start_time": "2023-12-16T13:09:26.793333213Z"
    }
   },
   "id": "1f999fc1b8c442a4"
  },
  {
   "cell_type": "code",
   "execution_count": 8,
   "outputs": [],
   "source": [
    "x_val = x_train[:1000]\n",
    "partial_x_train = x_train[1000:]"
   ],
   "metadata": {
    "collapsed": false,
    "ExecuteTime": {
     "end_time": "2023-12-16T13:13:38.540152772Z",
     "start_time": "2023-12-16T13:13:38.537742449Z"
    }
   },
   "id": "4caf0cd0d4654c33"
  },
  {
   "cell_type": "code",
   "execution_count": 9,
   "outputs": [],
   "source": [
    "from keras.utils import to_categorical\n",
    "\n",
    "one_hot_train_labels = to_categorical(train_labels)\n",
    "one_hot_test_labels = to_categorical(test_labels)\n",
    "\n",
    "y_val = one_hot_train_labels[:1000]\n",
    "partial_y_train = one_hot_train_labels[1000:]"
   ],
   "metadata": {
    "collapsed": false,
    "ExecuteTime": {
     "end_time": "2023-12-16T13:13:39.066557373Z",
     "start_time": "2023-12-16T13:13:39.064702145Z"
    }
   },
   "id": "aa7d203fcdc13c82"
  },
  {
   "cell_type": "code",
   "execution_count": 11,
   "outputs": [
    {
     "name": "stdout",
     "output_type": "stream",
     "text": [
      "Epoch 1/20\n",
      "16/16 [==============================] - 0s 11ms/step - loss: 0.1274 - accuracy: 0.9584 - val_loss: 0.9540 - val_accuracy: 0.8170\n",
      "Epoch 2/20\n",
      "16/16 [==============================] - 0s 6ms/step - loss: 0.1268 - accuracy: 0.9564 - val_loss: 0.9503 - val_accuracy: 0.8160\n",
      "Epoch 3/20\n",
      "16/16 [==============================] - 0s 6ms/step - loss: 0.1242 - accuracy: 0.9564 - val_loss: 0.9647 - val_accuracy: 0.8160\n",
      "Epoch 4/20\n",
      "16/16 [==============================] - 0s 6ms/step - loss: 0.1211 - accuracy: 0.9567 - val_loss: 0.9453 - val_accuracy: 0.8180\n",
      "Epoch 5/20\n",
      "16/16 [==============================] - 0s 6ms/step - loss: 0.1139 - accuracy: 0.9578 - val_loss: 0.9914 - val_accuracy: 0.8090\n",
      "Epoch 6/20\n",
      "16/16 [==============================] - 0s 6ms/step - loss: 0.1134 - accuracy: 0.9603 - val_loss: 0.9629 - val_accuracy: 0.8170\n",
      "Epoch 7/20\n",
      "16/16 [==============================] - 0s 6ms/step - loss: 0.1109 - accuracy: 0.9587 - val_loss: 0.9683 - val_accuracy: 0.8090\n",
      "Epoch 8/20\n",
      "16/16 [==============================] - 0s 6ms/step - loss: 0.1092 - accuracy: 0.9595 - val_loss: 0.9574 - val_accuracy: 0.8160\n",
      "Epoch 9/20\n",
      "16/16 [==============================] - 0s 6ms/step - loss: 0.1090 - accuracy: 0.9589 - val_loss: 1.0561 - val_accuracy: 0.8070\n",
      "Epoch 10/20\n",
      "16/16 [==============================] - 0s 6ms/step - loss: 0.1092 - accuracy: 0.9575 - val_loss: 1.0080 - val_accuracy: 0.8200\n",
      "Epoch 11/20\n",
      "16/16 [==============================] - 0s 6ms/step - loss: 0.1084 - accuracy: 0.9569 - val_loss: 1.0108 - val_accuracy: 0.8020\n",
      "Epoch 12/20\n",
      "16/16 [==============================] - 0s 6ms/step - loss: 0.1061 - accuracy: 0.9594 - val_loss: 1.0111 - val_accuracy: 0.8200\n",
      "Epoch 13/20\n",
      "16/16 [==============================] - 0s 7ms/step - loss: 0.1008 - accuracy: 0.9607 - val_loss: 1.0049 - val_accuracy: 0.8170\n",
      "Epoch 14/20\n",
      "16/16 [==============================] - 0s 6ms/step - loss: 0.1005 - accuracy: 0.9583 - val_loss: 1.0601 - val_accuracy: 0.8030\n",
      "Epoch 15/20\n",
      "16/16 [==============================] - 0s 6ms/step - loss: 0.1036 - accuracy: 0.9559 - val_loss: 1.0301 - val_accuracy: 0.8100\n",
      "Epoch 16/20\n",
      "16/16 [==============================] - 0s 6ms/step - loss: 0.1033 - accuracy: 0.9562 - val_loss: 1.0866 - val_accuracy: 0.8030\n",
      "Epoch 17/20\n",
      "16/16 [==============================] - 0s 6ms/step - loss: 0.0987 - accuracy: 0.9594 - val_loss: 1.0332 - val_accuracy: 0.8150\n",
      "Epoch 18/20\n",
      "16/16 [==============================] - 0s 7ms/step - loss: 0.0971 - accuracy: 0.9598 - val_loss: 1.0284 - val_accuracy: 0.8150\n",
      "Epoch 19/20\n",
      "16/16 [==============================] - 0s 6ms/step - loss: 0.0972 - accuracy: 0.9589 - val_loss: 1.0734 - val_accuracy: 0.8060\n",
      "Epoch 20/20\n",
      "16/16 [==============================] - 0s 5ms/step - loss: 0.0996 - accuracy: 0.9587 - val_loss: 1.1686 - val_accuracy: 0.7850\n"
     ]
    }
   ],
   "source": [
    "history = model.fit(partial_x_train, partial_y_train, epochs=20, batch_size=512, validation_data=(x_val, y_val))"
   ],
   "metadata": {
    "collapsed": false,
    "ExecuteTime": {
     "end_time": "2023-12-16T13:14:19.362051409Z",
     "start_time": "2023-12-16T13:14:16.687611994Z"
    }
   },
   "id": "40cc608a0f7fdb90"
  },
  {
   "cell_type": "code",
   "execution_count": 13,
   "outputs": [
    {
     "data": {
      "text/plain": "<Figure size 640x480 with 1 Axes>",
      "image/png": "[encoded data removed]"
     },
     "metadata": {},
     "output_type": "display_data"
    }
   ],
   "source": [
    "import matplotlib.pyplot as plt\n",
    "\n",
    "loss = history.history['loss']\n",
    "val_loss = history.history['val_loss']\n",
    "\n",
    "epochs = range(1, len(loss) + 1)\n",
    "\n",
    "plt.plot(epochs, loss, 'bo', label='Training loss')\n",
    "plt.plot(epochs, val_loss, 'b', label='Validation loss')\n",
    "plt.title('Training and validation loss')\n",
    "plt.xlabel('Epochs')\n",
    "plt.ylabel('Loss')\n",
    "plt.legend()\n",
    "\n",
    "plt.show()"
   ],
   "metadata": {
    "collapsed": false,
    "ExecuteTime": {
     "end_time": "2023-12-16T13:16:24.655400673Z",
     "start_time": "2023-12-16T13:16:24.251168010Z"
    }
   },
   "id": "c99833c6e69d6c3a"
  },
  {
   "cell_type": "code",
   "execution_count": null,
   "outputs": [],
   "source": [
    "plt"
   ],
   "metadata": {
    "collapsed": false
   },
   "id": "9c9c926f1c4daf16"
  }
 ],
 "metadata": {
  "kernelspec": {
   "display_name": "Python 3",
   "language": "python",
   "name": "python3"
  },
  "language_info": {
   "codemirror_mode": {
    "name": "ipython",
    "version": 2
   },
   "file_extension": ".py",
   "mimetype": "text/x-python",
   "name": "python",
   "nbconvert_exporter": "python",
   "pygments_lexer": "ipython2",
   "version": "2.7.6"
  }
 },
 "nbformat": 4,
 "nbformat_minor": 5
}
