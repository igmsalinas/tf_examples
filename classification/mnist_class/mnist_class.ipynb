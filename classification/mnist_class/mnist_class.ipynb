{
 "cells": [
  {
   "cell_type": "code",
   "execution_count": 27,
   "id": "initial_id",
   "metadata": {
    "collapsed": true,
    "ExecuteTime": {
     "end_time": "2023-12-19T18:38:34.120525399Z",
     "start_time": "2023-12-19T18:38:34.119195465Z"
    }
   },
   "outputs": [],
   "source": [
    "# Import necessary modules from Keras\n",
    "from keras import models\n",
    "from keras import layers"
   ]
  },
  {
   "cell_type": "code",
   "execution_count": 28,
   "outputs": [],
   "source": [
    "# Create a Sequential model\n",
    "model = models.Sequential()\n",
    "\n",
    "# Add Convolutional and Pooling layers to the model\n",
    "model.add(layers.Conv2D(32, (3, 3), activation='relu', input_shape=(28, 28, 1)))\n",
    "model.add(layers.MaxPooling2D((2, 2)))\n",
    "model.add(layers.Conv2D(64, (3, 3), activation='relu'))\n",
    "model.add(layers.MaxPooling2D((2, 2)))\n",
    "model.add(layers.Conv2D(64, (3, 3), activation='relu'))\n",
    "\n",
    "# Flatten the output and add Dense layers for classification\n",
    "model.add(layers.Flatten())\n",
    "model.add(layers.Dense(64, activation='relu'))\n",
    "model.add(layers.Dense(10, activation='softmax'))"
   ],
   "metadata": {
    "collapsed": false,
    "ExecuteTime": {
     "end_time": "2023-12-19T18:38:34.169884188Z",
     "start_time": "2023-12-19T18:38:34.123955516Z"
    }
   },
   "id": "197c8403b19976a4"
  },
  {
   "cell_type": "code",
   "execution_count": 29,
   "outputs": [
    {
     "name": "stdout",
     "output_type": "stream",
     "text": [
      "Model: \"sequential_7\"\n",
      "_________________________________________________________________\n",
      " Layer (type)                Output Shape              Param #   \n",
      "=================================================================\n",
      " conv2d_28 (Conv2D)          (None, 26, 26, 32)        320       \n",
      "                                                                 \n",
      " max_pooling2d_8 (MaxPoolin  (None, 13, 13, 32)        0         \n",
      " g2D)                                                            \n",
      "                                                                 \n",
      " conv2d_29 (Conv2D)          (None, 11, 11, 64)        18496     \n",
      "                                                                 \n",
      " max_pooling2d_9 (MaxPoolin  (None, 5, 5, 64)          0         \n",
      " g2D)                                                            \n",
      "                                                                 \n",
      " conv2d_30 (Conv2D)          (None, 3, 3, 64)          36928     \n",
      "                                                                 \n",
      " flatten_7 (Flatten)         (None, 576)               0         \n",
      "                                                                 \n",
      " dense_14 (Dense)            (None, 64)                36928     \n",
      "                                                                 \n",
      " dense_15 (Dense)            (None, 10)                650       \n",
      "                                                                 \n",
      "=================================================================\n",
      "Total params: 93322 (364.54 KB)\n",
      "Trainable params: 93322 (364.54 KB)\n",
      "Non-trainable params: 0 (0.00 Byte)\n",
      "_________________________________________________________________\n"
     ]
    }
   ],
   "source": [
    "# Display a summary of the model architecture\n",
    "model.summary()"
   ],
   "metadata": {
    "collapsed": false,
    "ExecuteTime": {
     "end_time": "2023-12-19T18:38:34.213421643Z",
     "start_time": "2023-12-19T18:38:34.212565819Z"
    }
   },
   "id": "199882f185500f83"
  },
  {
   "cell_type": "code",
   "execution_count": 30,
   "outputs": [
    {
     "name": "stdout",
     "output_type": "stream",
     "text": [
      "Epoch 1/6\n",
      "938/938 [==============================] - 2s 2ms/step - loss: 0.1789 - accuracy: 0.9441\n",
      "Epoch 2/6\n",
      "938/938 [==============================] - 2s 2ms/step - loss: 0.0482 - accuracy: 0.9857\n",
      "Epoch 3/6\n",
      "938/938 [==============================] - 2s 2ms/step - loss: 0.0344 - accuracy: 0.9893\n",
      "Epoch 4/6\n",
      "938/938 [==============================] - 2s 2ms/step - loss: 0.0253 - accuracy: 0.9922\n",
      "Epoch 5/6\n",
      "938/938 [==============================] - 2s 2ms/step - loss: 0.0200 - accuracy: 0.9938\n",
      "Epoch 6/6\n",
      "938/938 [==============================] - 2s 2ms/step - loss: 0.0160 - accuracy: 0.9949\n"
     ]
    },
    {
     "data": {
      "text/plain": "<keras.src.callbacks.History at 0x7f69fc2bc110>"
     },
     "execution_count": 30,
     "metadata": {},
     "output_type": "execute_result"
    }
   ],
   "source": [
    "from keras.datasets import mnist\n",
    "from keras.utils import to_categorical\n",
    "\n",
    "# Load the MNIST dataset and preprocess the images and labels\n",
    "(train_images, train_labels), (test_images, test_labels) = mnist.load_data()\n",
    "\n",
    "train_images = train_images.reshape((60000, 28, 28, 1))\n",
    "train_images = train_images.astype('float32') / 255\n",
    "\n",
    "test_images = test_images.reshape((10000, 28, 28, 1))\n",
    "test_images = test_images.astype('float32') / 255\n",
    "\n",
    "train_labels = to_categorical(train_labels)\n",
    "test_labels = to_categorical(test_labels)\n",
    "\n",
    "# Compile the model with specified optimizer, loss function, and metrics\n",
    "model.compile(optimizer='rmsprop', loss='categorical_crossentropy', metrics=['accuracy'])\n",
    "\n",
    "# Train the model on the training data\n",
    "model.fit(train_images, train_labels, epochs=6, batch_size=64)"
   ],
   "metadata": {
    "collapsed": false,
    "ExecuteTime": {
     "end_time": "2023-12-19T18:38:46.713248782Z",
     "start_time": "2023-12-19T18:38:34.212933243Z"
    }
   },
   "id": "4494d51c5ffe2497"
  },
  {
   "cell_type": "code",
   "execution_count": 31,
   "outputs": [
    {
     "name": "stdout",
     "output_type": "stream",
     "text": [
      "313/313 [==============================] - 0s 940us/step - loss: 0.0292 - accuracy: 0.9920\n"
     ]
    }
   ],
   "source": [
    "# Evaluate the trained model on the test data\n",
    "test_loss, test_acc = model.evaluate(test_images, test_labels)"
   ],
   "metadata": {
    "collapsed": false,
    "ExecuteTime": {
     "end_time": "2023-12-19T18:38:47.156563722Z",
     "start_time": "2023-12-19T18:38:46.712801761Z"
    }
   },
   "id": "dfd6abbde50aca7c"
  },
  {
   "cell_type": "code",
   "execution_count": 32,
   "outputs": [
    {
     "data": {
      "text/plain": "0.9919999837875366"
     },
     "execution_count": 32,
     "metadata": {},
     "output_type": "execute_result"
    }
   ],
   "source": [
    "# Display the test accuracy\n",
    "test_acc"
   ],
   "metadata": {
    "collapsed": false,
    "ExecuteTime": {
     "end_time": "2023-12-19T18:38:47.157031022Z",
     "start_time": "2023-12-19T18:38:47.156522493Z"
    }
   },
   "id": "cdec04fe48a5d834"
  },
  {
   "cell_type": "code",
   "execution_count": 38,
   "outputs": [
    {
     "name": "stdout",
     "output_type": "stream",
     "text": [
      "Model: \"sequential_9\"\n",
      "_________________________________________________________________\n",
      " Layer (type)                Output Shape              Param #   \n",
      "=================================================================\n",
      " conv2d_37 (Conv2D)          (None, 28, 28, 16)        160       \n",
      "                                                                 \n",
      " conv2d_38 (Conv2D)          (None, 14, 14, 16)        272       \n",
      "                                                                 \n",
      " conv2d_39 (Conv2D)          (None, 14, 14, 32)        4640      \n",
      "                                                                 \n",
      " conv2d_40 (Conv2D)          (None, 7, 7, 32)          1056      \n",
      "                                                                 \n",
      " conv2d_41 (Conv2D)          (None, 7, 7, 128)         36992     \n",
      "                                                                 \n",
      " conv2d_42 (Conv2D)          (None, 4, 4, 128)         16512     \n",
      "                                                                 \n",
      " flatten_9 (Flatten)         (None, 2048)              0         \n",
      "                                                                 \n",
      " dense_18 (Dense)            (None, 64)                131136    \n",
      "                                                                 \n",
      " dense_19 (Dense)            (None, 10)                650       \n",
      "                                                                 \n",
      "=================================================================\n",
      "Total params: 191418 (747.73 KB)\n",
      "Trainable params: 191418 (747.73 KB)\n",
      "Non-trainable params: 0 (0.00 Byte)\n",
      "_________________________________________________________________\n"
     ]
    }
   ],
   "source": [
    "# Create a new Sequential model with additional Convolutional layers and dimensionality reduction through strides\n",
    "model = models.Sequential()\n",
    "model.add(layers.Conv2D(16, (3, 3), activation='relu', input_shape=(28, 28, 1), padding='same'))\n",
    "model.add(layers.Conv2D(16, (1, 1), activation='relu', strides=(2, 2), padding='same'))\n",
    "model.add(layers.Conv2D(32, (3, 3), activation='relu', padding='same'))\n",
    "model.add(layers.Conv2D(32, (1, 1), activation='relu', strides=(2, 2), padding='same'))\n",
    "model.add(layers.Conv2D(128, (3, 3), activation='relu', padding='same'))\n",
    "model.add(layers.Conv2D(128, (1, 1), activation='relu', strides=(2, 2), padding='same'))\n",
    "\n",
    "# Flatten the output and add Dense layers for classification\n",
    "model.add(layers.Flatten())\n",
    "model.add(layers.Dense(64, activation='relu'))\n",
    "model.add(layers.Dense(10, activation='softmax'))\n",
    "\n",
    "# Display a summary of the new model architecture\n",
    "model.summary()"
   ],
   "metadata": {
    "collapsed": false,
    "ExecuteTime": {
     "end_time": "2023-12-19T18:42:08.777656485Z",
     "start_time": "2023-12-19T18:42:08.671164790Z"
    }
   },
   "id": "eed19c2bc80ebd13"
  },
  {
   "cell_type": "code",
   "execution_count": 39,
   "outputs": [
    {
     "name": "stdout",
     "output_type": "stream",
     "text": [
      "Epoch 1/6\n",
      "938/938 [==============================] - 5s 3ms/step - loss: 0.2231 - accuracy: 0.9307\n",
      "Epoch 2/6\n",
      "938/938 [==============================] - 2s 3ms/step - loss: 0.0644 - accuracy: 0.9804\n",
      "Epoch 3/6\n",
      "938/938 [==============================] - 3s 3ms/step - loss: 0.0453 - accuracy: 0.9857\n",
      "Epoch 4/6\n",
      "938/938 [==============================] - 3s 3ms/step - loss: 0.0339 - accuracy: 0.9894\n",
      "Epoch 5/6\n",
      "938/938 [==============================] - 2s 3ms/step - loss: 0.0277 - accuracy: 0.9909\n",
      "Epoch 6/6\n",
      "938/938 [==============================] - 3s 3ms/step - loss: 0.0236 - accuracy: 0.9923\n"
     ]
    },
    {
     "data": {
      "text/plain": "<keras.src.callbacks.History at 0x7f69b4638b90>"
     },
     "execution_count": 39,
     "metadata": {},
     "output_type": "execute_result"
    }
   ],
   "source": [
    "# Compile the new model with specified optimizer, loss function, and metrics\n",
    "model.compile(optimizer='adam', loss='categorical_crossentropy', metrics=['accuracy'])\n",
    "\n",
    "# Train the new model on the training data with more epochs\n",
    "model.fit(train_images, train_labels, epochs=6, batch_size=64)"
   ],
   "metadata": {
    "collapsed": false,
    "ExecuteTime": {
     "end_time": "2023-12-19T18:42:33.792747506Z",
     "start_time": "2023-12-19T18:42:16.247482474Z"
    }
   },
   "id": "7daa70005f0c0fcb"
  },
  {
   "cell_type": "code",
   "execution_count": 40,
   "outputs": [
    {
     "name": "stdout",
     "output_type": "stream",
     "text": [
      "313/313 [==============================] - 1s 1ms/step - loss: 0.0446 - accuracy: 0.9863\n"
     ]
    },
    {
     "data": {
      "text/plain": "0.986299991607666"
     },
     "execution_count": 40,
     "metadata": {},
     "output_type": "execute_result"
    }
   ],
   "source": [
    "# Evaluate the new model on the test data\n",
    "test_loss, test_acc = model.evaluate(test_images, test_labels)\n",
    "\n",
    "# Display the test accuracy for the new model\n",
    "test_acc"
   ],
   "metadata": {
    "collapsed": false,
    "ExecuteTime": {
     "end_time": "2023-12-19T18:42:36.272687393Z",
     "start_time": "2023-12-19T18:42:35.563712906Z"
    }
   },
   "id": "e787df1645188bee"
  }
 ],
 "metadata": {
  "kernelspec": {
   "display_name": "Python 3",
   "language": "python",
   "name": "python3"
  },
  "language_info": {
   "codemirror_mode": {
    "name": "ipython",
    "version": 2
   },
   "file_extension": ".py",
   "mimetype": "text/x-python",
   "name": "python",
   "nbconvert_exporter": "python",
   "pygments_lexer": "ipython2",
   "version": "2.7.6"
  }
 },
 "nbformat": 4,
 "nbformat_minor": 5
}
