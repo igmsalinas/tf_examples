{
 "cells": [
  {
   "cell_type": "code",
   "execution_count": 2,
   "id": "initial_id",
   "metadata": {
    "collapsed": true,
    "ExecuteTime": {
     "end_time": "2023-12-17T19:15:42.946293082Z",
     "start_time": "2023-12-17T19:15:42.944456345Z"
    }
   },
   "outputs": [],
   "source": [
    "# Import necessary libraries\n",
    "from keras.datasets import boston_housing\n",
    "\n",
    "# Load the Boston Housing dataset\n",
    "(train_data, train_targets), (test_data, test_targets) = boston_housing.load_data()"
   ]
  },
  {
   "cell_type": "code",
   "execution_count": 3,
   "outputs": [
    {
     "name": "stdout",
     "output_type": "stream",
     "text": [
      "(404, 13)\n",
      "(102, 13)\n"
     ]
    }
   ],
   "source": [
    "# Display the shapes of the training and test data\n",
    "print(train_data.shape)\n",
    "print(test_data.shape)"
   ],
   "metadata": {
    "collapsed": false,
    "ExecuteTime": {
     "end_time": "2023-12-17T19:16:04.454279092Z",
     "start_time": "2023-12-17T19:16:04.451939461Z"
    }
   },
   "id": "6b5db58f29b2f30e"
  },
  {
   "cell_type": "code",
   "execution_count": 5,
   "outputs": [
    {
     "data": {
      "text/plain": "array([15.2, 42.3, 50. , 21.1, 17.7, 18.5, 11.3, 15.6, 15.6, 14.4])"
     },
     "execution_count": 5,
     "metadata": {},
     "output_type": "execute_result"
    }
   ],
   "source": [
    "# Display the first 10 training targets in thousands of dollars\n",
    "train_targets[:10]"
   ],
   "metadata": {
    "collapsed": false,
    "ExecuteTime": {
     "end_time": "2023-12-17T19:16:39.535607193Z",
     "start_time": "2023-12-17T19:16:39.493954644Z"
    }
   },
   "id": "4a764b1fcb0b67bd"
  },
  {
   "cell_type": "code",
   "execution_count": 6,
   "outputs": [],
   "source": [
    "# Normalize the data by subtracting mean and dividing by standard deviation of each of the features\n",
    "mean = train_data.mean(axis=0)\n",
    "train_data -= mean\n",
    "std = train_data.std(axis=0)\n",
    "train_data /= std\n",
    "\n",
    "test_data -= mean\n",
    "test_data /= std"
   ],
   "metadata": {
    "collapsed": false,
    "ExecuteTime": {
     "end_time": "2023-12-17T19:17:31.347486007Z",
     "start_time": "2023-12-17T19:17:31.306961936Z"
    }
   },
   "id": "9fbd9b82e422f227"
  },
  {
   "cell_type": "code",
   "execution_count": 12,
   "outputs": [],
   "source": [
    "from keras import models\n",
    "from keras import layers\n",
    "\n",
    "# Function to build a simple neural network model\n",
    "def build_model():\n",
    "    model = models.Sequential()\n",
    "    model.add(layers.Dense(units=64, activation='relu', input_shape=(train_data.shape[1],)))\n",
    "    model.add(layers.Dense(units=64, activation='relu'))\n",
    "    model.add(layers.Dense(units=1))\n",
    "    model.compile(optimizer='rmsprop', loss='mse', metrics=['mae'])\n",
    "    return model\n"
   ],
   "metadata": {
    "collapsed": false,
    "ExecuteTime": {
     "end_time": "2023-12-17T19:38:59.271304945Z",
     "start_time": "2023-12-17T19:38:59.180668785Z"
    }
   },
   "id": "f5d68ff5f273e90d"
  },
  {
   "cell_type": "code",
   "execution_count": 13,
   "outputs": [],
   "source": [
    "import numpy as np\n",
    "\n",
    "# Number of folds for k-fold cross-validation\n",
    "k = 4\n",
    "num_val_samples = len(train_data) // k\n",
    "num_epochs = 100\n",
    "all_scores = []"
   ],
   "metadata": {
    "collapsed": false,
    "ExecuteTime": {
     "end_time": "2023-12-17T19:38:59.689138536Z",
     "start_time": "2023-12-17T19:38:59.686990479Z"
    }
   },
   "id": "2e11ea90dc5b73b9"
  },
  {
   "cell_type": "code",
   "execution_count": 14,
   "outputs": [
    {
     "name": "stderr",
     "output_type": "stream",
     "text": [
      "100%|██████████| 4/4 [02:06<00:00, 31.54s/it]\n"
     ]
    }
   ],
   "source": [
    "from tqdm import tqdm\n",
    "# Perform k-fold cross-validation\n",
    "for i in tqdm(range (k)):\n",
    "    val_data = train_data[i*num_val_samples:(i+1)*num_val_samples]\n",
    "    val_targets = train_targets[i*num_val_samples: (i+1)*num_val_samples]\n",
    "    \n",
    "    partial_train_data = np.concatenate([train_data[:i * num_val_samples], train_data[(i+1) *num_val_samples:]], axis=0)\n",
    "    partial_train_targets = np.concatenate([train_targets[:i * num_val_samples], train_targets[(i+1) *num_val_samples:]], axis=0)\n",
    "    \n",
    "    model = build_model()\n",
    "    model.fit(partial_train_data, partial_train_targets, epochs=num_epochs, batch_size=1, verbose=0)\n",
    "    val_loss, val_mae = model.evaluate(val_data, val_targets, verbose=0)\n",
    "    all_scores.append(val_mae)\n",
    "    "
   ],
   "metadata": {
    "collapsed": false,
    "ExecuteTime": {
     "end_time": "2023-12-17T19:42:21.111571182Z",
     "start_time": "2023-12-17T19:40:14.895261039Z"
    }
   },
   "id": "2820cd0bdcb4f9c8"
  },
  {
   "cell_type": "code",
   "execution_count": 15,
   "outputs": [
    {
     "name": "stdout",
     "output_type": "stream",
     "text": [
      "[2.214121103286743, 2.726698160171509, 2.5410232543945312, 2.667909622192383]\n"
     ]
    }
   ],
   "source": [
    "# Display the validation MAE scores for each fold\n",
    "print(all_scores)"
   ],
   "metadata": {
    "collapsed": false,
    "ExecuteTime": {
     "end_time": "2023-12-17T19:42:25.044441158Z",
     "start_time": "2023-12-17T19:42:25.042352845Z"
    }
   },
   "id": "9cf617e72e15f3ae"
  },
  {
   "cell_type": "code",
   "execution_count": 16,
   "outputs": [
    {
     "data": {
      "text/plain": "2.5374380350112915"
     },
     "execution_count": 16,
     "metadata": {},
     "output_type": "execute_result"
    }
   ],
   "source": [
    "# Calculate the average validation MAE\n",
    "np.mean(all_scores)"
   ],
   "metadata": {
    "collapsed": false,
    "ExecuteTime": {
     "end_time": "2023-12-17T19:42:27.993942102Z",
     "start_time": "2023-12-17T19:42:27.991901549Z"
    }
   },
   "id": "9e0ce1e4709225f"
  },
  {
   "cell_type": "code",
   "execution_count": 18,
   "outputs": [
    {
     "name": "stderr",
     "output_type": "stream",
     "text": [
      "100%|██████████| 4/4 [11:34<00:00, 173.53s/it]\n"
     ]
    }
   ],
   "source": [
    "# Increase the number of epochs for better analysis, will take some time\n",
    "num_epochs = 500\n",
    "all_mae_histories = []\n",
    "# Perform k-fold cross-validation with extended epochs and record MAE history\n",
    "for i in tqdm(range(k)):\n",
    "    val_data = train_data[i*num_val_samples:(i+1)*num_val_samples]\n",
    "    val_targets = train_targets[i*num_val_samples:(i+1)*num_val_samples]\n",
    "    \n",
    "    partial_train_data = np.concatenate([train_data[:i * num_val_samples], train_data[(i + 1) *num_val_samples:]], axis=0)\n",
    "    partial_train_targets = np.concatenate([train_targets[:i*num_val_samples], train_targets[(i + 1) *num_val_samples:]], axis=0)\n",
    "    model = build_model()\n",
    "    history = model.fit(partial_train_data, partial_train_targets, validation_data=(val_data, val_targets), epochs=num_epochs, batch_size=1, verbose=0)\n",
    "    mae = history.history['val_mae']\n",
    "    all_mae_histories.append(mae)"
   ],
   "metadata": {
    "collapsed": false,
    "ExecuteTime": {
     "end_time": "2023-12-17T20:00:03.375530955Z",
     "start_time": "2023-12-17T19:48:29.222201151Z"
    }
   },
   "id": "d1513c56e40c3656"
  },
  {
   "cell_type": "code",
   "execution_count": 21,
   "outputs": [],
   "source": [
    "# Average MAE over all epochs with comprehension\n",
    "average_mae = [np.mean([x[i] for x in all_mae_histories]) for i in range(num_epochs)]"
   ],
   "metadata": {
    "collapsed": false,
    "ExecuteTime": {
     "end_time": "2023-12-17T20:03:35.608729961Z",
     "start_time": "2023-12-17T20:03:35.567057268Z"
    }
   },
   "id": "4ace0e7ae48fa62a"
  },
  {
   "cell_type": "code",
   "execution_count": 22,
   "outputs": [
    {
     "data": {
      "text/plain": "<Figure size 640x480 with 1 Axes>",
      "image/png": "[encoded data removed]"
     },
     "metadata": {},
     "output_type": "display_data"
    }
   ],
   "source": [
    "import matplotlib.pyplot as plt\n",
    "\n",
    "# Plotting the validation MAE over epochs\n",
    "plt.plot(range(1, len(average_mae) + 1), average_mae)\n",
    "plt.xlabel('Epochs')\n",
    "plt.ylabel('Val MAE')\n",
    "plt.show()"
   ],
   "metadata": {
    "collapsed": false,
    "ExecuteTime": {
     "end_time": "2023-12-17T20:03:36.128343732Z",
     "start_time": "2023-12-17T20:03:36.084621671Z"
    }
   },
   "id": "13f66ed8e014b0e9"
  },
  {
   "cell_type": "code",
   "execution_count": 27,
   "outputs": [],
   "source": [
    "# Function to smooth the curve for better visualization\n",
    "def smooth_curve(points, smoothing_factor=0.9):\n",
    "    smoothed_points = []\n",
    "    for point in points:\n",
    "        if smoothed_points:\n",
    "            prev_smooth = smoothed_points[-1]\n",
    "            smoothed_points.append(prev_smooth * smoothing_factor + point * (1 - smoothing_factor))\n",
    "        else:\n",
    "            smoothed_points.append(point)\n",
    "    return smoothed_points"
   ],
   "metadata": {
    "collapsed": false,
    "ExecuteTime": {
     "end_time": "2023-12-17T20:08:07.299496485Z",
     "start_time": "2023-12-17T20:08:07.258195284Z"
    }
   },
   "id": "f0a55c7977f27c02"
  },
  {
   "cell_type": "code",
   "execution_count": 28,
   "outputs": [
    {
     "data": {
      "text/plain": "<Figure size 640x480 with 1 Axes>",
      "image/png": "[encoded data removed]"
     },
     "metadata": {},
     "output_type": "display_data"
    }
   ],
   "source": [
    "# Smoothed validation MAE curve\n",
    "smoothed_points = smooth_curve(average_mae[10:])\n",
    "plt.plot(range(1, len(smoothed_points) + 1), smoothed_points)\n",
    "plt.xlabel('Epochs')\n",
    "plt.ylabel('Val MAE')\n",
    "plt.show()"
   ],
   "metadata": {
    "collapsed": false,
    "ExecuteTime": {
     "end_time": "2023-12-17T20:08:07.777826350Z",
     "start_time": "2023-12-17T20:08:07.715703321Z"
    }
   },
   "id": "f772cd4903c664e2"
  },
  {
   "cell_type": "code",
   "execution_count": 35,
   "outputs": [
    {
     "name": "stdout",
     "output_type": "stream",
     "text": [
      "Epoch 1/80\n",
      "26/26 [==============================] - 0s 1ms/step - loss: 472.6081 - mae: 19.7706\n",
      "Epoch 2/80\n",
      "26/26 [==============================] - 0s 1ms/step - loss: 289.7953 - mae: 14.7737\n",
      "Epoch 3/80\n",
      "26/26 [==============================] - 0s 2ms/step - loss: 131.9763 - mae: 9.3805\n",
      "Epoch 4/80\n",
      "26/26 [==============================] - 0s 2ms/step - loss: 62.3635 - mae: 5.9950\n",
      "Epoch 5/80\n",
      "26/26 [==============================] - 0s 2ms/step - loss: 39.8102 - mae: 4.6083\n",
      "Epoch 6/80\n",
      "26/26 [==============================] - 0s 2ms/step - loss: 29.6495 - mae: 3.8479\n",
      "Epoch 7/80\n",
      "26/26 [==============================] - 0s 2ms/step - loss: 24.4207 - mae: 3.4706\n",
      "Epoch 8/80\n",
      "26/26 [==============================] - 0s 2ms/step - loss: 21.4755 - mae: 3.1979\n",
      "Epoch 9/80\n",
      "26/26 [==============================] - 0s 2ms/step - loss: 19.4628 - mae: 3.0359\n",
      "Epoch 10/80\n",
      "26/26 [==============================] - 0s 2ms/step - loss: 17.5786 - mae: 2.8928\n",
      "Epoch 11/80\n",
      "26/26 [==============================] - 0s 2ms/step - loss: 16.4455 - mae: 2.7613\n",
      "Epoch 12/80\n",
      "26/26 [==============================] - 0s 2ms/step - loss: 15.0197 - mae: 2.6514\n",
      "Epoch 13/80\n",
      "26/26 [==============================] - 0s 2ms/step - loss: 14.2116 - mae: 2.5709\n",
      "Epoch 14/80\n",
      "26/26 [==============================] - 0s 2ms/step - loss: 13.3020 - mae: 2.4789\n",
      "Epoch 15/80\n",
      "26/26 [==============================] - 0s 2ms/step - loss: 12.8731 - mae: 2.4582\n",
      "Epoch 16/80\n",
      "26/26 [==============================] - 0s 2ms/step - loss: 12.2248 - mae: 2.4083\n",
      "Epoch 17/80\n",
      "26/26 [==============================] - 0s 2ms/step - loss: 11.6023 - mae: 2.3625\n",
      "Epoch 18/80\n",
      "26/26 [==============================] - 0s 2ms/step - loss: 11.3808 - mae: 2.3292\n",
      "Epoch 19/80\n",
      "26/26 [==============================] - 0s 2ms/step - loss: 11.3038 - mae: 2.3418\n",
      "Epoch 20/80\n",
      "26/26 [==============================] - 0s 2ms/step - loss: 10.8872 - mae: 2.2949\n",
      "Epoch 21/80\n",
      "26/26 [==============================] - 0s 2ms/step - loss: 10.6666 - mae: 2.2794\n",
      "Epoch 22/80\n",
      "26/26 [==============================] - 0s 2ms/step - loss: 10.3855 - mae: 2.2274\n",
      "Epoch 23/80\n",
      "26/26 [==============================] - 0s 2ms/step - loss: 10.1507 - mae: 2.2579\n",
      "Epoch 24/80\n",
      "26/26 [==============================] - 0s 2ms/step - loss: 10.0609 - mae: 2.2384\n",
      "Epoch 25/80\n",
      "26/26 [==============================] - 0s 2ms/step - loss: 9.8242 - mae: 2.1958\n",
      "Epoch 26/80\n",
      "26/26 [==============================] - 0s 2ms/step - loss: 9.7444 - mae: 2.1759\n",
      "Epoch 27/80\n",
      "26/26 [==============================] - 0s 2ms/step - loss: 9.6020 - mae: 2.1849\n",
      "Epoch 28/80\n",
      "26/26 [==============================] - 0s 2ms/step - loss: 9.4119 - mae: 2.1604\n",
      "Epoch 29/80\n",
      "26/26 [==============================] - 0s 2ms/step - loss: 9.4622 - mae: 2.1509\n",
      "Epoch 30/80\n",
      "26/26 [==============================] - 0s 2ms/step - loss: 9.1436 - mae: 2.0971\n",
      "Epoch 31/80\n",
      "26/26 [==============================] - 0s 2ms/step - loss: 9.0948 - mae: 2.1227\n",
      "Epoch 32/80\n",
      "26/26 [==============================] - 0s 1ms/step - loss: 8.9507 - mae: 2.1031\n",
      "Epoch 33/80\n",
      "26/26 [==============================] - 0s 2ms/step - loss: 8.7455 - mae: 2.0960\n",
      "Epoch 34/80\n",
      "26/26 [==============================] - 0s 2ms/step - loss: 8.5536 - mae: 2.0421\n",
      "Epoch 35/80\n",
      "26/26 [==============================] - 0s 2ms/step - loss: 8.7593 - mae: 2.0737\n",
      "Epoch 36/80\n",
      "26/26 [==============================] - 0s 2ms/step - loss: 8.4547 - mae: 2.0647\n",
      "Epoch 37/80\n",
      "26/26 [==============================] - 0s 2ms/step - loss: 8.4411 - mae: 2.0637\n",
      "Epoch 38/80\n",
      "26/26 [==============================] - 0s 2ms/step - loss: 8.2683 - mae: 2.0094\n",
      "Epoch 39/80\n",
      "26/26 [==============================] - 0s 2ms/step - loss: 8.2583 - mae: 2.0172\n",
      "Epoch 40/80\n",
      "26/26 [==============================] - 0s 1ms/step - loss: 8.2842 - mae: 2.0447\n",
      "Epoch 41/80\n",
      "26/26 [==============================] - 0s 1ms/step - loss: 7.9167 - mae: 1.9738\n",
      "Epoch 42/80\n",
      "26/26 [==============================] - 0s 2ms/step - loss: 7.8941 - mae: 1.9993\n",
      "Epoch 43/80\n",
      "26/26 [==============================] - 0s 2ms/step - loss: 8.1989 - mae: 2.0441\n",
      "Epoch 44/80\n",
      "26/26 [==============================] - 0s 2ms/step - loss: 7.9978 - mae: 1.9816\n",
      "Epoch 45/80\n",
      "26/26 [==============================] - 0s 2ms/step - loss: 7.7700 - mae: 1.9264\n",
      "Epoch 46/80\n",
      "26/26 [==============================] - 0s 1ms/step - loss: 7.8773 - mae: 1.9680\n",
      "Epoch 47/80\n",
      "26/26 [==============================] - 0s 2ms/step - loss: 7.6744 - mae: 1.9326\n",
      "Epoch 48/80\n",
      "26/26 [==============================] - 0s 1ms/step - loss: 7.7526 - mae: 1.9542\n",
      "Epoch 49/80\n",
      "26/26 [==============================] - 0s 2ms/step - loss: 7.5049 - mae: 1.9569\n",
      "Epoch 50/80\n",
      "26/26 [==============================] - 0s 2ms/step - loss: 7.4001 - mae: 1.9318\n",
      "Epoch 51/80\n",
      "26/26 [==============================] - 0s 2ms/step - loss: 7.4592 - mae: 1.9256\n",
      "Epoch 52/80\n",
      "26/26 [==============================] - 0s 1ms/step - loss: 7.5224 - mae: 1.9509\n",
      "Epoch 53/80\n",
      "26/26 [==============================] - 0s 2ms/step - loss: 7.0955 - mae: 1.9028\n",
      "Epoch 54/80\n",
      "26/26 [==============================] - 0s 2ms/step - loss: 7.2917 - mae: 1.9170\n",
      "Epoch 55/80\n",
      "26/26 [==============================] - 0s 2ms/step - loss: 7.3005 - mae: 1.9230\n",
      "Epoch 56/80\n",
      "26/26 [==============================] - 0s 2ms/step - loss: 7.0951 - mae: 1.8876\n",
      "Epoch 57/80\n",
      "26/26 [==============================] - 0s 2ms/step - loss: 7.0484 - mae: 1.8788\n",
      "Epoch 58/80\n",
      "26/26 [==============================] - 0s 2ms/step - loss: 6.8573 - mae: 1.8970\n",
      "Epoch 59/80\n",
      "26/26 [==============================] - 0s 2ms/step - loss: 6.9379 - mae: 1.8604\n",
      "Epoch 60/80\n",
      "26/26 [==============================] - 0s 2ms/step - loss: 7.0686 - mae: 1.8265\n",
      "Epoch 61/80\n",
      "26/26 [==============================] - 0s 2ms/step - loss: 6.6570 - mae: 1.8616\n",
      "Epoch 62/80\n",
      "26/26 [==============================] - 0s 2ms/step - loss: 6.8584 - mae: 1.8777\n",
      "Epoch 63/80\n",
      "26/26 [==============================] - 0s 2ms/step - loss: 6.6743 - mae: 1.8199\n",
      "Epoch 64/80\n",
      "26/26 [==============================] - 0s 2ms/step - loss: 6.8995 - mae: 1.8435\n",
      "Epoch 65/80\n",
      "26/26 [==============================] - 0s 2ms/step - loss: 6.6426 - mae: 1.8201\n",
      "Epoch 66/80\n",
      "26/26 [==============================] - 0s 2ms/step - loss: 6.7476 - mae: 1.8214\n",
      "Epoch 67/80\n",
      "26/26 [==============================] - 0s 2ms/step - loss: 6.4890 - mae: 1.8164\n",
      "Epoch 68/80\n",
      "26/26 [==============================] - 0s 1ms/step - loss: 6.6199 - mae: 1.7969\n",
      "Epoch 69/80\n",
      "26/26 [==============================] - 0s 1ms/step - loss: 6.2775 - mae: 1.7952\n",
      "Epoch 70/80\n",
      "26/26 [==============================] - 0s 1ms/step - loss: 6.4979 - mae: 1.8290\n",
      "Epoch 71/80\n",
      "26/26 [==============================] - 0s 2ms/step - loss: 6.3527 - mae: 1.7900\n",
      "Epoch 72/80\n",
      "26/26 [==============================] - 0s 1ms/step - loss: 6.4804 - mae: 1.8080\n",
      "Epoch 73/80\n",
      "26/26 [==============================] - 0s 2ms/step - loss: 6.2480 - mae: 1.7614\n",
      "Epoch 74/80\n",
      "26/26 [==============================] - 0s 2ms/step - loss: 6.1521 - mae: 1.7865\n",
      "Epoch 75/80\n",
      "26/26 [==============================] - 0s 2ms/step - loss: 6.1340 - mae: 1.7571\n",
      "Epoch 76/80\n",
      "26/26 [==============================] - 0s 1ms/step - loss: 6.2336 - mae: 1.7774\n",
      "Epoch 77/80\n",
      "26/26 [==============================] - 0s 2ms/step - loss: 6.2741 - mae: 1.8105\n",
      "Epoch 78/80\n",
      "26/26 [==============================] - 0s 1ms/step - loss: 6.0599 - mae: 1.7636\n",
      "Epoch 79/80\n",
      "26/26 [==============================] - 0s 2ms/step - loss: 6.0823 - mae: 1.7485\n",
      "Epoch 80/80\n",
      "26/26 [==============================] - 0s 2ms/step - loss: 5.9514 - mae: 1.7247\n",
      "4/4 [==============================] - 0s 2ms/step - loss: 15.8487 - mae: 2.4826\n"
     ]
    }
   ],
   "source": [
    "# Train the final model with optimal number of epochs and evaluate on the test set\n",
    "model = build_model()\n",
    "model.fit(train_data, train_targets, epochs=80, batch_size=16)\n",
    "test_mse, test_mae = model.evaluate(test_data, test_targets)"
   ],
   "metadata": {
    "collapsed": false,
    "ExecuteTime": {
     "end_time": "2023-12-17T20:10:18.081384391Z",
     "start_time": "2023-12-17T20:10:14.227509629Z"
    }
   },
   "id": "4b69ca68c3a86646"
  },
  {
   "cell_type": "code",
   "execution_count": 36,
   "outputs": [
    {
     "data": {
      "text/plain": "2.482614517211914"
     },
     "execution_count": 36,
     "metadata": {},
     "output_type": "execute_result"
    }
   ],
   "source": [
    "# Display the final test MAE\n",
    "test_mae"
   ],
   "metadata": {
    "collapsed": false,
    "ExecuteTime": {
     "end_time": "2023-12-17T20:10:20.637289479Z",
     "start_time": "2023-12-17T20:10:20.635186672Z"
    }
   },
   "id": "160c1b715ab5bdaf"
  }
 ],
 "metadata": {
  "kernelspec": {
   "display_name": "Python 3",
   "language": "python",
   "name": "python3"
  },
  "language_info": {
   "codemirror_mode": {
    "name": "ipython",
    "version": 2
   },
   "file_extension": ".py",
   "mimetype": "text/x-python",
   "name": "python",
   "nbconvert_exporter": "python",
   "pygments_lexer": "ipython2",
   "version": "2.7.6"
  }
 },
 "nbformat": 4,
 "nbformat_minor": 5
}
