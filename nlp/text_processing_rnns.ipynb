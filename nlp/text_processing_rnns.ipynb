{
 "cells": [
  {
   "cell_type": "code",
   "execution_count": 1,
   "id": "initial_id",
   "metadata": {
    "collapsed": true,
    "ExecuteTime": {
     "end_time": "2023-12-28T11:16:22.929070398Z",
     "start_time": "2023-12-28T11:16:22.920195826Z"
    }
   },
   "outputs": [],
   "source": [
    "import string"
   ]
  },
  {
   "cell_type": "code",
   "outputs": [],
   "source": [
    "class Vectorizer:\n",
    "    def standardize(self, text):\n",
    "        text = text.lower()\n",
    "        return \"\".join(char for char in text if char not in string.punctuation)\n",
    "    \n",
    "    def tokenize(self, text):\n",
    "        text = self.standardize(text)\n",
    "        return text.split()\n",
    "    \n",
    "    def make_vocab(self, dataset):\n",
    "        self.vocab = {\"\": 0, \"[UNK]\": 1}\n",
    "        for text in dataset:\n",
    "            tokens = self.tokenize(text)\n",
    "            for token in tokens:\n",
    "                if token not in self.vocab:\n",
    "                    self.vocab[token] = len(self.vocab)\n",
    "        self.inverse_vocab = dict(\n",
    "            (v, k) for k, v in self.vocab.items()\n",
    "        )\n",
    "        \n",
    "    def encode(self, text):\n",
    "        tokens = self.tokenize(text)\n",
    "        return [self.vocab.get(token, 1) for token in tokens]\n",
    "    \n",
    "    def decode(self, int_sequence):\n",
    "        return \" \".join(\n",
    "            self.inverse_vocab.get(i, \"[UNK]\") for i in int_sequence\n",
    "        )"
   ],
   "metadata": {
    "collapsed": false,
    "ExecuteTime": {
     "end_time": "2023-12-28T11:26:47.155796280Z",
     "start_time": "2023-12-28T11:26:47.112680701Z"
    }
   },
   "id": "7cb3c181c56d05a8",
   "execution_count": 2
  },
  {
   "cell_type": "code",
   "outputs": [],
   "source": [
    "vectorizer = Vectorizer()\n",
    "dataset = [\n",
    "    \"Out of the mid-wood's twilight\",\n",
    "    \"Into the meadow's dawn\",\n",
    "    \"Ivory limbed and brown-eyed\",\n",
    "    \"Flashes my Faun!\",\n",
    "]\n",
    "vectorizer.make_vocab(dataset)"
   ],
   "metadata": {
    "collapsed": false,
    "ExecuteTime": {
     "end_time": "2023-12-28T11:30:36.915811157Z",
     "start_time": "2023-12-28T11:30:36.874962857Z"
    }
   },
   "id": "fc69a133e20c8d3a",
   "execution_count": 7
  },
  {
   "cell_type": "code",
   "outputs": [
    {
     "name": "stdout",
     "output_type": "stream",
     "text": [
      "[2, 3, 4, 5, 9, 1, 1, 10]\n"
     ]
    }
   ],
   "source": [
    "test_sentence = \"Out of the mid-wood's dawn there is ivory\"\n",
    "encoded_sentence = vectorizer.encode(test_sentence)\n",
    "print(encoded_sentence)"
   ],
   "metadata": {
    "collapsed": false,
    "ExecuteTime": {
     "end_time": "2023-12-28T11:30:37.399547222Z",
     "start_time": "2023-12-28T11:30:37.397277047Z"
    }
   },
   "id": "3e309d697ff91eab",
   "execution_count": 8
  },
  {
   "cell_type": "code",
   "outputs": [
    {
     "name": "stdout",
     "output_type": "stream",
     "text": [
      "out of the midwoods dawn [UNK] [UNK] ivory\n"
     ]
    }
   ],
   "source": [
    "decoded_sentence = vectorizer.decode(encoded_sentence)\n",
    "print(decoded_sentence)"
   ],
   "metadata": {
    "collapsed": false,
    "ExecuteTime": {
     "end_time": "2023-12-28T11:30:38.033020171Z",
     "start_time": "2023-12-28T11:30:38.031112021Z"
    }
   },
   "id": "7151ca01de7886ca",
   "execution_count": 9
  },
  {
   "cell_type": "code",
   "outputs": [],
   "source": [
    "from tensorflow.keras.layers import TextVectorization\n",
    "text_vectorizer = TextVectorization(\n",
    "    output_mode=\"int\"\n",
    ")"
   ],
   "metadata": {
    "collapsed": false,
    "ExecuteTime": {
     "end_time": "2023-12-28T11:31:50.018827586Z",
     "start_time": "2023-12-28T11:31:50.015940805Z"
    }
   },
   "id": "8f4005d2a02d15ea",
   "execution_count": 12
  },
  {
   "cell_type": "code",
   "outputs": [],
   "source": [
    "text_vectorizer.adapt(dataset)"
   ],
   "metadata": {
    "collapsed": false,
    "ExecuteTime": {
     "end_time": "2023-12-28T11:31:50.936569263Z",
     "start_time": "2023-12-28T11:31:50.786305137Z"
    }
   },
   "id": "ed40d85fc84ec1bd",
   "execution_count": 13
  },
  {
   "cell_type": "code",
   "outputs": [
    {
     "data": {
      "text/plain": "['',\n '[UNK]',\n 'the',\n 'twilight',\n 'out',\n 'of',\n 'my',\n 'midwoods',\n 'meadows',\n 'limbed',\n 'ivory',\n 'into',\n 'flashes',\n 'faun',\n 'dawn',\n 'browneyed',\n 'and']"
     },
     "execution_count": 14,
     "metadata": {},
     "output_type": "execute_result"
    }
   ],
   "source": [
    "text_vectorizer.get_vocabulary()"
   ],
   "metadata": {
    "collapsed": false,
    "ExecuteTime": {
     "end_time": "2023-12-28T11:32:11.004716104Z",
     "start_time": "2023-12-28T11:32:10.958677003Z"
    }
   },
   "id": "b71d5c9c6638dc7c",
   "execution_count": 14
  },
  {
   "cell_type": "code",
   "outputs": [
    {
     "name": "stdout",
     "output_type": "stream",
     "text": [
      "tf.Tensor([ 4  5  2  7 14  1  1 10], shape=(8,), dtype=int64)\n"
     ]
    }
   ],
   "source": [
    "vocabulary = text_vectorizer.get_vocabulary()\n",
    "encoded_sentence = text_vectorizer(test_sentence)\n",
    "print(encoded_sentence)"
   ],
   "metadata": {
    "collapsed": false,
    "ExecuteTime": {
     "end_time": "2023-12-28T11:34:34.919713980Z",
     "start_time": "2023-12-28T11:34:34.876701429Z"
    }
   },
   "id": "681f86b162e62580",
   "execution_count": 19
  },
  {
   "cell_type": "code",
   "outputs": [
    {
     "name": "stdout",
     "output_type": "stream",
     "text": [
      "out of the midwoods dawn [UNK] [UNK] ivory\n"
     ]
    }
   ],
   "source": [
    "inverse_vocab = dict(enumerate(vocabulary))\n",
    "decoded_sentence = \" \".join(inverse_vocab[int(i)] for i in encoded_sentence)\n",
    "print(decoded_sentence)"
   ],
   "metadata": {
    "collapsed": false,
    "ExecuteTime": {
     "end_time": "2023-12-28T11:35:34.335795364Z",
     "start_time": "2023-12-28T11:35:34.292916062Z"
    }
   },
   "id": "acb8520944e1d4d2",
   "execution_count": 20
  },
  {
   "cell_type": "code",
   "outputs": [
    {
     "name": "stdout",
     "output_type": "stream",
     "text": [
      "I first saw this back in the early 90s on UK TV, i did like it then but i missed the chance to tape it, many years passed but the film always stuck with me and i lost hope of seeing it TV again, the main thing that stuck with me was the end, the hole castle part really touched me, its easy to watch, has a great story, great music, the list goes on and on, its OK me saying how good it is but everyone will take there own best bits away with them once they have seen it, yes the animation is top notch and beautiful to watch, it does show its age in a very few parts but that has now become part of it beauty, i am so glad it has came out on DVD as it is one of my top 10 films of all time. Buy it or rent it just see it, best viewing is at night alone with drink and food in reach so you don't have to stop the film.<br /><br />Enjoy"
     ]
    }
   ],
   "source": [
    "!cat aclImdb/train/pos/4077_10.txt"
   ],
   "metadata": {
    "collapsed": false,
    "ExecuteTime": {
     "end_time": "2023-12-28T11:38:04.275073901Z",
     "start_time": "2023-12-28T11:38:04.006033813Z"
    }
   },
   "id": "7c3d3eaf5d713236",
   "execution_count": 22
  },
  {
   "cell_type": "code",
   "outputs": [],
   "source": [
    "import os, pathlib, shutil, random"
   ],
   "metadata": {
    "collapsed": false,
    "ExecuteTime": {
     "end_time": "2023-12-28T11:38:46.343607323Z",
     "start_time": "2023-12-28T11:38:46.301993720Z"
    }
   },
   "id": "d816db3dd2875d69",
   "execution_count": 23
  },
  {
   "cell_type": "code",
   "outputs": [
    {
     "ename": "FileExistsError",
     "evalue": "[Errno 17] File exists: 'aclImdb/val/neg'",
     "output_type": "error",
     "traceback": [
      "\u001B[0;31m---------------------------------------------------------------------------\u001B[0m",
      "\u001B[0;31mFileExistsError\u001B[0m                           Traceback (most recent call last)",
      "Cell \u001B[0;32mIn[25], line 6\u001B[0m\n\u001B[1;32m      4\u001B[0m test_dir \u001B[38;5;241m=\u001B[39m base_dir \u001B[38;5;241m/\u001B[39m \u001B[38;5;124m\"\u001B[39m\u001B[38;5;124mtest\u001B[39m\u001B[38;5;124m\"\u001B[39m\n\u001B[1;32m      5\u001B[0m \u001B[38;5;28;01mfor\u001B[39;00m category \u001B[38;5;129;01min\u001B[39;00m (\u001B[38;5;124m\"\u001B[39m\u001B[38;5;124mneg\u001B[39m\u001B[38;5;124m\"\u001B[39m, \u001B[38;5;124m\"\u001B[39m\u001B[38;5;124mpos\u001B[39m\u001B[38;5;124m\"\u001B[39m):\n\u001B[0;32m----> 6\u001B[0m     \u001B[43mos\u001B[49m\u001B[38;5;241;43m.\u001B[39;49m\u001B[43mmakedirs\u001B[49m\u001B[43m(\u001B[49m\u001B[43mval_dir\u001B[49m\u001B[43m \u001B[49m\u001B[38;5;241;43m/\u001B[39;49m\u001B[43m \u001B[49m\u001B[43mcategory\u001B[49m\u001B[43m)\u001B[49m\n\u001B[1;32m      7\u001B[0m     files\u001B[38;5;241m=\u001B[39m os\u001B[38;5;241m.\u001B[39mlistdir(train_dir \u001B[38;5;241m/\u001B[39m category)\n\u001B[1;32m      8\u001B[0m     random\u001B[38;5;241m.\u001B[39mRandom(\u001B[38;5;241m42\u001B[39m)\u001B[38;5;241m.\u001B[39mshuffle(files)\n",
      "File \u001B[0;32m<frozen os>:225\u001B[0m, in \u001B[0;36mmakedirs\u001B[0;34m(name, mode, exist_ok)\u001B[0m\n",
      "\u001B[0;31mFileExistsError\u001B[0m: [Errno 17] File exists: 'aclImdb/val/neg'"
     ]
    }
   ],
   "source": [
    "base_dir = pathlib.Path(\"./aclImdb\")\n",
    "train_dir = base_dir / \"train\"\n",
    "val_dir = base_dir / \"val\"\n",
    "test_dir = base_dir / \"test\"\n",
    "for category in (\"neg\", \"pos\"):\n",
    "    os.makedirs(val_dir / category)\n",
    "    files= os.listdir(train_dir / category)\n",
    "    random.Random(42).shuffle(files)\n",
    "    num_val_samples = int(0.2 * len(files))\n",
    "    val_files = files[-num_val_samples:]\n",
    "    for fname in val_files:\n",
    "        shutil.move(train_dir / category / fname, val_dir / category / fname)"
   ],
   "metadata": {
    "collapsed": false,
    "ExecuteTime": {
     "end_time": "2023-12-28T11:42:38.798539576Z",
     "start_time": "2023-12-28T11:42:38.763321332Z"
    }
   },
   "id": "f4cfb9423a1ce826",
   "execution_count": 25
  },
  {
   "cell_type": "code",
   "outputs": [
    {
     "name": "stdout",
     "output_type": "stream",
     "text": [
      "Found 20000 files belonging to 2 classes.\n",
      "Found 5000 files belonging to 2 classes.\n",
      "Found 25000 files belonging to 2 classes.\n"
     ]
    }
   ],
   "source": [
    "from tensorflow import keras\n",
    "\n",
    "batch_size = 32\n",
    "\n",
    "train_ds = keras.utils.text_dataset_from_directory(\n",
    "    train_dir, batch_size=batch_size\n",
    ")\n",
    "val_ds = keras.utils.text_dataset_from_directory(\n",
    "    val_dir, batch_size=batch_size\n",
    ")\n",
    "test_ds = keras.utils.text_dataset_from_directory(\n",
    "    test_dir, batch_size=batch_size\n",
    ")"
   ],
   "metadata": {
    "collapsed": false,
    "ExecuteTime": {
     "end_time": "2023-12-28T11:57:06.283670752Z",
     "start_time": "2023-12-28T11:57:05.332343566Z"
    }
   },
   "id": "9def0a01421323f0",
   "execution_count": 40
  },
  {
   "cell_type": "code",
   "outputs": [],
   "source": [
    "inputs, targets = next(iter(train_ds))"
   ],
   "metadata": {
    "collapsed": false,
    "ExecuteTime": {
     "end_time": "2023-12-28T11:57:06.940477126Z",
     "start_time": "2023-12-28T11:57:06.928976515Z"
    }
   },
   "id": "621e193f5e9045ce",
   "execution_count": 41
  },
  {
   "cell_type": "code",
   "outputs": [
    {
     "name": "stdout",
     "output_type": "stream",
     "text": [
      "(32,)\n",
      "<dtype: 'string'>\n",
      "(32,)\n",
      "<dtype: 'int32'>\n",
      "tf.Tensor(b'Well, you might not actually SEE any women in love in this movie, but you\\'ll certainly hear women TALKING about love, and men talking about love, and women talking about men, and men talking about women, and men talking about men, and everyone talking about death, and talking, and talking, until you yourself will want to scream and do something that requires no talking at all, like paint your bedroom or water your plants.<br /><br />Welcome to the world of D.H. Lawrence, where psycho-babble reigns supreme, and where no one can get down to living a productive life because everyone is too busy talking about how unproductive their lives are. Spending time with the characters in a D.H. Lawrence novel is like being locked in a closet with a group of your most self-absorbed acquaintances who you would run away from if you met them at a party. When I read \"Women in Love,\" I so desperately wanted to strangle every single character in it, but since I couldn\\'t, I was hoping they would at least strangle each other. Alas, only one of them dies, not by strangulation, and I won\\'t spoil it for you by telling which one, in case you actually give a damn about this story or any of these people.<br /><br />To give director Ken Russell his due, he makes this filmed version about as entertaining as it\\'s possible to make this essentially unfilmable novel. He throws out much of the psychological mumbo-jumbo that Lawrence adored, and focuses instead on all of the naughty parts, so we get lots of histrionic lovemaking in beds and fields, two buck naked men wrestling by firelight, and one embarrassing scene featuring Alan Bates (yup, buck naked again) roaming around in a meadow making love to bushes and grass (I\\'m not kidding). Glenda Jackson won an Oscar for her performance as Gudrun, the more dominant of the two sisters at the story\\'s focus, and she certainly tries her hardest to do something with this material; anyone would deserve an Oscar simply for having to bear Russell\\'s decision to give her a scene where she has to dance wildly in front of a herd of mystified-looking cattle. Oliver Reed has one expression, an intense glower. The whole thing is over-written and over-directed, and it\\'s deliriously campy. Indeed, this vies with \"Mommie Dearest\" as perhaps the most unintentionally hysterical movie I\\'ve ever seen.<br /><br />Grade: D', shape=(), dtype=string)\n",
      "tf.Tensor(0, shape=(), dtype=int32)\n"
     ]
    }
   ],
   "source": [
    "print(inputs.shape)\n",
    "print(inputs.dtype)\n",
    "print(targets.shape)\n",
    "print(targets.dtype)\n",
    "print(inputs[0])\n",
    "print(targets[0])"
   ],
   "metadata": {
    "collapsed": false,
    "ExecuteTime": {
     "end_time": "2023-12-28T11:57:07.815749215Z",
     "start_time": "2023-12-28T11:57:07.811889924Z"
    }
   },
   "id": "8734d612f095c1a4",
   "execution_count": 42
  },
  {
   "cell_type": "code",
   "outputs": [],
   "source": [
    "text_vectorization = TextVectorization(\n",
    "    max_tokens=20000,\n",
    "    output_mode=\"multi_hot\"\n",
    ")"
   ],
   "metadata": {
    "collapsed": false,
    "ExecuteTime": {
     "end_time": "2023-12-28T11:57:08.545362432Z",
     "start_time": "2023-12-28T11:57:08.539917870Z"
    }
   },
   "id": "9f58ccc67e1ac714",
   "execution_count": 43
  },
  {
   "cell_type": "code",
   "outputs": [],
   "source": [
    "text_only_train_ds = train_ds.map(lambda x, y: x)\n",
    "text_vectorization.adapt(text_only_train_ds)\n",
    "\n",
    "binary_1gram_train_ds = train_ds.map(lambda x, y: (text_vectorization(x), y), num_parallel_calls=4)\n",
    "binary_1gram_val_ds = val_ds.map(lambda x, y: (text_vectorization(x), y), num_parallel_calls=4)\n",
    "binary_1gram_test_ds = test_ds.map(lambda x, y: (text_vectorization(x), y), num_parallel_calls=4)"
   ],
   "metadata": {
    "collapsed": false,
    "ExecuteTime": {
     "end_time": "2023-12-28T11:57:10.419506719Z",
     "start_time": "2023-12-28T11:57:09.252657233Z"
    }
   },
   "id": "dfd8ccfb186ac4e1",
   "execution_count": 44
  },
  {
   "cell_type": "code",
   "outputs": [
    {
     "name": "stdout",
     "output_type": "stream",
     "text": [
      "(32, 20000)\n",
      "<dtype: 'float32'>\n",
      "(32,)\n",
      "<dtype: 'int32'>\n",
      "tf.Tensor([1. 1. 1. ... 0. 0. 0.], shape=(20000,), dtype=float32)\n",
      "tf.Tensor(0, shape=(), dtype=int32)\n"
     ]
    }
   ],
   "source": [
    "inputs, targets = next(iter(binary_1gram_train_ds))\n",
    "print(inputs.shape)\n",
    "print(inputs.dtype)\n",
    "print(targets.shape)\n",
    "print(targets.dtype)\n",
    "print(inputs[0])\n",
    "print(targets[0])"
   ],
   "metadata": {
    "collapsed": false,
    "ExecuteTime": {
     "end_time": "2023-12-28T11:57:11.001426007Z",
     "start_time": "2023-12-28T11:57:10.971054231Z"
    }
   },
   "id": "37a3e75a7f6a2c82",
   "execution_count": 45
  },
  {
   "cell_type": "code",
   "outputs": [],
   "source": [
    "from tensorflow.keras import layers\n",
    "\n",
    "def get_model(max_tokens=20000, hidden_dim=16):\n",
    "    inputs = layers.Input(shape=(max_tokens,))\n",
    "    x = layers.Dense(hidden_dim, activation='relu')(inputs)\n",
    "    x = layers.Dropout(0.5)(x)\n",
    "    outputs = layers.Dense(1, activation='sigmoid')(x)\n",
    "    model = keras.Model(inputs=inputs, outputs=outputs)\n",
    "    model.compile(loss='binary_crossentropy', optimizer='rmsprop', metrics=['accuracy'])\n",
    "    return model"
   ],
   "metadata": {
    "collapsed": false,
    "ExecuteTime": {
     "end_time": "2023-12-28T11:57:11.894876990Z",
     "start_time": "2023-12-28T11:57:11.892747330Z"
    }
   },
   "id": "f38f0cbf31ff729b",
   "execution_count": 46
  },
  {
   "cell_type": "code",
   "outputs": [
    {
     "name": "stdout",
     "output_type": "stream",
     "text": [
      "Model: \"model_1\"\n",
      "_________________________________________________________________\n",
      " Layer (type)                Output Shape              Param #   \n",
      "=================================================================\n",
      " input_3 (InputLayer)        [(None, 20000)]           0         \n",
      "                                                                 \n",
      " dense_4 (Dense)             (None, 16)                320016    \n",
      "                                                                 \n",
      " dropout_2 (Dropout)         (None, 16)                0         \n",
      "                                                                 \n",
      " dense_5 (Dense)             (None, 1)                 17        \n",
      "                                                                 \n",
      "=================================================================\n",
      "Total params: 320033 (1.22 MB)\n",
      "Trainable params: 320033 (1.22 MB)\n",
      "Non-trainable params: 0 (0.00 Byte)\n",
      "_________________________________________________________________\n"
     ]
    }
   ],
   "source": [
    "model = get_model()\n",
    "model.summary()"
   ],
   "metadata": {
    "collapsed": false,
    "ExecuteTime": {
     "end_time": "2023-12-28T11:57:12.560936818Z",
     "start_time": "2023-12-28T11:57:12.500402731Z"
    }
   },
   "id": "c949343f9daecf15",
   "execution_count": 47
  },
  {
   "cell_type": "code",
   "outputs": [
    {
     "name": "stdout",
     "output_type": "stream",
     "text": [
      "Epoch 1/10\n",
      "625/625 [==============================] - 1s 2ms/step - loss: 0.4135 - accuracy: 0.8248 - val_loss: 0.3123 - val_accuracy: 0.8730\n",
      "Epoch 2/10\n",
      "625/625 [==============================] - 1s 2ms/step - loss: 0.2697 - accuracy: 0.9013 - val_loss: 0.3060 - val_accuracy: 0.8828\n",
      "Epoch 3/10\n",
      "625/625 [==============================] - 1s 2ms/step - loss: 0.2347 - accuracy: 0.9193 - val_loss: 0.3193 - val_accuracy: 0.8852\n",
      "Epoch 4/10\n",
      "625/625 [==============================] - 1s 2ms/step - loss: 0.2163 - accuracy: 0.9280 - val_loss: 0.3537 - val_accuracy: 0.8842\n",
      "Epoch 5/10\n",
      "625/625 [==============================] - 1s 2ms/step - loss: 0.2128 - accuracy: 0.9302 - val_loss: 0.3609 - val_accuracy: 0.8878\n",
      "Epoch 6/10\n",
      "625/625 [==============================] - 1s 2ms/step - loss: 0.2012 - accuracy: 0.9365 - val_loss: 0.3835 - val_accuracy: 0.8864\n",
      "Epoch 7/10\n",
      "625/625 [==============================] - 1s 2ms/step - loss: 0.1941 - accuracy: 0.9384 - val_loss: 0.3960 - val_accuracy: 0.8860\n",
      "Epoch 8/10\n",
      "625/625 [==============================] - 1s 2ms/step - loss: 0.1895 - accuracy: 0.9397 - val_loss: 0.4022 - val_accuracy: 0.8884\n",
      "Epoch 9/10\n",
      "625/625 [==============================] - 1s 2ms/step - loss: 0.1908 - accuracy: 0.9420 - val_loss: 0.4207 - val_accuracy: 0.8852\n",
      "Epoch 10/10\n",
      "625/625 [==============================] - 1s 2ms/step - loss: 0.1885 - accuracy: 0.9427 - val_loss: 0.4483 - val_accuracy: 0.8808\n"
     ]
    }
   ],
   "source": [
    "callbacks = [keras.callbacks.ModelCheckpoint(\"binary_1gram.keras\", save_best_only=True)]\n",
    "history = model.fit(binary_1gram_train_ds.cache(), epochs=10, validation_data=binary_1gram_val_ds.cache(), callbacks=callbacks)"
   ],
   "metadata": {
    "collapsed": false,
    "ExecuteTime": {
     "end_time": "2023-12-28T11:57:26.505806654Z",
     "start_time": "2023-12-28T11:57:13.608885747Z"
    }
   },
   "id": "8d98a044b693de14",
   "execution_count": 48
  },
  {
   "cell_type": "code",
   "outputs": [
    {
     "name": "stdout",
     "output_type": "stream",
     "text": [
      "782/782 [==============================] - 1s 1ms/step - loss: 0.2954 - accuracy: 0.8814\n"
     ]
    },
    {
     "data": {
      "text/plain": "[0.2953505218029022, 0.8813999891281128]"
     },
     "execution_count": 52,
     "metadata": {},
     "output_type": "execute_result"
    }
   ],
   "source": [
    "model = keras.models.load_model(\"binary_1gram.keras\")\n",
    "model.evaluate(binary_1gram_test_ds.cache())"
   ],
   "metadata": {
    "collapsed": false,
    "ExecuteTime": {
     "end_time": "2023-12-28T12:02:18.427571802Z",
     "start_time": "2023-12-28T12:02:17.231149435Z"
    }
   },
   "id": "c9e22a8346662fa5",
   "execution_count": 52
  },
  {
   "cell_type": "code",
   "outputs": [],
   "source": [
    "text_vectorization = TextVectorization(\n",
    "    ngrams=2,\n",
    "    max_tokens=20000,\n",
    "    output_mode='multi_hot'\n",
    ")"
   ],
   "metadata": {
    "collapsed": false,
    "ExecuteTime": {
     "end_time": "2023-12-28T12:02:21.256322603Z",
     "start_time": "2023-12-28T12:02:21.249020835Z"
    }
   },
   "id": "6346076afe322447",
   "execution_count": 53
  },
  {
   "cell_type": "code",
   "outputs": [],
   "source": [
    "text_vectorization.adapt(text_only_train_ds)\n",
    "binary_2gram_train_ds = train_ds.map(lambda x, y: (text_vectorization(x), y), num_parallel_calls=4)\n",
    "binary_2gram_val_ds = val_ds.map(lambda x, y: (text_vectorization(x), y), num_parallel_calls=4)\n",
    "binary_2gram_test_ds = test_ds.map(lambda x, y: (text_vectorization(x), y), num_parallel_calls=4)"
   ],
   "metadata": {
    "collapsed": false,
    "ExecuteTime": {
     "end_time": "2023-12-28T12:02:25.947214378Z",
     "start_time": "2023-12-28T12:02:21.833150059Z"
    }
   },
   "id": "a678c57b22caa77b",
   "execution_count": 54
  },
  {
   "cell_type": "code",
   "outputs": [
    {
     "name": "stdout",
     "output_type": "stream",
     "text": [
      "Epoch 1/10\n",
      "625/625 [==============================] - 2s 2ms/step - loss: 0.3752 - accuracy: 0.8451 - val_loss: 0.2721 - val_accuracy: 0.8964\n",
      "Epoch 2/10\n",
      "625/625 [==============================] - 1s 2ms/step - loss: 0.2394 - accuracy: 0.9141 - val_loss: 0.2813 - val_accuracy: 0.9020\n",
      "Epoch 3/10\n",
      "625/625 [==============================] - 1s 2ms/step - loss: 0.2048 - accuracy: 0.9333 - val_loss: 0.3004 - val_accuracy: 0.9012\n",
      "Epoch 4/10\n",
      "625/625 [==============================] - 1s 2ms/step - loss: 0.1824 - accuracy: 0.9431 - val_loss: 0.3356 - val_accuracy: 0.9004\n",
      "Epoch 5/10\n",
      "625/625 [==============================] - 1s 2ms/step - loss: 0.1807 - accuracy: 0.9484 - val_loss: 0.3551 - val_accuracy: 0.8984\n",
      "Epoch 6/10\n",
      "625/625 [==============================] - 1s 2ms/step - loss: 0.1667 - accuracy: 0.9525 - val_loss: 0.3670 - val_accuracy: 0.8984\n",
      "Epoch 7/10\n",
      "625/625 [==============================] - 1s 2ms/step - loss: 0.1594 - accuracy: 0.9542 - val_loss: 0.3715 - val_accuracy: 0.8980\n",
      "Epoch 8/10\n",
      "625/625 [==============================] - 1s 2ms/step - loss: 0.1607 - accuracy: 0.9564 - val_loss: 0.3865 - val_accuracy: 0.8964\n",
      "Epoch 9/10\n",
      "625/625 [==============================] - 1s 2ms/step - loss: 0.1570 - accuracy: 0.9567 - val_loss: 0.3943 - val_accuracy: 0.8992\n",
      "Epoch 10/10\n",
      "625/625 [==============================] - 1s 2ms/step - loss: 0.1548 - accuracy: 0.9602 - val_loss: 0.4336 - val_accuracy: 0.8962\n"
     ]
    }
   ],
   "source": [
    "model = get_model()\n",
    "callbacks = [keras.callbacks.ModelCheckpoint(\"binary_2gram.keras\", save_best_only=True)]\n",
    "history = model.fit(binary_2gram_train_ds.cache(), epochs=10, validation_data=binary_2gram_val_ds.cache(), callbacks=callbacks)"
   ],
   "metadata": {
    "collapsed": false,
    "ExecuteTime": {
     "end_time": "2023-12-28T12:02:43.369931755Z",
     "start_time": "2023-12-28T12:02:29.847990863Z"
    }
   },
   "id": "f6c00df01218b704",
   "execution_count": 55
  },
  {
   "cell_type": "code",
   "outputs": [
    {
     "name": "stdout",
     "output_type": "stream",
     "text": [
      "782/782 [==============================] - 1s 1ms/step - loss: 0.2642 - accuracy: 0.8988\n"
     ]
    },
    {
     "data": {
      "text/plain": "[0.26423379778862, 0.8988400101661682]"
     },
     "execution_count": 56,
     "metadata": {},
     "output_type": "execute_result"
    }
   ],
   "source": [
    "model = keras.models.load_model(\"binary_2gram.keras\")\n",
    "model.evaluate(binary_2gram_test_ds.cache())"
   ],
   "metadata": {
    "collapsed": false,
    "ExecuteTime": {
     "end_time": "2023-12-28T12:02:57.883631642Z",
     "start_time": "2023-12-28T12:02:56.770607321Z"
    }
   },
   "id": "d10c3b52468f51a4",
   "execution_count": 56
  },
  {
   "cell_type": "code",
   "outputs": [],
   "source": [
    "text_vectorization = TextVectorization(\n",
    "    ngrams=2,\n",
    "    max_tokens=20000,\n",
    "    output_mode='tf_idf'\n",
    ")"
   ],
   "metadata": {
    "collapsed": false,
    "ExecuteTime": {
     "end_time": "2023-12-28T12:04:52.710574523Z",
     "start_time": "2023-12-28T12:04:52.701644362Z"
    }
   },
   "id": "fecaf9f75810de4c",
   "execution_count": 58
  },
  {
   "cell_type": "code",
   "outputs": [
    {
     "name": "stderr",
     "output_type": "stream",
     "text": [
      "2023-12-28 13:06:07.927430: W tensorflow/compiler/mlir/tools/kernel_gen/transforms/gpu_kernel_to_blob_pass.cc:191] Failed to compile generated PTX with ptxas. Falling back to compilation by driver.\n"
     ]
    }
   ],
   "source": [
    "text_vectorization.adapt(text_only_train_ds)\n",
    "\n",
    "tfidf_2gram_train_ds = train_ds.map(lambda x, y: (text_vectorization(x), y), num_parallel_calls=4)\n",
    "tfidf_2gram_val_ds = val_ds.map(lambda x, y: (text_vectorization(x), y), num_parallel_calls=4)\n",
    "tfidf_2gram_test_ds = test_ds.map(lambda x, y: (text_vectorization(x), y), num_parallel_calls=4)"
   ],
   "metadata": {
    "collapsed": false,
    "ExecuteTime": {
     "end_time": "2023-12-28T12:06:08.492706798Z",
     "start_time": "2023-12-28T12:06:02.028601065Z"
    }
   },
   "id": "2f2dff946d6b9d0",
   "execution_count": 59
  },
  {
   "cell_type": "code",
   "outputs": [
    {
     "name": "stdout",
     "output_type": "stream",
     "text": [
      "Epoch 1/10\n",
      "625/625 [==============================] - 2s 2ms/step - loss: 0.4996 - accuracy: 0.7562 - val_loss: 0.2876 - val_accuracy: 0.8884\n",
      "Epoch 2/10\n",
      "625/625 [==============================] - 1s 2ms/step - loss: 0.3414 - accuracy: 0.8450 - val_loss: 0.2918 - val_accuracy: 0.8904\n",
      "Epoch 3/10\n",
      "625/625 [==============================] - 1s 2ms/step - loss: 0.3092 - accuracy: 0.8563 - val_loss: 0.3142 - val_accuracy: 0.8720\n",
      "Epoch 4/10\n",
      "625/625 [==============================] - 1s 2ms/step - loss: 0.2889 - accuracy: 0.8691 - val_loss: 0.3283 - val_accuracy: 0.8876\n",
      "Epoch 5/10\n",
      "625/625 [==============================] - 1s 2ms/step - loss: 0.2721 - accuracy: 0.8788 - val_loss: 0.3531 - val_accuracy: 0.8892\n",
      "Epoch 6/10\n",
      "625/625 [==============================] - 1s 2ms/step - loss: 0.2708 - accuracy: 0.8757 - val_loss: 0.3333 - val_accuracy: 0.8882\n",
      "Epoch 7/10\n",
      "625/625 [==============================] - 1s 2ms/step - loss: 0.2607 - accuracy: 0.8871 - val_loss: 0.3409 - val_accuracy: 0.8708\n",
      "Epoch 8/10\n",
      "625/625 [==============================] - 1s 2ms/step - loss: 0.2427 - accuracy: 0.8967 - val_loss: 0.3552 - val_accuracy: 0.8908\n",
      "Epoch 9/10\n",
      "625/625 [==============================] - 1s 2ms/step - loss: 0.2369 - accuracy: 0.9057 - val_loss: 0.3416 - val_accuracy: 0.8880\n",
      "Epoch 10/10\n",
      "625/625 [==============================] - 1s 2ms/step - loss: 0.2263 - accuracy: 0.9112 - val_loss: 0.3716 - val_accuracy: 0.8796\n"
     ]
    },
    {
     "data": {
      "text/plain": "<keras.src.callbacks.History at 0x7fe37c3b7790>"
     },
     "execution_count": 60,
     "metadata": {},
     "output_type": "execute_result"
    }
   ],
   "source": [
    "model = get_model()\n",
    "callbacks = [keras.callbacks.ModelCheckpoint(\"tfidf_2gram.keras\", save_best_only=True)]\n",
    "model.fit(tfidf_2gram_train_ds.cache(), epochs=10, validation_data=tfidf_2gram_val_ds.cache(), callbacks=callbacks)"
   ],
   "metadata": {
    "collapsed": false,
    "ExecuteTime": {
     "end_time": "2023-12-28T12:06:56.394707364Z",
     "start_time": "2023-12-28T12:06:42.771694811Z"
    }
   },
   "id": "f931043d13463e7c",
   "execution_count": 60
  },
  {
   "cell_type": "code",
   "outputs": [
    {
     "name": "stdout",
     "output_type": "stream",
     "text": [
      "782/782 [==============================] - 1s 1ms/step - loss: 0.2936 - accuracy: 0.8820\n"
     ]
    },
    {
     "data": {
      "text/plain": "[0.29364439845085144, 0.8820000290870667]"
     },
     "execution_count": 61,
     "metadata": {},
     "output_type": "execute_result"
    }
   ],
   "source": [
    "model = keras.models.load_model(\"tfidf_2gram.keras\")\n",
    "model.evaluate(tfidf_2gram_test_ds.cache())"
   ],
   "metadata": {
    "collapsed": false,
    "ExecuteTime": {
     "end_time": "2023-12-28T12:07:20.535584208Z",
     "start_time": "2023-12-28T12:07:19.324542743Z"
    }
   },
   "id": "be6f787f38da0135",
   "execution_count": 61
  },
  {
   "cell_type": "code",
   "outputs": [],
   "source": [
    "inputs = keras.Input(shape=(1,), dtype='string')\n",
    "processed_inputs = text_vectorization(inputs)\n",
    "outputs = model(processed_inputs)\n",
    "inference_model = keras.Model(inputs=inputs, outputs=outputs)"
   ],
   "metadata": {
    "collapsed": false,
    "ExecuteTime": {
     "end_time": "2023-12-28T12:09:08.907546962Z",
     "start_time": "2023-12-28T12:09:08.861137930Z"
    }
   },
   "id": "dfcb6533e2938a8c",
   "execution_count": 62
  },
  {
   "cell_type": "code",
   "outputs": [
    {
     "name": "stdout",
     "output_type": "stream",
     "text": [
      "87.04 % positive\n"
     ]
    }
   ],
   "source": [
    "import tensorflow as tf\n",
    "\n",
    "raw_text_data = tf.convert_to_tensor([\"The movie was amazing, I loved every part of it, would watch again with my friends, \"\n",
    "                                      \"I love everything about it! Great!\"])\n",
    "predictions = inference_model(raw_text_data)\n",
    "print(f\"{float(predictions[0]* 100):.2f} % positive\")"
   ],
   "metadata": {
    "collapsed": false,
    "ExecuteTime": {
     "end_time": "2023-12-28T12:13:48.722859600Z",
     "start_time": "2023-12-28T12:13:48.710642610Z"
    }
   },
   "id": "f3171cbb5feec61c",
   "execution_count": 72
  },
  {
   "cell_type": "code",
   "outputs": [],
   "source": [
    "max_length = 600\n",
    "max_tokens = 20000\n",
    "\n",
    "text_vectorization = layers.TextVectorization(\n",
    "    max_tokens=max_tokens,\n",
    "    output_sequence_length=max_length,\n",
    "    output_mode=\"int\"\n",
    ")\n",
    "\n",
    "text_vectorization.adapt(text_only_train_ds)\n",
    "\n",
    "int_train_ds = train_ds.map(lambda x, y: (text_vectorization(x), y), num_parallel_calls=4)\n",
    "int_val_ds = val_ds.map(lambda x, y: (text_vectorization(x), y), num_parallel_calls=4)\n",
    "int_test_ds = test_ds.map(lambda x, y: (text_vectorization(x), y), num_parallel_calls=4)"
   ],
   "metadata": {
    "collapsed": false,
    "ExecuteTime": {
     "end_time": "2023-12-28T12:18:10.398618049Z",
     "start_time": "2023-12-28T12:18:09.194762765Z"
    }
   },
   "id": "5d7e9e91c1581cd7",
   "execution_count": 73
  },
  {
   "cell_type": "code",
   "outputs": [
    {
     "name": "stderr",
     "output_type": "stream",
     "text": [
      "2023-12-28 13:20:17.471851: W tensorflow/compiler/mlir/tools/kernel_gen/transforms/gpu_kernel_to_blob_pass.cc:191] Failed to compile generated PTX with ptxas. Falling back to compilation by driver.\n"
     ]
    },
    {
     "name": "stdout",
     "output_type": "stream",
     "text": [
      "Model: \"model_5\"\n",
      "_________________________________________________________________\n",
      " Layer (type)                Output Shape              Param #   \n",
      "=================================================================\n",
      " input_7 (InputLayer)        [(None, None)]            0         \n",
      "                                                                 \n",
      " tf.one_hot (TFOpLambda)     (None, None, 20000)       0         \n",
      "                                                                 \n",
      " bidirectional (Bidirection  (None, 64)                5128448   \n",
      " al)                                                             \n",
      "                                                                 \n",
      " dropout_5 (Dropout)         (None, 64)                0         \n",
      "                                                                 \n",
      " dense_10 (Dense)            (None, 1)                 65        \n",
      "                                                                 \n",
      "=================================================================\n",
      "Total params: 5128513 (19.56 MB)\n",
      "Trainable params: 5128513 (19.56 MB)\n",
      "Non-trainable params: 0 (0.00 Byte)\n",
      "_________________________________________________________________\n"
     ]
    }
   ],
   "source": [
    "inputs = keras.Input(shape=(None,), dtype='int64')\n",
    "embedded = tf.one_hot(inputs, depth=max_tokens)\n",
    "x = layers.Bidirectional(layers.LSTM(32))(embedded)\n",
    "x = layers.Dropout(0.5)(x)\n",
    "outputs = layers.Dense(1, activation='sigmoid')(x)\n",
    "model = keras.Model(inputs=inputs, outputs=outputs)\n",
    "model.compile(optimizer='rmsprop', loss='binary_crossentropy', metrics=['accuracy'])\n",
    "model.summary()"
   ],
   "metadata": {
    "collapsed": false,
    "ExecuteTime": {
     "end_time": "2023-12-28T12:20:17.716081613Z",
     "start_time": "2023-12-28T12:20:17.441006622Z"
    }
   },
   "id": "1ac5ce57ba8f0270",
   "execution_count": 74
  },
  {
   "cell_type": "code",
   "outputs": [
    {
     "name": "stdout",
     "output_type": "stream",
     "text": [
      "Epoch 1/10\n",
      "625/625 [==============================] - 60s 94ms/step - loss: 0.5627 - accuracy: 0.7119 - val_loss: 0.3791 - val_accuracy: 0.8416\n",
      "Epoch 2/10\n",
      "625/625 [==============================] - 58s 93ms/step - loss: 0.3576 - accuracy: 0.8630 - val_loss: 0.3353 - val_accuracy: 0.8632\n",
      "Epoch 3/10\n",
      "625/625 [==============================] - 58s 93ms/step - loss: 0.2962 - accuracy: 0.8964 - val_loss: 0.2893 - val_accuracy: 0.8876\n",
      "Epoch 4/10\n",
      "625/625 [==============================] - 59s 94ms/step - loss: 0.2502 - accuracy: 0.9135 - val_loss: 0.3093 - val_accuracy: 0.8746\n",
      "Epoch 5/10\n",
      "625/625 [==============================] - 58s 94ms/step - loss: 0.2189 - accuracy: 0.9262 - val_loss: 0.3427 - val_accuracy: 0.8598\n",
      "Epoch 6/10\n",
      "625/625 [==============================] - 59s 94ms/step - loss: 0.1896 - accuracy: 0.9367 - val_loss: 0.3100 - val_accuracy: 0.8780\n",
      "Epoch 7/10\n",
      "625/625 [==============================] - 59s 94ms/step - loss: 0.1721 - accuracy: 0.9465 - val_loss: 0.3059 - val_accuracy: 0.8820\n",
      "Epoch 8/10\n",
      "625/625 [==============================] - 59s 94ms/step - loss: 0.1470 - accuracy: 0.9546 - val_loss: 0.4902 - val_accuracy: 0.8618\n",
      "Epoch 9/10\n",
      "625/625 [==============================] - 59s 94ms/step - loss: 0.1277 - accuracy: 0.9606 - val_loss: 0.3872 - val_accuracy: 0.8418\n",
      "Epoch 10/10\n",
      "625/625 [==============================] - 59s 94ms/step - loss: 0.1078 - accuracy: 0.9683 - val_loss: 0.4380 - val_accuracy: 0.8700\n"
     ]
    },
    {
     "data": {
      "text/plain": "<keras.src.callbacks.History at 0x7fe37c3d5d50>"
     },
     "execution_count": 75,
     "metadata": {},
     "output_type": "execute_result"
    }
   ],
   "source": [
    "callbacks = [keras.callbacks.ModelCheckpoint(\"one_hot_bidir_lstm.keras\", save_best_only=True)]\n",
    "model.fit(int_train_ds, validation_data=int_val_ds, epochs=10, callbacks=callbacks)"
   ],
   "metadata": {
    "collapsed": false,
    "ExecuteTime": {
     "end_time": "2023-12-28T12:31:02.532635345Z",
     "start_time": "2023-12-28T12:21:14.992665488Z"
    }
   },
   "id": "1cc34f7d51e178f0",
   "execution_count": 75
  },
  {
   "cell_type": "code",
   "outputs": [
    {
     "name": "stdout",
     "output_type": "stream",
     "text": [
      "782/782 [==============================] - 41s 52ms/step - loss: 0.2968 - accuracy: 0.8811\n"
     ]
    },
    {
     "data": {
      "text/plain": "[0.29682227969169617, 0.8810799717903137]"
     },
     "execution_count": 76,
     "metadata": {},
     "output_type": "execute_result"
    }
   ],
   "source": [
    "model = keras.models.load_model(\"one_hot_bidir_lstm.keras\")\n",
    "model.evaluate(int_test_ds)"
   ],
   "metadata": {
    "collapsed": false,
    "ExecuteTime": {
     "end_time": "2023-12-28T12:39:29.803776840Z",
     "start_time": "2023-12-28T12:38:47.848603459Z"
    }
   },
   "id": "12040d96f4afce34",
   "execution_count": 76
  },
  {
   "cell_type": "code",
   "outputs": [],
   "source": [
    "inputs = keras.Input(shape=(None,), dtype='int64')\n",
    "embedded = layers.Embedding(input_dim=max_tokens, output_dim=256)(inputs)\n",
    "x = layers.Bidirectional(layers.LSTM(32))(embedded)\n",
    "x = layers.Dropout(0.5)(x)\n",
    "outputs = layers.Dense(1, activation='sigmoid')(x)\n",
    "model = keras.Model(inputs=inputs, outputs=outputs)\n",
    "model.compile(optimizer='rmsprop', loss='binary_crossentropy', metrics=[\"accuracy\"])"
   ],
   "metadata": {
    "collapsed": false,
    "ExecuteTime": {
     "end_time": "2023-12-28T12:41:10.585605053Z",
     "start_time": "2023-12-28T12:41:10.390904105Z"
    }
   },
   "id": "cbdce293d4ee5eb7",
   "execution_count": 77
  },
  {
   "cell_type": "code",
   "outputs": [
    {
     "name": "stdout",
     "output_type": "stream",
     "text": [
      "Epoch 1/10\n",
      "625/625 [==============================] - 32s 49ms/step - loss: 0.5189 - accuracy: 0.7473 - val_loss: 0.3960 - val_accuracy: 0.8468\n",
      "Epoch 2/10\n",
      "625/625 [==============================] - 24s 39ms/step - loss: 0.3611 - accuracy: 0.8619 - val_loss: 0.3219 - val_accuracy: 0.8740\n",
      "Epoch 3/10\n",
      "625/625 [==============================] - 23s 36ms/step - loss: 0.2809 - accuracy: 0.8978 - val_loss: 0.3466 - val_accuracy: 0.8680\n",
      "Epoch 4/10\n",
      "625/625 [==============================] - 22s 35ms/step - loss: 0.2326 - accuracy: 0.9165 - val_loss: 0.3376 - val_accuracy: 0.8736\n",
      "Epoch 5/10\n",
      "625/625 [==============================] - 21s 34ms/step - loss: 0.1979 - accuracy: 0.9302 - val_loss: 0.3601 - val_accuracy: 0.8654\n",
      "Epoch 6/10\n",
      "625/625 [==============================] - 21s 33ms/step - loss: 0.1746 - accuracy: 0.9406 - val_loss: 0.4988 - val_accuracy: 0.8362\n",
      "Epoch 7/10\n",
      "625/625 [==============================] - 20s 32ms/step - loss: 0.1443 - accuracy: 0.9543 - val_loss: 0.3866 - val_accuracy: 0.8640\n",
      "Epoch 8/10\n",
      "625/625 [==============================] - 20s 32ms/step - loss: 0.1306 - accuracy: 0.9583 - val_loss: 0.4156 - val_accuracy: 0.8618\n",
      "Epoch 9/10\n",
      "625/625 [==============================] - 20s 32ms/step - loss: 0.1154 - accuracy: 0.9650 - val_loss: 0.4442 - val_accuracy: 0.8736\n",
      "Epoch 10/10\n",
      "625/625 [==============================] - 20s 32ms/step - loss: 0.0917 - accuracy: 0.9724 - val_loss: 0.4909 - val_accuracy: 0.8722\n"
     ]
    },
    {
     "data": {
      "text/plain": "<keras.src.callbacks.History at 0x7fe3182945d0>"
     },
     "execution_count": 78,
     "metadata": {},
     "output_type": "execute_result"
    }
   ],
   "source": [
    "callbacks = [keras.callbacks.ModelCheckpoint(\"embedding_lstm.keras\", save_best_only=True)]\n",
    "model.fit(int_train_ds, validation_data=int_val_ds, epochs=10, callbacks=callbacks)"
   ],
   "metadata": {
    "collapsed": false,
    "ExecuteTime": {
     "end_time": "2023-12-28T12:45:53.795608822Z",
     "start_time": "2023-12-28T12:42:10.282062294Z"
    }
   },
   "id": "352dc4c64383ce3c",
   "execution_count": 78
  },
  {
   "cell_type": "code",
   "outputs": [
    {
     "name": "stdout",
     "output_type": "stream",
     "text": [
      "782/782 [==============================] - 10s 11ms/step - loss: 0.3296 - accuracy: 0.8695\n"
     ]
    },
    {
     "data": {
      "text/plain": "[0.3296020030975342, 0.8694800138473511]"
     },
     "execution_count": 79,
     "metadata": {},
     "output_type": "execute_result"
    }
   ],
   "source": [
    "model = keras.models.load_model(\"embedding_lstm.keras\")\n",
    "model.evaluate(int_test_ds)"
   ],
   "metadata": {
    "collapsed": false,
    "ExecuteTime": {
     "end_time": "2023-12-28T12:46:06.967581520Z",
     "start_time": "2023-12-28T12:45:56.703258098Z"
    }
   },
   "id": "43c4e108420be572",
   "execution_count": 79
  },
  {
   "cell_type": "code",
   "outputs": [],
   "source": [
    "inputs = keras.Input(shape=(None, ), dtype='int64')\n",
    "embedded = layers.Embedding(input_dim=max_tokens, output_dim=256, mask_zero=True)(inputs)\n",
    "x = layers.Bidirectional(layers.LSTM(32))(embedded)\n",
    "x = layers.Dropout(0.5)(x)\n",
    "outputs = layers.Dense(1, activation=\"sigmoid\")(x)\n",
    "model = keras.Model(inputs, outputs)\n",
    "model.compile(optimizer=\"rmsprop\", loss=\"binary_crossentropy\", metrics=['accuracy'])"
   ],
   "metadata": {
    "collapsed": false,
    "ExecuteTime": {
     "end_time": "2023-12-28T12:48:32.735426824Z",
     "start_time": "2023-12-28T12:48:31.697961423Z"
    }
   },
   "id": "1b15e33698283ec5",
   "execution_count": 81
  },
  {
   "cell_type": "code",
   "outputs": [
    {
     "name": "stdout",
     "output_type": "stream",
     "text": [
      "Epoch 1/10\n"
     ]
    },
    {
     "name": "stderr",
     "output_type": "stream",
     "text": [
      "2023-12-28 13:49:22.883109: W tensorflow/core/common_runtime/type_inference.cc:339] Type inference failed. This indicates an invalid graph that escaped type checking. Error message: INVALID_ARGUMENT: expected compatible input types, but input 1:\n",
      "type_id: TFT_OPTIONAL\n",
      "args {\n",
      "  type_id: TFT_PRODUCT\n",
      "  args {\n",
      "    type_id: TFT_TENSOR\n",
      "    args {\n",
      "      type_id: TFT_INT32\n",
      "    }\n",
      "  }\n",
      "}\n",
      " is neither a subtype nor a supertype of the combined inputs preceding it:\n",
      "type_id: TFT_OPTIONAL\n",
      "args {\n",
      "  type_id: TFT_PRODUCT\n",
      "  args {\n",
      "    type_id: TFT_TENSOR\n",
      "    args {\n",
      "      type_id: TFT_FLOAT\n",
      "    }\n",
      "  }\n",
      "}\n",
      "\n",
      "\tfor Tuple type infernce function 0\n",
      "\twhile inferring type of node 'cond_36/output/_23'\n",
      "2023-12-28 13:49:23.006447: W tensorflow/compiler/mlir/tools/kernel_gen/transforms/gpu_kernel_to_blob_pass.cc:191] Failed to compile generated PTX with ptxas. Falling back to compilation by driver.\n"
     ]
    },
    {
     "name": "stdout",
     "output_type": "stream",
     "text": [
      "625/625 [==============================] - 38s 54ms/step - loss: 0.4536 - accuracy: 0.7785 - val_loss: 0.3578 - val_accuracy: 0.8330\n",
      "Epoch 2/10\n",
      "625/625 [==============================] - 26s 41ms/step - loss: 0.2704 - accuracy: 0.8910 - val_loss: 0.2876 - val_accuracy: 0.8788\n",
      "Epoch 3/10\n",
      "625/625 [==============================] - 23s 37ms/step - loss: 0.2017 - accuracy: 0.9237 - val_loss: 0.3759 - val_accuracy: 0.8550\n",
      "Epoch 4/10\n",
      "625/625 [==============================] - 22s 36ms/step - loss: 0.1562 - accuracy: 0.9417 - val_loss: 0.3083 - val_accuracy: 0.8800\n",
      "Epoch 5/10\n",
      "625/625 [==============================] - 22s 34ms/step - loss: 0.1173 - accuracy: 0.9585 - val_loss: 0.4063 - val_accuracy: 0.8670\n",
      "Epoch 6/10\n",
      "625/625 [==============================] - 21s 34ms/step - loss: 0.0914 - accuracy: 0.9699 - val_loss: 0.4520 - val_accuracy: 0.8780\n",
      "Epoch 7/10\n",
      "625/625 [==============================] - 21s 34ms/step - loss: 0.0694 - accuracy: 0.9768 - val_loss: 0.4466 - val_accuracy: 0.8784\n",
      "Epoch 8/10\n",
      "625/625 [==============================] - 21s 34ms/step - loss: 0.0527 - accuracy: 0.9832 - val_loss: 0.4862 - val_accuracy: 0.8738\n",
      "Epoch 9/10\n",
      "625/625 [==============================] - 21s 34ms/step - loss: 0.0443 - accuracy: 0.9859 - val_loss: 0.5774 - val_accuracy: 0.8752\n",
      "Epoch 10/10\n",
      "625/625 [==============================] - 21s 33ms/step - loss: 0.0334 - accuracy: 0.9890 - val_loss: 0.6328 - val_accuracy: 0.8716\n"
     ]
    },
    {
     "data": {
      "text/plain": "<keras.src.callbacks.History at 0x7fe318687ad0>"
     },
     "execution_count": 82,
     "metadata": {},
     "output_type": "execute_result"
    }
   ],
   "source": [
    "callbacks = [keras.callbacks.ModelCheckpoint(\"embedding_lstm_masked.keras\", save_best_only=True)]\n",
    "model.fit(int_train_ds, validation_data=int_val_ds, epochs=10, callbacks=callbacks)"
   ],
   "metadata": {
    "collapsed": false,
    "ExecuteTime": {
     "end_time": "2023-12-28T12:53:15.278552048Z",
     "start_time": "2023-12-28T12:49:19.684227372Z"
    }
   },
   "id": "9255c970bec729ec",
   "execution_count": 82
  },
  {
   "cell_type": "code",
   "outputs": [
    {
     "name": "stdout",
     "output_type": "stream",
     "text": [
      "782/782 [==============================] - 14s 15ms/step - loss: 0.2979 - accuracy: 0.8760\n"
     ]
    },
    {
     "data": {
      "text/plain": "[0.2979428172111511, 0.8759999871253967]"
     },
     "execution_count": 83,
     "metadata": {},
     "output_type": "execute_result"
    }
   ],
   "source": [
    "model = keras.models.load_model(\"embedding_lstm_masked.keras\")\n",
    "model.evaluate(int_test_ds)"
   ],
   "metadata": {
    "collapsed": false,
    "ExecuteTime": {
     "end_time": "2023-12-28T12:53:51.772295655Z",
     "start_time": "2023-12-28T12:53:36.261695680Z"
    }
   },
   "id": "8c504c1dda2634c5",
   "execution_count": 83
  },
  {
   "cell_type": "code",
   "outputs": [
    {
     "name": "stdout",
     "output_type": "stream",
     "text": [
      "Found 400000 word vectors\n"
     ]
    }
   ],
   "source": [
    "import numpy as np\n",
    "path_to_glove_file = \"glove.6B.100d.txt\"\n",
    "\n",
    "embeddings_index = {}\n",
    "\n",
    "with open(path_to_glove_file) as f:\n",
    "    for line in f:\n",
    "        word, coefs = line.split(maxsplit=1)\n",
    "        coefs = np.fromstring(coefs, \"f\", sep=\" \")\n",
    "        embeddings_index[word] = coefs\n",
    "print(f\"Found {len(embeddings_index)} word vectors\")"
   ],
   "metadata": {
    "collapsed": false,
    "ExecuteTime": {
     "end_time": "2023-12-28T12:55:38.935879063Z",
     "start_time": "2023-12-28T12:55:35.370361312Z"
    }
   },
   "id": "6cdd7f158871a621",
   "execution_count": 84
  },
  {
   "cell_type": "code",
   "outputs": [],
   "source": [
    "embedding_dim = 100\n",
    "\n",
    "vocabulary = text_vectorization.get_vocabulary()\n",
    "word_index = dict(zip(vocabulary, range(len(vocabulary))))\n",
    "\n",
    "embeddings_matrix = np.zeros((max_tokens, embedding_dim))\n",
    "for word, i in word_index.items():\n",
    "    if i < max_tokens:\n",
    "        embedding_vector = embeddings_index.get(word)\n",
    "    if embedding_vector is not None:\n",
    "        embeddings_matrix[i] = embedding_vector"
   ],
   "metadata": {
    "collapsed": false,
    "ExecuteTime": {
     "end_time": "2023-12-28T12:59:01.909649965Z",
     "start_time": "2023-12-28T12:59:01.863198846Z"
    }
   },
   "id": "590d837e3be55c8",
   "execution_count": 85
  },
  {
   "cell_type": "code",
   "outputs": [],
   "source": [
    "embedding_layer = layers.Embedding(\n",
    "    max_tokens,\n",
    "    embedding_dim,\n",
    "    embeddings_initializer=keras.initializers.Constant(embeddings_matrix),\n",
    "    trainable=False,\n",
    "    mask_zero=True\n",
    ")\n",
    "inputs = layers.Input(shape=(None,), dtype='int64')\n",
    "embedded = embedding_layer(inputs)\n",
    "x = layers.Bidirectional(layers.LSTM(32))(embedded)\n",
    "x = layers.Dropout(0.5)(x)\n",
    "outputs = layers.Dense(1, activation=\"sigmoid\")(x)\n",
    "model = keras.Model(inputs, outputs)\n",
    "model.compile(optimizer=\"rmsprop\", loss=\"binary_crossentropy\", metrics=[\"accuracy\"])"
   ],
   "metadata": {
    "collapsed": false,
    "ExecuteTime": {
     "end_time": "2023-12-28T13:02:14.632793Z",
     "start_time": "2023-12-28T13:02:13.630279380Z"
    }
   },
   "id": "cf0c384a9486e321",
   "execution_count": 86
  },
  {
   "cell_type": "code",
   "outputs": [
    {
     "name": "stdout",
     "output_type": "stream",
     "text": [
      "Epoch 1/10\n",
      "625/625 [==============================] - 34s 49ms/step - loss: 0.5720 - accuracy: 0.6974 - val_loss: 0.4479 - val_accuracy: 0.8010\n",
      "Epoch 2/10\n",
      "625/625 [==============================] - 29s 47ms/step - loss: 0.4492 - accuracy: 0.7977 - val_loss: 0.3847 - val_accuracy: 0.8322\n",
      "Epoch 3/10\n",
      "625/625 [==============================] - 30s 48ms/step - loss: 0.3965 - accuracy: 0.8261 - val_loss: 0.3540 - val_accuracy: 0.8386\n",
      "Epoch 4/10\n",
      "625/625 [==============================] - 29s 47ms/step - loss: 0.3656 - accuracy: 0.8436 - val_loss: 0.3281 - val_accuracy: 0.8608\n",
      "Epoch 5/10\n",
      "625/625 [==============================] - 29s 47ms/step - loss: 0.3379 - accuracy: 0.8585 - val_loss: 0.3175 - val_accuracy: 0.8680\n",
      "Epoch 6/10\n",
      "625/625 [==============================] - 29s 46ms/step - loss: 0.3182 - accuracy: 0.8654 - val_loss: 0.3092 - val_accuracy: 0.8698\n",
      "Epoch 7/10\n",
      "625/625 [==============================] - 21s 34ms/step - loss: 0.3030 - accuracy: 0.8735 - val_loss: 0.3116 - val_accuracy: 0.8672\n",
      "Epoch 8/10\n",
      "625/625 [==============================] - 29s 46ms/step - loss: 0.2883 - accuracy: 0.8835 - val_loss: 0.2963 - val_accuracy: 0.8730\n",
      "Epoch 9/10\n",
      "625/625 [==============================] - 29s 46ms/step - loss: 0.2749 - accuracy: 0.8902 - val_loss: 0.2931 - val_accuracy: 0.8748\n",
      "Epoch 10/10\n",
      "625/625 [==============================] - 21s 34ms/step - loss: 0.2626 - accuracy: 0.8932 - val_loss: 0.3326 - val_accuracy: 0.8674\n"
     ]
    },
    {
     "data": {
      "text/plain": "<keras.src.callbacks.History at 0x7fe013c1cd10>"
     },
     "execution_count": 87,
     "metadata": {},
     "output_type": "execute_result"
    }
   ],
   "source": [
    "callbacks = [keras.callbacks.ModelCheckpoint(\"glove_embeddings_sequence.keras\", save_best_only=True)]\n",
    "model.fit(int_train_ds, validation_data=int_val_ds, epochs=10, callbacks=callbacks)"
   ],
   "metadata": {
    "collapsed": false,
    "ExecuteTime": {
     "end_time": "2023-12-28T13:07:50.192979832Z",
     "start_time": "2023-12-28T13:03:09.919486732Z"
    }
   },
   "id": "3c7a6a37ccd940ba",
   "execution_count": 87
  },
  {
   "cell_type": "code",
   "outputs": [
    {
     "name": "stdout",
     "output_type": "stream",
     "text": [
      "782/782 [==============================] - 14s 15ms/step - loss: 0.2921 - accuracy: 0.8772\n"
     ]
    },
    {
     "data": {
      "text/plain": "[0.29214969277381897, 0.877240002155304]"
     },
     "execution_count": 88,
     "metadata": {},
     "output_type": "execute_result"
    }
   ],
   "source": [
    "model = keras.models.load_model(\"glove_embeddings_sequence.keras\")\n",
    "model.evaluate(int_test_ds)"
   ],
   "metadata": {
    "collapsed": false,
    "ExecuteTime": {
     "end_time": "2023-12-28T13:08:13.295593707Z",
     "start_time": "2023-12-28T13:07:52.036915566Z"
    }
   },
   "id": "a2aacf61483bc54e",
   "execution_count": 88
  }
 ],
 "metadata": {
  "kernelspec": {
   "display_name": "Python 3",
   "language": "python",
   "name": "python3"
  },
  "language_info": {
   "codemirror_mode": {
    "name": "ipython",
    "version": 2
   },
   "file_extension": ".py",
   "mimetype": "text/x-python",
   "name": "python",
   "nbconvert_exporter": "python",
   "pygments_lexer": "ipython2",
   "version": "2.7.6"
  }
 },
 "nbformat": 4,
 "nbformat_minor": 5
}
