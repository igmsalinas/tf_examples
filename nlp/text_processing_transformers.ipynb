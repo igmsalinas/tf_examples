{
 "cells": [
  {
   "cell_type": "code",
   "execution_count": 1,
   "id": "initial_id",
   "metadata": {
    "collapsed": true,
    "ExecuteTime": {
     "end_time": "2023-12-28T14:08:57.319672959Z",
     "start_time": "2023-12-28T14:08:56.224140212Z"
    }
   },
   "outputs": [
    {
     "name": "stderr",
     "output_type": "stream",
     "text": [
      "2023-12-28 15:08:56.396520: E external/local_xla/xla/stream_executor/cuda/cuda_dnn.cc:9261] Unable to register cuDNN factory: Attempting to register factory for plugin cuDNN when one has already been registered\n",
      "2023-12-28 15:08:56.396541: E external/local_xla/xla/stream_executor/cuda/cuda_fft.cc:607] Unable to register cuFFT factory: Attempting to register factory for plugin cuFFT when one has already been registered\n",
      "2023-12-28 15:08:56.397366: E external/local_xla/xla/stream_executor/cuda/cuda_blas.cc:1515] Unable to register cuBLAS factory: Attempting to register factory for plugin cuBLAS when one has already been registered\n",
      "2023-12-28 15:08:56.401468: I tensorflow/core/platform/cpu_feature_guard.cc:182] This TensorFlow binary is optimized to use available CPU instructions in performance-critical operations.\n",
      "To enable the following instructions: AVX2 FMA, in other operations, rebuild TensorFlow with the appropriate compiler flags.\n",
      "2023-12-28 15:08:56.898371: W tensorflow/compiler/tf2tensorrt/utils/py_utils.cc:38] TF-TRT Warning: Could not find TensorRT\n"
     ]
    }
   ],
   "source": [
    "import tensorflow as tf\n",
    "from tensorflow import keras\n",
    "from tensorflow.keras import layers"
   ]
  },
  {
   "cell_type": "code",
   "outputs": [],
   "source": [
    "class TransformerEncoder(layers.Layer):\n",
    "    def __init__(self, embed_dim, dense_dim, num_heads, **kwargs):\n",
    "        super().__init__(**kwargs)\n",
    "        self.embed_dim = embed_dim\n",
    "        self.num_heads = num_heads\n",
    "        self.dense_dim = dense_dim\n",
    "        self.attention = layers.MultiHeadAttention(num_heads=num_heads, key_dim=embed_dim)\n",
    "        self.dense_projection = keras.Sequential([layers.Dense(dense_dim, activation=\"relu\"), layers.Dense(embed_dim)])\n",
    "        self.layer_norm1 = layers.LayerNormalization()\n",
    "        self.layer_norm2 = layers.LayerNormalization()\n",
    "        \n",
    "    def call(self, inputs, mask=None):\n",
    "        if mask is not None:\n",
    "            mask = mask[:, tf.newaxis, :]\n",
    "        attention_output = self.attention(inputs, inputs, attention_mask=mask)\n",
    "        projection_input = self.layer_norm1(inputs + attention_output) \n",
    "        projection_output = self.dense_projection(projection_input)\n",
    "        return self.layer_norm2(projection_output + projection_input)\n",
    "    \n",
    "    def get_config(self):\n",
    "        config = super().get_config()\n",
    "        config.update({\n",
    "            'embed_dim': self.embed_dim,\n",
    "            'num_heads': self.num_heads,\n",
    "            'dense_dim': self.dense_dim,\n",
    "        })\n",
    "        return config"
   ],
   "metadata": {
    "collapsed": false,
    "ExecuteTime": {
     "end_time": "2023-12-28T14:09:13.167481625Z",
     "start_time": "2023-12-28T14:09:13.166089451Z"
    }
   },
   "id": "cd8c970834d8cea6",
   "execution_count": 2
  },
  {
   "cell_type": "code",
   "outputs": [],
   "source": [
    "vocab_size = 20000\n",
    "embed_dim = 256\n",
    "num_heads = 2\n",
    "dense_dim = 32\n",
    "\n",
    "inputs = layers.Input(shape=(None,), dtype='int64')\n",
    "x = layers.Embedding(vocab_size, embed_dim)(inputs)\n",
    "x = TransformerEncoder(embed_dim, dense_dim, num_heads)(x)\n",
    "x = layers.GlobalAveragePooling1D()(x)\n",
    "x = layers.Dropout(0.5)(x)\n",
    "outputs = layers.Dense(1, activation='sigmoid')(x)\n",
    "model = keras.Model(inputs=inputs, outputs=outputs)\n",
    "model.compile(loss='binary_crossentropy', optimizer='rmsprop', metrics=['accuracy'])"
   ],
   "metadata": {
    "collapsed": false,
    "ExecuteTime": {
     "end_time": "2023-12-28T14:10:24.763196922Z",
     "start_time": "2023-12-28T14:10:24.668781842Z"
    }
   },
   "id": "42199cac8e3282da",
   "execution_count": 4
  },
  {
   "cell_type": "code",
   "outputs": [
    {
     "name": "stdout",
     "output_type": "stream",
     "text": [
      "Model: \"model\"\n",
      "_________________________________________________________________\n",
      " Layer (type)                Output Shape              Param #   \n",
      "=================================================================\n",
      " input_2 (InputLayer)        [(None, None)]            0         \n",
      "                                                                 \n",
      " embedding_1 (Embedding)     (None, None, 256)         5120000   \n",
      "                                                                 \n",
      " transformer_encoder_1 (Tra  (None, None, 256)         543776    \n",
      " nsformerEncoder)                                                \n",
      "                                                                 \n",
      " global_average_pooling1d (  (None, 256)               0         \n",
      " GlobalAveragePooling1D)                                         \n",
      "                                                                 \n",
      " dropout (Dropout)           (None, 256)               0         \n",
      "                                                                 \n",
      " dense_2 (Dense)             (None, 1)                 257       \n",
      "                                                                 \n",
      "=================================================================\n",
      "Total params: 5664033 (21.61 MB)\n",
      "Trainable params: 5664033 (21.61 MB)\n",
      "Non-trainable params: 0 (0.00 Byte)\n",
      "_________________________________________________________________\n"
     ]
    }
   ],
   "source": [
    "model.summary()"
   ],
   "metadata": {
    "collapsed": false,
    "ExecuteTime": {
     "end_time": "2023-12-28T13:45:28.313432560Z",
     "start_time": "2023-12-28T13:45:28.253314657Z"
    }
   },
   "id": "1bd4d314385a8fd",
   "execution_count": 8
  },
  {
   "cell_type": "code",
   "outputs": [
    {
     "name": "stdout",
     "output_type": "stream",
     "text": [
      "Found 20000 files belonging to 2 classes.\n",
      "Found 5000 files belonging to 2 classes.\n",
      "Found 25000 files belonging to 2 classes.\n"
     ]
    }
   ],
   "source": [
    "import pathlib\n",
    "\n",
    "max_length = 600\n",
    "max_tokens = 20000\n",
    "\n",
    "batch_size = 32\n",
    "\n",
    "base_dir = pathlib.Path(\"./aclImdb\")\n",
    "train_dir = base_dir / \"train\"\n",
    "val_dir = base_dir / \"val\"\n",
    "test_dir = base_dir / \"test\"\n",
    "\n",
    "train_ds = keras.utils.text_dataset_from_directory(\n",
    "    train_dir, batch_size=batch_size\n",
    ")\n",
    "val_ds = keras.utils.text_dataset_from_directory(\n",
    "    val_dir, batch_size=batch_size\n",
    ")\n",
    "test_ds = keras.utils.text_dataset_from_directory(\n",
    "    test_dir, batch_size=batch_size\n",
    ")\n",
    "\n",
    "text_only_train_ds = train_ds.map(lambda x, y: x)\n",
    "\n",
    "text_vectorization = layers.TextVectorization(\n",
    "    max_tokens=max_tokens,\n",
    "    output_sequence_length=max_length,\n",
    "    output_mode=\"int\"\n",
    ")\n",
    "\n",
    "text_vectorization.adapt(text_only_train_ds)\n",
    "\n",
    "int_train_ds = train_ds.map(lambda x, y: (text_vectorization(x), y), num_parallel_calls=4)\n",
    "int_val_ds = val_ds.map(lambda x, y: (text_vectorization(x), y), num_parallel_calls=4)\n",
    "int_test_ds = test_ds.map(lambda x, y: (text_vectorization(x), y), num_parallel_calls=4)"
   ],
   "metadata": {
    "collapsed": false,
    "ExecuteTime": {
     "end_time": "2023-12-28T14:10:51.625366032Z",
     "start_time": "2023-12-28T14:10:49.583279875Z"
    }
   },
   "id": "572cbe344abdb476",
   "execution_count": 10
  },
  {
   "cell_type": "code",
   "outputs": [],
   "source": [
    "callbacks = [keras.callbacks.ModelCheckpoint(\"transformer_encoder.keras\", save_best_only=True)]\n",
    "model.fit(int_train_ds, validation_data=int_val_ds, epochs=20, callbacks=callbacks)"
   ],
   "metadata": {
    "collapsed": false
   },
   "id": "2d07c964a517782d",
   "execution_count": null
  },
  {
   "cell_type": "code",
   "outputs": [
    {
     "name": "stdout",
     "output_type": "stream",
     "text": [
      "782/782 [==============================] - 7s 9ms/step - loss: 0.3001 - accuracy: 0.8789\n"
     ]
    },
    {
     "data": {
      "text/plain": "[0.300081342458725, 0.8789200186729431]"
     },
     "execution_count": 12,
     "metadata": {},
     "output_type": "execute_result"
    }
   ],
   "source": [
    "model = keras.models.load_model(\"transformer_encoder.keras\", custom_objects={\"TransformerEncoder\": TransformerEncoder})\n",
    "model.evaluate(int_test_ds)"
   ],
   "metadata": {
    "collapsed": false,
    "ExecuteTime": {
     "end_time": "2023-12-28T13:53:44.247580111Z",
     "start_time": "2023-12-28T13:53:36.152288227Z"
    }
   },
   "id": "9f0670c4977d0083",
   "execution_count": 12
  },
  {
   "cell_type": "code",
   "outputs": [],
   "source": [
    "class PositionalEmbedding(layers.Layer):\n",
    "    def __init__(self, sequence_length, input_dim, output_dim, **kwargs):\n",
    "        super().__init__(**kwargs)\n",
    "        self.token_embedding = layers.Embedding(input_dim=input_dim, output_dim=output_dim)\n",
    "        self.position_embedding = layers.Embedding(input_dim=sequence_length, output_dim=output_dim)\n",
    "        self.sequence_length = sequence_length\n",
    "        self.input_dim = input_dim\n",
    "        self.output_dim = output_dim\n",
    "        \n",
    "    def call(self, inputs):\n",
    "        length = tf.shape(inputs)[-1]\n",
    "        positions = tf.range(start=0, limit=length, delta=1)\n",
    "        embedded_tokens = self.token_embedding(inputs)\n",
    "        embedded_positions = self.position_embedding(positions)\n",
    "        embedding = embedded_tokens + embedded_positions\n",
    "        return embedding\n",
    "    \n",
    "    def compute_mask(self, inputs, mask=None):\n",
    "        return tf.math.not_equal(inputs, 0)\n",
    "    \n",
    "    def get_config(self):\n",
    "        config = super().get_config()\n",
    "        config.update({\n",
    "            \"output_dim\": self.output_dim,\n",
    "            \"sequence_length\": self.sequence_length,\n",
    "            \"input_dim\": self.input_dim\n",
    "        })\n",
    "        return config"
   ],
   "metadata": {
    "collapsed": false,
    "ExecuteTime": {
     "end_time": "2023-12-28T14:10:32.443825714Z",
     "start_time": "2023-12-28T14:10:32.396232113Z"
    }
   },
   "id": "504e4bcd2a9993db",
   "execution_count": 5
  },
  {
   "cell_type": "code",
   "outputs": [],
   "source": [
    "vocab_size = 20000\n",
    "sequence_length = 600\n",
    "embedding_dim = 256\n",
    "num_heads = 2\n",
    "dense_dim = 32\n",
    "\n",
    "inputs  = keras.Input(shape=(None,), dtype='int64')\n",
    "x = PositionalEmbedding(sequence_length, vocab_size, embedding_dim)(inputs)\n",
    "x = TransformerEncoder(embedding_dim, dense_dim, num_heads)(x)\n",
    "x = layers.GlobalAveragePooling1D()(x)\n",
    "x = layers.Dropout(0.5)(x)\n",
    "outputs = layers.Dense(1, activation='sigmoid')(x)\n",
    "model = keras.Model(inputs=inputs, outputs=outputs)\n",
    "model.compile(loss='binary_crossentropy', optimizer='rmsprop', metrics=['accuracy'])"
   ],
   "metadata": {
    "collapsed": false,
    "ExecuteTime": {
     "end_time": "2023-12-28T14:14:39.842695981Z",
     "start_time": "2023-12-28T14:14:39.752724193Z"
    }
   },
   "id": "8ca6cf349f4d9fa1",
   "execution_count": 16
  },
  {
   "cell_type": "code",
   "outputs": [
    {
     "name": "stdout",
     "output_type": "stream",
     "text": [
      "Model: \"model_4\"\n",
      "_________________________________________________________________\n",
      " Layer (type)                Output Shape              Param #   \n",
      "=================================================================\n",
      " input_5 (InputLayer)        [(None, None)]            0         \n",
      "                                                                 \n",
      " positional_embedding_2 (Po  (None, None, 256)         5273600   \n",
      " sitionalEmbedding)                                              \n",
      "                                                                 \n",
      " transformer_encoder_4 (Tra  (None, None, 256)         543776    \n",
      " nsformerEncoder)                                                \n",
      "                                                                 \n",
      " global_average_pooling1d_4  (None, 256)               0         \n",
      "  (GlobalAveragePooling1D)                                       \n",
      "                                                                 \n",
      " dropout_4 (Dropout)         (None, 256)               0         \n",
      "                                                                 \n",
      " dense_16 (Dense)            (None, 1)                 257       \n",
      "                                                                 \n",
      "=================================================================\n",
      "Total params: 5817633 (22.19 MB)\n",
      "Trainable params: 5817633 (22.19 MB)\n",
      "Non-trainable params: 0 (0.00 Byte)\n",
      "_________________________________________________________________\n"
     ]
    }
   ],
   "source": [
    "model.summary()"
   ],
   "metadata": {
    "collapsed": false,
    "ExecuteTime": {
     "end_time": "2023-12-28T14:14:40.508181989Z",
     "start_time": "2023-12-28T14:14:40.460334898Z"
    }
   },
   "id": "1ed8f758449ae71f",
   "execution_count": 17
  },
  {
   "cell_type": "code",
   "outputs": [
    {
     "name": "stdout",
     "output_type": "stream",
     "text": [
      "Epoch 1/20\n",
      "625/625 [==============================] - 25s 39ms/step - loss: 0.5255 - accuracy: 0.7372 - val_loss: 0.3345 - val_accuracy: 0.8674\n",
      "Epoch 2/20\n",
      "625/625 [==============================] - 19s 31ms/step - loss: 0.3032 - accuracy: 0.8778 - val_loss: 0.3744 - val_accuracy: 0.8496\n",
      "Epoch 3/20\n",
      "625/625 [==============================] - 17s 28ms/step - loss: 0.2421 - accuracy: 0.9046 - val_loss: 0.3478 - val_accuracy: 0.8702\n",
      "Epoch 4/20\n",
      "625/625 [==============================] - 16s 26ms/step - loss: 0.2089 - accuracy: 0.9189 - val_loss: 0.3830 - val_accuracy: 0.8814\n",
      "Epoch 5/20\n",
      "625/625 [==============================] - 17s 27ms/step - loss: 0.1767 - accuracy: 0.9336 - val_loss: 0.3338 - val_accuracy: 0.8820\n",
      "Epoch 6/20\n",
      "625/625 [==============================] - 16s 26ms/step - loss: 0.1558 - accuracy: 0.9420 - val_loss: 0.4537 - val_accuracy: 0.8894\n",
      "Epoch 7/20\n",
      "625/625 [==============================] - 16s 26ms/step - loss: 0.1365 - accuracy: 0.9490 - val_loss: 0.4912 - val_accuracy: 0.8804\n",
      "Epoch 8/20\n",
      "625/625 [==============================] - 16s 25ms/step - loss: 0.1238 - accuracy: 0.9534 - val_loss: 0.5759 - val_accuracy: 0.8842\n",
      "Epoch 9/20\n",
      "625/625 [==============================] - 16s 25ms/step - loss: 0.1087 - accuracy: 0.9600 - val_loss: 0.6243 - val_accuracy: 0.8832\n",
      "Epoch 10/20\n",
      "625/625 [==============================] - 16s 25ms/step - loss: 0.0954 - accuracy: 0.9657 - val_loss: 0.4883 - val_accuracy: 0.8850\n",
      "Epoch 11/20\n",
      "625/625 [==============================] - 16s 25ms/step - loss: 0.0778 - accuracy: 0.9721 - val_loss: 0.5701 - val_accuracy: 0.8798\n",
      "Epoch 12/20\n",
      "625/625 [==============================] - 16s 25ms/step - loss: 0.0658 - accuracy: 0.9761 - val_loss: 0.7343 - val_accuracy: 0.8810\n",
      "Epoch 13/20\n",
      "625/625 [==============================] - 16s 25ms/step - loss: 0.0494 - accuracy: 0.9820 - val_loss: 0.8011 - val_accuracy: 0.8716\n",
      "Epoch 14/20\n",
      "625/625 [==============================] - 16s 25ms/step - loss: 0.0440 - accuracy: 0.9852 - val_loss: 0.8016 - val_accuracy: 0.8742\n",
      "Epoch 15/20\n",
      "625/625 [==============================] - 16s 25ms/step - loss: 0.0345 - accuracy: 0.9883 - val_loss: 0.8646 - val_accuracy: 0.8752\n",
      "Epoch 16/20\n",
      "625/625 [==============================] - 16s 25ms/step - loss: 0.0310 - accuracy: 0.9898 - val_loss: 0.7598 - val_accuracy: 0.8758\n",
      "Epoch 17/20\n",
      "625/625 [==============================] - 16s 25ms/step - loss: 0.0266 - accuracy: 0.9908 - val_loss: 0.8759 - val_accuracy: 0.8732\n",
      "Epoch 18/20\n",
      "625/625 [==============================] - 16s 25ms/step - loss: 0.0248 - accuracy: 0.9921 - val_loss: 0.9646 - val_accuracy: 0.8742\n",
      "Epoch 19/20\n",
      "625/625 [==============================] - 16s 25ms/step - loss: 0.0216 - accuracy: 0.9933 - val_loss: 0.9632 - val_accuracy: 0.8756\n",
      "Epoch 20/20\n",
      "625/625 [==============================] - 16s 25ms/step - loss: 0.0158 - accuracy: 0.9953 - val_loss: 0.9488 - val_accuracy: 0.8762\n"
     ]
    }
   ],
   "source": [
    "callbacks = [keras.callbacks.ModelCheckpoint(\"transformer_encoder_positional_emb.keras\", save_best_only=True)]\n",
    "history = model.fit(int_train_ds, validation_data=int_val_ds, epochs=20, callbacks=callbacks)"
   ],
   "metadata": {
    "collapsed": false,
    "ExecuteTime": {
     "end_time": "2023-12-28T14:20:24.404658903Z",
     "start_time": "2023-12-28T14:14:52.536627568Z"
    }
   },
   "id": "79480b7540bbef10",
   "execution_count": 18
  },
  {
   "cell_type": "code",
   "outputs": [
    {
     "name": "stdout",
     "output_type": "stream",
     "text": [
      "782/782 [==============================] - 8s 10ms/step - loss: 0.3365 - accuracy: 0.8715\n"
     ]
    },
    {
     "data": {
      "text/plain": "[0.3364552855491638, 0.8714799880981445]"
     },
     "execution_count": 19,
     "metadata": {},
     "output_type": "execute_result"
    }
   ],
   "source": [
    "model = keras.models.load_model(\"transformer_encoder_positional_emb.keras\", \n",
    "                                custom_objects={\n",
    "                                    'TransformerEncoder': TransformerEncoder, \n",
    "                                    'PositionalEmbedding': PositionalEmbedding\n",
    "                                })\n",
    "model.evaluate(int_test_ds)"
   ],
   "metadata": {
    "collapsed": false,
    "ExecuteTime": {
     "end_time": "2023-12-28T14:28:17.531713273Z",
     "start_time": "2023-12-28T14:28:07.965407746Z"
    }
   },
   "id": "71a48a5847df9a1c",
   "execution_count": 19
  }
 ],
 "metadata": {
  "kernelspec": {
   "display_name": "Python 3",
   "language": "python",
   "name": "python3"
  },
  "language_info": {
   "codemirror_mode": {
    "name": "ipython",
    "version": 2
   },
   "file_extension": ".py",
   "mimetype": "text/x-python",
   "name": "python",
   "nbconvert_exporter": "python",
   "pygments_lexer": "ipython2",
   "version": "2.7.6"
  }
 },
 "nbformat": 4,
 "nbformat_minor": 5
}
