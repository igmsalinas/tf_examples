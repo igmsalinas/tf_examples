{
 "cells": [
  {
   "cell_type": "code",
   "execution_count": 1,
   "id": "initial_id",
   "metadata": {
    "collapsed": true,
    "ExecuteTime": {
     "end_time": "2024-01-03T09:16:21.582663535Z",
     "start_time": "2024-01-03T09:15:21.054378820Z"
    }
   },
   "outputs": [
    {
     "name": "stdout",
     "output_type": "stream",
     "text": [
      "mkdir: cannot create directory ‘celeba_gan’: File exists\r\n",
      "/home/nacho/anaconda3/envs/tf/lib/python3.11/site-packages/gdown/cli.py:126: FutureWarning: Option `--id` was deprecated in version 4.3.1 and will be removed in 5.0. You don't need to pass it anymore to use a file ID.\r\n",
      "  warnings.warn(\r\n",
      "Downloading...\r\n",
      "From (uriginal): https://drive.google.com/uc?id=1O7m1010EJjLE5QxLZiM9Fpjs7Oj6e684\r\n",
      "From (redirected): https://drive.google.com/uc?id=1O7m1010EJjLE5QxLZiM9Fpjs7Oj6e684&confirm=t&uuid=639a3ddb-c6fa-4a23-a51c-1c7eec672380\r\n",
      "To: /home/nacho/Documents/dlpyhton/tf_examples/generative/image_generation/celeba_gan/data.zip\r\n",
      "100%|██████████████████████████████████████| 1.44G/1.44G [00:33<00:00, 43.2MB/s]\r\n",
      "replace celeba_gan/img_align_celeba/000001.jpg? [y]es, [n]o, [A]ll, [N]one, [r]ename: ^C\r\n"
     ]
    }
   ],
   "source": [
    "# !mkdir celeba_gan\n",
    "# !gdown --id 1O7m1010EJjLE5QxLZiM9Fpjs7Oj6e684 -O celeba_gan/data.zip\n",
    "# !unzip -qq celeba_gan/data.zip -d celeba_gan"
   ]
  },
  {
   "cell_type": "code",
   "outputs": [],
   "source": [
    "from tensorflow import keras\n",
    "\n",
    "dataset = keras.utils.image_dataset_from_directory(\n",
    "    './celeba_gan',\n",
    "    label_mode = None,\n",
    "    image_size = (64, 64),\n",
    "    batch_size = 64,\n",
    "    smart_resize= True\n",
    ")"
   ],
   "metadata": {
    "collapsed": false
   },
   "id": "b8aac0b85c418782",
   "execution_count": null
  },
  {
   "cell_type": "code",
   "outputs": [],
   "source": [
    "dataset = dataset.map(lambda x: x / 255.)"
   ],
   "metadata": {
    "collapsed": false,
    "ExecuteTime": {
     "end_time": "2024-01-03T09:16:27.142734440Z",
     "start_time": "2024-01-03T09:16:27.133726754Z"
    }
   },
   "id": "cabd3c9574d5b83a",
   "execution_count": 3
  },
  {
   "cell_type": "code",
   "outputs": [
    {
     "data": {
      "text/plain": "<matplotlib.image.AxesImage at 0x7f0e71c94250>"
     },
     "execution_count": 4,
     "metadata": {},
     "output_type": "execute_result"
    },
    {
     "data": {
      "text/plain": "<Figure size 640x480 with 1 Axes>",
      "image/png": "[encoded data removed]"
     },
     "metadata": {},
     "output_type": "display_data"
    }
   ],
   "source": [
    "import matplotlib.pyplot as plt\n",
    "sample = next(iter(dataset))\n",
    "plt.axis('off')\n",
    "plt.imshow((sample.numpy()*255).astype('int32')[0])"
   ],
   "metadata": {
    "collapsed": false,
    "ExecuteTime": {
     "end_time": "2024-01-03T09:16:27.497939584Z",
     "start_time": "2024-01-03T09:16:27.144530722Z"
    }
   },
   "id": "3fc5c148c072afd",
   "execution_count": 4
  },
  {
   "cell_type": "code",
   "outputs": [],
   "source": [
    "from tensorflow.keras import layers\n",
    "\n",
    "discriminator = keras.Sequential([\n",
    "    keras.Input(shape = (64, 64, 3)),\n",
    "    layers.Conv2D(64, 4, 2, padding='same'),\n",
    "    layers.LeakyReLU(0.2),\n",
    "    layers.Conv2D(128, 4, 2, padding='same'),\n",
    "    layers.LeakyReLU(0.2),\n",
    "    layers.Conv2D(128, 4, 2, padding='same'),\n",
    "    layers.LeakyReLU(0.2),\n",
    "    layers.Flatten(),\n",
    "    layers.Dropout(0.2),\n",
    "    layers.Dense(1, activation='sigmoid')\n",
    "], name = 'discriminator')"
   ],
   "metadata": {
    "collapsed": false,
    "ExecuteTime": {
     "end_time": "2024-01-03T09:16:27.541913698Z",
     "start_time": "2024-01-03T09:16:27.491872387Z"
    }
   },
   "id": "2c3eb649dcd03c42",
   "execution_count": 5
  },
  {
   "cell_type": "code",
   "outputs": [
    {
     "name": "stdout",
     "output_type": "stream",
     "text": [
      "Model: \"discriminator\"\n",
      "_________________________________________________________________\n",
      " Layer (type)                Output Shape              Param #   \n",
      "=================================================================\n",
      " conv2d (Conv2D)             (None, 32, 32, 64)        3136      \n",
      "                                                                 \n",
      " leaky_re_lu (LeakyReLU)     (None, 32, 32, 64)        0         \n",
      "                                                                 \n",
      " conv2d_1 (Conv2D)           (None, 16, 16, 128)       131200    \n",
      "                                                                 \n",
      " leaky_re_lu_1 (LeakyReLU)   (None, 16, 16, 128)       0         \n",
      "                                                                 \n",
      " conv2d_2 (Conv2D)           (None, 8, 8, 128)         262272    \n",
      "                                                                 \n",
      " leaky_re_lu_2 (LeakyReLU)   (None, 8, 8, 128)         0         \n",
      "                                                                 \n",
      " flatten (Flatten)           (None, 8192)              0         \n",
      "                                                                 \n",
      " dropout (Dropout)           (None, 8192)              0         \n",
      "                                                                 \n",
      " dense (Dense)               (None, 1)                 8193      \n",
      "                                                                 \n",
      "=================================================================\n",
      "Total params: 404801 (1.54 MB)\n",
      "Trainable params: 404801 (1.54 MB)\n",
      "Non-trainable params: 0 (0.00 Byte)\n",
      "_________________________________________________________________\n"
     ]
    }
   ],
   "source": [
    "discriminator.summary()"
   ],
   "metadata": {
    "collapsed": false,
    "ExecuteTime": {
     "end_time": "2024-01-03T09:16:27.587534497Z",
     "start_time": "2024-01-03T09:16:27.542376244Z"
    }
   },
   "id": "db3ce845318d1ccf",
   "execution_count": 6
  },
  {
   "cell_type": "code",
   "outputs": [],
   "source": [
    "latent_dim = 256\n",
    "\n",
    "generator = keras.Sequential([\n",
    "    keras.Input(shape = (latent_dim,)),\n",
    "    layers.Dense(8 * 8 * 128, activation = 'relu'),\n",
    "    layers.Reshape((8, 8, 128)),\n",
    "    layers.Conv2DTranspose(128, 4, 2, padding='same'),\n",
    "    layers.ReLU(),\n",
    "    layers.Conv2DTranspose(256, 4, 2, padding='same'),\n",
    "    layers.ReLU(),\n",
    "    layers.Conv2DTranspose(512, 4, 2, padding='same'),\n",
    "    layers.ReLU(),\n",
    "    layers.Conv2D(3, 5, padding='same', activation = 'sigmoid'),\n",
    "], name = 'generator')"
   ],
   "metadata": {
    "collapsed": false,
    "ExecuteTime": {
     "end_time": "2024-01-03T09:16:27.620264598Z",
     "start_time": "2024-01-03T09:16:27.586200721Z"
    }
   },
   "id": "954124a1bd2f50ab",
   "execution_count": 7
  },
  {
   "cell_type": "code",
   "outputs": [
    {
     "name": "stdout",
     "output_type": "stream",
     "text": [
      "Model: \"generator\"\n",
      "_________________________________________________________________\n",
      " Layer (type)                Output Shape              Param #   \n",
      "=================================================================\n",
      " dense_1 (Dense)             (None, 8192)              2105344   \n",
      "                                                                 \n",
      " reshape (Reshape)           (None, 8, 8, 128)         0         \n",
      "                                                                 \n",
      " conv2d_transpose (Conv2DTr  (None, 16, 16, 128)       262272    \n",
      " anspose)                                                        \n",
      "                                                                 \n",
      " re_lu (ReLU)                (None, 16, 16, 128)       0         \n",
      "                                                                 \n",
      " conv2d_transpose_1 (Conv2D  (None, 32, 32, 256)       524544    \n",
      " Transpose)                                                      \n",
      "                                                                 \n",
      " re_lu_1 (ReLU)              (None, 32, 32, 256)       0         \n",
      "                                                                 \n",
      " conv2d_transpose_2 (Conv2D  (None, 64, 64, 512)       2097664   \n",
      " Transpose)                                                      \n",
      "                                                                 \n",
      " re_lu_2 (ReLU)              (None, 64, 64, 512)       0         \n",
      "                                                                 \n",
      " conv2d_3 (Conv2D)           (None, 64, 64, 3)         38403     \n",
      "                                                                 \n",
      "=================================================================\n",
      "Total params: 5028227 (19.18 MB)\n",
      "Trainable params: 5028227 (19.18 MB)\n",
      "Non-trainable params: 0 (0.00 Byte)\n",
      "_________________________________________________________________\n"
     ]
    }
   ],
   "source": [
    "generator.summary()"
   ],
   "metadata": {
    "collapsed": false,
    "ExecuteTime": {
     "end_time": "2024-01-03T09:16:27.622377996Z",
     "start_time": "2024-01-03T09:16:27.620247018Z"
    }
   },
   "id": "51ae7f2fb0426a72",
   "execution_count": 8
  },
  {
   "cell_type": "code",
   "outputs": [],
   "source": [
    "import tensorflow as tf\n",
    "\n",
    "class GAN(keras.Model):\n",
    "    def __init__(self, discriminator, generator, latent_dim):\n",
    "        super().__init__()\n",
    "        self.discriminator = discriminator\n",
    "        self.generator = generator\n",
    "        self.latent_dim = latent_dim\n",
    "        self.d_loss_metric = tf.keras.metrics.Mean(name='d_loss')\n",
    "        self.g_loss_metric = tf.keras.metrics.Mean(name='g_loss')\n",
    "        \n",
    "    def compile(self, d_optimizer, g_optimizer, loss_fn):\n",
    "        super(GAN, self).compile()\n",
    "        self.d_optimizer = d_optimizer\n",
    "        self.g_optimizer = g_optimizer\n",
    "        self.loss_fn = loss_fn\n",
    "        \n",
    "    @property\n",
    "    def metrics(self):\n",
    "        return [self.d_loss_metric, self.g_loss_metric]\n",
    "    \n",
    "    @tf.function\n",
    "    def train_step(self, real_images):\n",
    "        batch_size = tf.shape(real_images)[0]\n",
    "        random_latent_vector = tf.random.normal([batch_size, latent_dim])\n",
    "        generated_images = self.generator(random_latent_vector)\n",
    "        combined_images = tf.concat([generated_images, real_images], axis=0)\n",
    "        labels = tf.concat([tf.ones((batch_size, 1)), tf.zeros((batch_size, 1))], axis=0)\n",
    "        labels += 0.05 * tf.random.uniform(tf.shape(labels))\n",
    "        \n",
    "        with tf.GradientTape() as tape:\n",
    "            predictions = self.discriminator(combined_images)\n",
    "            d_loss = self.loss_fn(labels, predictions)\n",
    "        grads = tape.gradient(d_loss, self.discriminator.trainable_weights)\n",
    "        self.d_optimizer.apply_gradients(zip(grads, self.discriminator.trainable_weights))\n",
    "        \n",
    "        random_latent_vector = tf.random.normal([batch_size, latent_dim])\n",
    "        \n",
    "        misleading_labels = tf.zeros([batch_size, 1])\n",
    "        \n",
    "        with tf.GradientTape() as tape:\n",
    "            predictions = self.discriminator(self.generator(random_latent_vector))\n",
    "            g_loss = self.loss_fn(misleading_labels, predictions)\n",
    "            \n",
    "        grads = tape.gradient(g_loss, self.generator.trainable_weights)\n",
    "        self.g_optimizer.apply_gradients(zip(grads, self.generator.trainable_weights))\n",
    "        \n",
    "        self.d_loss_metric.update_state(d_loss)\n",
    "        self.g_loss_metric.update_state(g_loss)\n",
    "        \n",
    "        return {\n",
    "            \"d_loss\": self.d_loss_metric.result(),\n",
    "            \"g_loss\": self.g_loss_metric.result()\n",
    "        }"
   ],
   "metadata": {
    "collapsed": false,
    "ExecuteTime": {
     "end_time": "2024-01-03T09:16:27.623816841Z",
     "start_time": "2024-01-03T09:16:27.620959471Z"
    }
   },
   "id": "2f4c5a4bdebe83",
   "execution_count": 9
  },
  {
   "cell_type": "code",
   "outputs": [],
   "source": [
    "class GANMonitor(tf.keras.callbacks.Callback):\n",
    "    def __init__(self, num_img=3, latent_dim=256):\n",
    "        self.num_img = num_img\n",
    "        self.latent_dim = latent_dim\n",
    "        \n",
    "    def on_epoch_end(self, epoch, logs=None):\n",
    "        random_latent_vector = tf.random.normal([self.num_img, self.latent_dim])\n",
    "        generated_images = self.model.generator(random_latent_vector)\n",
    "        generated_images *= 255\n",
    "        generated_images.numpy()\n",
    "        \n",
    "        for i in range(self.num_img):\n",
    "            img = keras.utils.array_to_img(generated_images[i])\n",
    "            img.save(f'generated_image_{epoch:03d}_{i}.png')"
   ],
   "metadata": {
    "collapsed": false,
    "ExecuteTime": {
     "end_time": "2024-01-03T09:16:27.624342495Z",
     "start_time": "2024-01-03T09:16:27.621088670Z"
    }
   },
   "id": "61706880d2c4bf2",
   "execution_count": 10
  },
  {
   "cell_type": "code",
   "outputs": [],
   "source": [
    "epochs = 100\n",
    "\n",
    "gan = GAN(discriminator=discriminator, generator=generator, latent_dim=latent_dim)\n",
    "\n",
    "gan.compile(d_optimizer=keras.optimizers.Adam(learning_rate=0.00001), \n",
    "            g_optimizer=keras.optimizers.Adam(learning_rate=0.0001), \n",
    "            loss_fn=keras.losses.BinaryCrossentropy())"
   ],
   "metadata": {
    "collapsed": false,
    "ExecuteTime": {
     "end_time": "2024-01-03T09:16:27.633374603Z",
     "start_time": "2024-01-03T09:16:27.621207128Z"
    }
   },
   "id": "aadabb4fd24ad402",
   "execution_count": 11
  },
  {
   "cell_type": "code",
   "outputs": [
    {
     "name": "stdout",
     "output_type": "stream",
     "text": [
      "Epoch 1/200\n"
     ]
    },
    {
     "name": "stderr",
     "output_type": "stream",
     "text": [
      "2024-01-03 10:16:28.858040: W tensorflow/compiler/mlir/tools/kernel_gen/transforms/gpu_kernel_to_blob_pass.cc:191] Failed to compile generated PTX with ptxas. Falling back to compilation by driver.\n",
      "2024-01-03 10:16:28.889871: I external/local_xla/xla/stream_executor/cuda/cuda_dnn.cc:454] Loaded cuDNN version 8904\n",
      "2024-01-03 10:16:29.047753: W external/local_xla/xla/stream_executor/gpu/redzone_allocator.cc:322] UNIMPLEMENTED: ptxas ptxas too old. Falling back to the driver to compile.\n",
      "Relying on driver to perform ptx compilation. \n",
      "Modify $PATH to customize ptxas location.\n",
      "This message will be only logged once.\n",
      "2024-01-03 10:16:32.007742: W tensorflow/compiler/mlir/tools/kernel_gen/transforms/gpu_kernel_to_blob_pass.cc:191] Failed to compile generated PTX with ptxas. Falling back to compilation by driver.\n",
      "2024-01-03 10:16:32.260066: W tensorflow/compiler/mlir/tools/kernel_gen/transforms/gpu_kernel_to_blob_pass.cc:191] Failed to compile generated PTX with ptxas. Falling back to compilation by driver.\n",
      "2024-01-03 10:16:32.280810: W tensorflow/compiler/mlir/tools/kernel_gen/transforms/gpu_kernel_to_blob_pass.cc:191] Failed to compile generated PTX with ptxas. Falling back to compilation by driver.\n",
      "2024-01-03 10:16:32.308142: W tensorflow/compiler/mlir/tools/kernel_gen/transforms/gpu_kernel_to_blob_pass.cc:191] Failed to compile generated PTX with ptxas. Falling back to compilation by driver.\n",
      "2024-01-03 10:16:32.335340: W tensorflow/compiler/mlir/tools/kernel_gen/transforms/gpu_kernel_to_blob_pass.cc:191] Failed to compile generated PTX with ptxas. Falling back to compilation by driver.\n",
      "2024-01-03 10:16:32.371530: W tensorflow/compiler/mlir/tools/kernel_gen/transforms/gpu_kernel_to_blob_pass.cc:191] Failed to compile generated PTX with ptxas. Falling back to compilation by driver.\n",
      "2024-01-03 10:16:32.390040: I external/local_xla/xla/service/service.cc:168] XLA service 0x7f0d606a0aa0 initialized for platform CUDA (this does not guarantee that XLA will be used). Devices:\n",
      "2024-01-03 10:16:32.390055: I external/local_xla/xla/service/service.cc:176]   StreamExecutor device (0): NVIDIA GeForce RTX 4070, Compute Capability 8.9\n",
      "2024-01-03 10:16:32.397565: I tensorflow/compiler/mlir/tensorflow/utils/dump_mlir_util.cc:269] disabling MLIR crash reproducer, set env var `MLIR_CRASH_REPRODUCER_DIRECTORY` to enable.\n",
      "WARNING: All log messages before absl::InitializeLog() is called are written to STDERR\n",
      "I0000 00:00:1704273392.434839   16226 device_compiler.h:186] Compiled cluster using XLA!  This line is logged at most once for the lifetime of the process.\n"
     ]
    },
    {
     "name": "stdout",
     "output_type": "stream",
     "text": [
      "3166/3166 [==============================] - 399s 122ms/step - d_loss: 0.6665 - g_loss: 1.1487\n",
      "Epoch 2/200\n",
      "3166/3166 [==============================] - 373s 118ms/step - d_loss: 0.7072 - g_loss: 0.7938\n",
      "Epoch 3/200\n",
      "3166/3166 [==============================] - 373s 118ms/step - d_loss: 0.7054 - g_loss: 0.7189\n",
      "Epoch 4/200\n",
      "3166/3166 [==============================] - 375s 118ms/step - d_loss: 0.6976 - g_loss: 0.7304\n",
      "Epoch 5/200\n",
      "3166/3166 [==============================] - 372s 117ms/step - d_loss: 0.6954 - g_loss: 0.7308\n",
      "Epoch 6/200\n",
      "3166/3166 [==============================] - 357s 113ms/step - d_loss: 0.6939 - g_loss: 0.7358\n",
      "Epoch 7/200\n",
      "3166/3166 [==============================] - 402s 127ms/step - d_loss: 0.6931 - g_loss: 0.7411\n",
      "Epoch 8/200\n",
      "3166/3166 [==============================] - 397s 125ms/step - d_loss: 0.6926 - g_loss: 0.7421\n",
      "Epoch 9/200\n",
      "3166/3166 [==============================] - 382s 121ms/step - d_loss: 0.6927 - g_loss: 0.7445\n",
      "Epoch 10/200\n",
      "3166/3166 [==============================] - 394s 125ms/step - d_loss: 0.6924 - g_loss: 0.7424\n",
      "Epoch 11/200\n",
      "3166/3166 [==============================] - 389s 123ms/step - d_loss: 0.6923 - g_loss: 0.7435\n",
      "Epoch 12/200\n",
      "3166/3166 [==============================] - 385s 122ms/step - d_loss: 0.6926 - g_loss: 0.7466\n",
      "Epoch 13/200\n",
      "3166/3166 [==============================] - 383s 121ms/step - d_loss: 0.6924 - g_loss: 0.7426\n",
      "Epoch 14/200\n",
      "3166/3166 [==============================] - 379s 120ms/step - d_loss: 0.6925 - g_loss: 0.7443\n",
      "Epoch 15/200\n",
      "3166/3166 [==============================] - 381s 120ms/step - d_loss: 0.6923 - g_loss: 0.7435\n",
      "Epoch 16/200\n",
      "3166/3166 [==============================] - 375s 119ms/step - d_loss: 0.6925 - g_loss: 0.7442\n",
      "Epoch 17/200\n",
      "3166/3166 [==============================] - 371s 117ms/step - d_loss: 0.6886 - g_loss: 0.7648\n",
      "Epoch 18/200\n",
      "3166/3166 [==============================] - 371s 117ms/step - d_loss: 0.6783 - g_loss: 0.8690\n",
      "Epoch 19/200\n",
      "3166/3166 [==============================] - 370s 117ms/step - d_loss: 0.6947 - g_loss: 0.7379\n",
      "Epoch 20/200\n",
      "3166/3166 [==============================] - 363s 115ms/step - d_loss: 0.6930 - g_loss: 0.7424\n",
      "Epoch 21/200\n",
      "3166/3166 [==============================] - 359s 113ms/step - d_loss: 0.6926 - g_loss: 0.7424\n",
      "Epoch 22/200\n",
      "3166/3166 [==============================] - 359s 113ms/step - d_loss: 0.6929 - g_loss: 0.7432\n",
      "Epoch 23/200\n",
      "3166/3166 [==============================] - 359s 113ms/step - d_loss: 0.6919 - g_loss: 0.7567\n",
      "Epoch 24/200\n",
      "3166/3166 [==============================] - 376s 119ms/step - d_loss: 0.6931 - g_loss: 0.7394\n",
      "Epoch 25/200\n",
      "3166/3166 [==============================] - 385s 122ms/step - d_loss: 0.6926 - g_loss: 0.7445\n",
      "Epoch 26/200\n",
      "3166/3166 [==============================] - 379s 120ms/step - d_loss: 0.6927 - g_loss: 0.7442\n",
      "Epoch 27/200\n",
      "3166/3166 [==============================] - 376s 119ms/step - d_loss: 0.6926 - g_loss: 0.7456\n",
      "Epoch 28/200\n",
      "3166/3166 [==============================] - 379s 120ms/step - d_loss: 0.6925 - g_loss: 0.7461\n",
      "Epoch 29/200\n",
      "3166/3166 [==============================] - 384s 121ms/step - d_loss: 0.6926 - g_loss: 0.7437\n",
      "Epoch 30/200\n",
      "3166/3166 [==============================] - 387s 122ms/step - d_loss: 0.6925 - g_loss: 0.7472\n",
      "Epoch 31/200\n",
      "3166/3166 [==============================] - 389s 123ms/step - d_loss: 0.6928 - g_loss: 0.7434\n",
      "Epoch 32/200\n",
      "3166/3166 [==============================] - 387s 122ms/step - d_loss: 0.6927 - g_loss: 0.7438\n",
      "Epoch 33/200\n",
      "3166/3166 [==============================] - 386s 122ms/step - d_loss: 0.6924 - g_loss: 0.7474\n",
      "Epoch 34/200\n",
      "3166/3166 [==============================] - 379s 120ms/step - d_loss: 0.6922 - g_loss: 0.7475\n",
      "Epoch 35/200\n",
      "3166/3166 [==============================] - 371s 117ms/step - d_loss: 0.6922 - g_loss: 0.7442\n",
      "Epoch 36/200\n",
      "3166/3166 [==============================] - 362s 114ms/step - d_loss: 0.6923 - g_loss: 0.7486\n",
      "Epoch 37/200\n",
      "3166/3166 [==============================] - 360s 114ms/step - d_loss: 0.6926 - g_loss: 0.7476\n",
      "Epoch 38/200\n",
      "3166/3166 [==============================] - 363s 115ms/step - d_loss: 0.6933 - g_loss: 0.7451\n",
      "Epoch 39/200\n",
      "3166/3166 [==============================] - 353s 112ms/step - d_loss: 0.6928 - g_loss: 0.7453\n",
      "Epoch 40/200\n",
      "3166/3166 [==============================] - 351s 111ms/step - d_loss: 0.6926 - g_loss: 0.7443\n",
      "Epoch 41/200\n",
      "3166/3166 [==============================] - 352s 111ms/step - d_loss: 0.6932 - g_loss: 0.7450\n",
      "Epoch 42/200\n",
      "3166/3166 [==============================] - 352s 111ms/step - d_loss: 0.6925 - g_loss: 0.7469\n",
      "Epoch 43/200\n",
      "3166/3166 [==============================] - 352s 111ms/step - d_loss: 0.6925 - g_loss: 0.7436\n",
      "Epoch 44/200\n",
      "3166/3166 [==============================] - 352s 111ms/step - d_loss: 0.6928 - g_loss: 0.7468\n",
      "Epoch 45/200\n",
      "3166/3166 [==============================] - 352s 111ms/step - d_loss: 0.6930 - g_loss: 0.7439\n",
      "Epoch 46/200\n",
      "3166/3166 [==============================] - 358s 113ms/step - d_loss: 0.6932 - g_loss: 0.7454\n",
      "Epoch 47/200\n",
      "3166/3166 [==============================] - 354s 112ms/step - d_loss: 0.6931 - g_loss: 0.7392\n",
      "Epoch 48/200\n",
      "3166/3166 [==============================] - 351s 111ms/step - d_loss: 0.6933 - g_loss: 0.7416\n",
      "Epoch 49/200\n",
      "3166/3166 [==============================] - 352s 111ms/step - d_loss: 0.6927 - g_loss: 0.7462\n",
      "Epoch 50/200\n",
      "3166/3166 [==============================] - 352s 111ms/step - d_loss: 0.6924 - g_loss: 0.7449\n",
      "Epoch 51/200\n",
      "3166/3166 [==============================] - 352s 111ms/step - d_loss: 0.6930 - g_loss: 0.7443\n",
      "Epoch 52/200\n",
      "3166/3166 [==============================] - 352s 111ms/step - d_loss: 0.6938 - g_loss: 0.7448\n",
      "Epoch 53/200\n",
      "3166/3166 [==============================] - 352s 111ms/step - d_loss: 0.6935 - g_loss: 0.7455\n",
      "Epoch 54/200\n",
      "3166/3166 [==============================] - 352s 111ms/step - d_loss: 0.6928 - g_loss: 0.7453\n",
      "Epoch 55/200\n",
      "3166/3166 [==============================] - 353s 111ms/step - d_loss: 0.6929 - g_loss: 0.7464\n",
      "Epoch 56/200\n",
      "3166/3166 [==============================] - 353s 111ms/step - d_loss: 0.6926 - g_loss: 0.7488\n",
      "Epoch 57/200\n",
      "3166/3166 [==============================] - 352s 111ms/step - d_loss: 0.6930 - g_loss: 0.7436\n",
      "Epoch 58/200\n",
      "3166/3166 [==============================] - 352s 111ms/step - d_loss: 0.6927 - g_loss: 0.7473\n",
      "Epoch 59/200\n",
      "3166/3166 [==============================] - 352s 111ms/step - d_loss: 0.6934 - g_loss: 0.7450\n",
      "Epoch 60/200\n",
      "3166/3166 [==============================] - 352s 111ms/step - d_loss: 0.6925 - g_loss: 0.7451\n",
      "Epoch 61/200\n",
      "3166/3166 [==============================] - 352s 111ms/step - d_loss: 0.6935 - g_loss: 0.7465\n",
      "Epoch 62/200\n",
      "3166/3166 [==============================] - 352s 111ms/step - d_loss: 0.6931 - g_loss: 0.7467\n",
      "Epoch 63/200\n",
      "3166/3166 [==============================] - 352s 111ms/step - d_loss: 0.6926 - g_loss: 0.7507\n",
      "Epoch 64/200\n",
      "3166/3166 [==============================] - 352s 111ms/step - d_loss: 0.6927 - g_loss: 0.7477\n",
      "Epoch 65/200\n",
      "3166/3166 [==============================] - 352s 111ms/step - d_loss: 0.6925 - g_loss: 0.7501\n",
      "Epoch 66/200\n",
      "3166/3166 [==============================] - 352s 111ms/step - d_loss: 0.6924 - g_loss: 0.7514\n",
      "Epoch 67/200\n",
      "3166/3166 [==============================] - 352s 111ms/step - d_loss: 0.6929 - g_loss: 0.7479\n",
      "Epoch 68/200\n",
      "3166/3166 [==============================] - 351s 111ms/step - d_loss: 0.6921 - g_loss: 0.7502\n",
      "Epoch 69/200\n",
      "3166/3166 [==============================] - 350s 111ms/step - d_loss: 0.6912 - g_loss: 0.7560\n",
      "Epoch 70/200\n",
      "3166/3166 [==============================] - 350s 110ms/step - d_loss: 0.6916 - g_loss: 0.7514\n",
      "Epoch 71/200\n",
      "3166/3166 [==============================] - 350s 111ms/step - d_loss: 0.6939 - g_loss: 0.7503\n",
      "Epoch 72/200\n",
      "3166/3166 [==============================] - 351s 111ms/step - d_loss: 0.6925 - g_loss: 0.7518\n",
      "Epoch 73/200\n",
      "3166/3166 [==============================] - 352s 111ms/step - d_loss: 0.6931 - g_loss: 0.7468\n",
      "Epoch 74/200\n",
      "3166/3166 [==============================] - 352s 111ms/step - d_loss: 0.6927 - g_loss: 0.7474\n",
      "Epoch 75/200\n",
      "3166/3166 [==============================] - 352s 111ms/step - d_loss: 0.6922 - g_loss: 0.7462\n",
      "Epoch 76/200\n",
      "3166/3166 [==============================] - 352s 111ms/step - d_loss: 0.6912 - g_loss: 0.7596\n",
      "Epoch 77/200\n",
      "3166/3166 [==============================] - 352s 111ms/step - d_loss: 0.6915 - g_loss: 0.7454\n",
      "Epoch 78/200\n",
      "3166/3166 [==============================] - 351s 111ms/step - d_loss: 0.6930 - g_loss: 0.7485\n",
      "Epoch 79/200\n",
      "3166/3166 [==============================] - 351s 111ms/step - d_loss: 0.6905 - g_loss: 0.7531\n",
      "Epoch 80/200\n",
      "3166/3166 [==============================] - 350s 111ms/step - d_loss: 0.6946 - g_loss: 0.7382\n",
      "Epoch 81/200\n",
      "3166/3166 [==============================] - 350s 111ms/step - d_loss: 0.6924 - g_loss: 0.7579\n",
      "Epoch 82/200\n",
      "3166/3166 [==============================] - 349s 110ms/step - d_loss: 0.6926 - g_loss: 0.7496\n",
      "Epoch 83/200\n",
      "3166/3166 [==============================] - 349s 110ms/step - d_loss: 0.6925 - g_loss: 0.7503\n",
      "Epoch 84/200\n",
      "3166/3166 [==============================] - 349s 110ms/step - d_loss: 0.6913 - g_loss: 0.7508\n",
      "Epoch 85/200\n",
      "3166/3166 [==============================] - 361s 114ms/step - d_loss: 0.6930 - g_loss: 0.7529\n",
      "Epoch 86/200\n",
      " 791/3166 [======>.......................] - ETA: 4:41 - d_loss: 0.6928 - g_loss: 0.7442"
     ]
    },
    {
     "ename": "KeyboardInterrupt",
     "evalue": "",
     "output_type": "error",
     "traceback": [
      "\u001B[0;31m---------------------------------------------------------------------------\u001B[0m",
      "\u001B[0;31mKeyboardInterrupt\u001B[0m                         Traceback (most recent call last)",
      "Cell \u001B[0;32mIn[12], line 1\u001B[0m\n\u001B[0;32m----> 1\u001B[0m \u001B[43mgan\u001B[49m\u001B[38;5;241;43m.\u001B[39;49m\u001B[43mfit\u001B[49m\u001B[43m(\u001B[49m\u001B[43mdataset\u001B[49m\u001B[43m,\u001B[49m\u001B[43m \u001B[49m\u001B[43mepochs\u001B[49m\u001B[38;5;241;43m=\u001B[39;49m\u001B[43mepochs\u001B[49m\u001B[43m,\u001B[49m\u001B[43m \u001B[49m\u001B[43mcallbacks\u001B[49m\u001B[38;5;241;43m=\u001B[39;49m\u001B[43m[\u001B[49m\u001B[43mGANMonitor\u001B[49m\u001B[43m(\u001B[49m\u001B[43mnum_img\u001B[49m\u001B[38;5;241;43m=\u001B[39;49m\u001B[38;5;241;43m5\u001B[39;49m\u001B[43m,\u001B[49m\u001B[43m \u001B[49m\u001B[43mlatent_dim\u001B[49m\u001B[38;5;241;43m=\u001B[39;49m\u001B[43mlatent_dim\u001B[49m\u001B[43m)\u001B[49m\u001B[43m]\u001B[49m\u001B[43m)\u001B[49m\n",
      "File \u001B[0;32m~/anaconda3/envs/tf/lib/python3.11/site-packages/keras/src/utils/traceback_utils.py:65\u001B[0m, in \u001B[0;36mfilter_traceback.<locals>.error_handler\u001B[0;34m(*args, **kwargs)\u001B[0m\n\u001B[1;32m     63\u001B[0m filtered_tb \u001B[38;5;241m=\u001B[39m \u001B[38;5;28;01mNone\u001B[39;00m\n\u001B[1;32m     64\u001B[0m \u001B[38;5;28;01mtry\u001B[39;00m:\n\u001B[0;32m---> 65\u001B[0m     \u001B[38;5;28;01mreturn\u001B[39;00m \u001B[43mfn\u001B[49m\u001B[43m(\u001B[49m\u001B[38;5;241;43m*\u001B[39;49m\u001B[43margs\u001B[49m\u001B[43m,\u001B[49m\u001B[43m \u001B[49m\u001B[38;5;241;43m*\u001B[39;49m\u001B[38;5;241;43m*\u001B[39;49m\u001B[43mkwargs\u001B[49m\u001B[43m)\u001B[49m\n\u001B[1;32m     66\u001B[0m \u001B[38;5;28;01mexcept\u001B[39;00m \u001B[38;5;167;01mException\u001B[39;00m \u001B[38;5;28;01mas\u001B[39;00m e:\n\u001B[1;32m     67\u001B[0m     filtered_tb \u001B[38;5;241m=\u001B[39m _process_traceback_frames(e\u001B[38;5;241m.\u001B[39m__traceback__)\n",
      "File \u001B[0;32m~/anaconda3/envs/tf/lib/python3.11/site-packages/keras/src/engine/training.py:1807\u001B[0m, in \u001B[0;36mModel.fit\u001B[0;34m(self, x, y, batch_size, epochs, verbose, callbacks, validation_split, validation_data, shuffle, class_weight, sample_weight, initial_epoch, steps_per_epoch, validation_steps, validation_batch_size, validation_freq, max_queue_size, workers, use_multiprocessing)\u001B[0m\n\u001B[1;32m   1799\u001B[0m \u001B[38;5;28;01mwith\u001B[39;00m tf\u001B[38;5;241m.\u001B[39mprofiler\u001B[38;5;241m.\u001B[39mexperimental\u001B[38;5;241m.\u001B[39mTrace(\n\u001B[1;32m   1800\u001B[0m     \u001B[38;5;124m\"\u001B[39m\u001B[38;5;124mtrain\u001B[39m\u001B[38;5;124m\"\u001B[39m,\n\u001B[1;32m   1801\u001B[0m     epoch_num\u001B[38;5;241m=\u001B[39mepoch,\n\u001B[0;32m   (...)\u001B[0m\n\u001B[1;32m   1804\u001B[0m     _r\u001B[38;5;241m=\u001B[39m\u001B[38;5;241m1\u001B[39m,\n\u001B[1;32m   1805\u001B[0m ):\n\u001B[1;32m   1806\u001B[0m     callbacks\u001B[38;5;241m.\u001B[39mon_train_batch_begin(step)\n\u001B[0;32m-> 1807\u001B[0m     tmp_logs \u001B[38;5;241m=\u001B[39m \u001B[38;5;28;43mself\u001B[39;49m\u001B[38;5;241;43m.\u001B[39;49m\u001B[43mtrain_function\u001B[49m\u001B[43m(\u001B[49m\u001B[43miterator\u001B[49m\u001B[43m)\u001B[49m\n\u001B[1;32m   1808\u001B[0m     \u001B[38;5;28;01mif\u001B[39;00m data_handler\u001B[38;5;241m.\u001B[39mshould_sync:\n\u001B[1;32m   1809\u001B[0m         context\u001B[38;5;241m.\u001B[39masync_wait()\n",
      "File \u001B[0;32m~/anaconda3/envs/tf/lib/python3.11/site-packages/tensorflow/python/util/traceback_utils.py:150\u001B[0m, in \u001B[0;36mfilter_traceback.<locals>.error_handler\u001B[0;34m(*args, **kwargs)\u001B[0m\n\u001B[1;32m    148\u001B[0m filtered_tb \u001B[38;5;241m=\u001B[39m \u001B[38;5;28;01mNone\u001B[39;00m\n\u001B[1;32m    149\u001B[0m \u001B[38;5;28;01mtry\u001B[39;00m:\n\u001B[0;32m--> 150\u001B[0m   \u001B[38;5;28;01mreturn\u001B[39;00m \u001B[43mfn\u001B[49m\u001B[43m(\u001B[49m\u001B[38;5;241;43m*\u001B[39;49m\u001B[43margs\u001B[49m\u001B[43m,\u001B[49m\u001B[43m \u001B[49m\u001B[38;5;241;43m*\u001B[39;49m\u001B[38;5;241;43m*\u001B[39;49m\u001B[43mkwargs\u001B[49m\u001B[43m)\u001B[49m\n\u001B[1;32m    151\u001B[0m \u001B[38;5;28;01mexcept\u001B[39;00m \u001B[38;5;167;01mException\u001B[39;00m \u001B[38;5;28;01mas\u001B[39;00m e:\n\u001B[1;32m    152\u001B[0m   filtered_tb \u001B[38;5;241m=\u001B[39m _process_traceback_frames(e\u001B[38;5;241m.\u001B[39m__traceback__)\n",
      "File \u001B[0;32m~/anaconda3/envs/tf/lib/python3.11/site-packages/tensorflow/python/eager/polymorphic_function/polymorphic_function.py:832\u001B[0m, in \u001B[0;36mFunction.__call__\u001B[0;34m(self, *args, **kwds)\u001B[0m\n\u001B[1;32m    829\u001B[0m compiler \u001B[38;5;241m=\u001B[39m \u001B[38;5;124m\"\u001B[39m\u001B[38;5;124mxla\u001B[39m\u001B[38;5;124m\"\u001B[39m \u001B[38;5;28;01mif\u001B[39;00m \u001B[38;5;28mself\u001B[39m\u001B[38;5;241m.\u001B[39m_jit_compile \u001B[38;5;28;01melse\u001B[39;00m \u001B[38;5;124m\"\u001B[39m\u001B[38;5;124mnonXla\u001B[39m\u001B[38;5;124m\"\u001B[39m\n\u001B[1;32m    831\u001B[0m \u001B[38;5;28;01mwith\u001B[39;00m OptionalXlaContext(\u001B[38;5;28mself\u001B[39m\u001B[38;5;241m.\u001B[39m_jit_compile):\n\u001B[0;32m--> 832\u001B[0m   result \u001B[38;5;241m=\u001B[39m \u001B[38;5;28;43mself\u001B[39;49m\u001B[38;5;241;43m.\u001B[39;49m\u001B[43m_call\u001B[49m\u001B[43m(\u001B[49m\u001B[38;5;241;43m*\u001B[39;49m\u001B[43margs\u001B[49m\u001B[43m,\u001B[49m\u001B[43m \u001B[49m\u001B[38;5;241;43m*\u001B[39;49m\u001B[38;5;241;43m*\u001B[39;49m\u001B[43mkwds\u001B[49m\u001B[43m)\u001B[49m\n\u001B[1;32m    834\u001B[0m new_tracing_count \u001B[38;5;241m=\u001B[39m \u001B[38;5;28mself\u001B[39m\u001B[38;5;241m.\u001B[39mexperimental_get_tracing_count()\n\u001B[1;32m    835\u001B[0m without_tracing \u001B[38;5;241m=\u001B[39m (tracing_count \u001B[38;5;241m==\u001B[39m new_tracing_count)\n",
      "File \u001B[0;32m~/anaconda3/envs/tf/lib/python3.11/site-packages/tensorflow/python/eager/polymorphic_function/polymorphic_function.py:877\u001B[0m, in \u001B[0;36mFunction._call\u001B[0;34m(self, *args, **kwds)\u001B[0m\n\u001B[1;32m    874\u001B[0m \u001B[38;5;28mself\u001B[39m\u001B[38;5;241m.\u001B[39m_lock\u001B[38;5;241m.\u001B[39mrelease()\n\u001B[1;32m    875\u001B[0m \u001B[38;5;66;03m# In this case we have not created variables on the first call. So we can\u001B[39;00m\n\u001B[1;32m    876\u001B[0m \u001B[38;5;66;03m# run the first trace but we should fail if variables are created.\u001B[39;00m\n\u001B[0;32m--> 877\u001B[0m results \u001B[38;5;241m=\u001B[39m \u001B[43mtracing_compilation\u001B[49m\u001B[38;5;241;43m.\u001B[39;49m\u001B[43mcall_function\u001B[49m\u001B[43m(\u001B[49m\n\u001B[1;32m    878\u001B[0m \u001B[43m    \u001B[49m\u001B[43margs\u001B[49m\u001B[43m,\u001B[49m\u001B[43m \u001B[49m\u001B[43mkwds\u001B[49m\u001B[43m,\u001B[49m\u001B[43m \u001B[49m\u001B[38;5;28;43mself\u001B[39;49m\u001B[38;5;241;43m.\u001B[39;49m\u001B[43m_variable_creation_config\u001B[49m\n\u001B[1;32m    879\u001B[0m \u001B[43m\u001B[49m\u001B[43m)\u001B[49m\n\u001B[1;32m    880\u001B[0m \u001B[38;5;28;01mif\u001B[39;00m \u001B[38;5;28mself\u001B[39m\u001B[38;5;241m.\u001B[39m_created_variables:\n\u001B[1;32m    881\u001B[0m   \u001B[38;5;28;01mraise\u001B[39;00m \u001B[38;5;167;01mValueError\u001B[39;00m(\u001B[38;5;124m\"\u001B[39m\u001B[38;5;124mCreating variables on a non-first call to a function\u001B[39m\u001B[38;5;124m\"\u001B[39m\n\u001B[1;32m    882\u001B[0m                    \u001B[38;5;124m\"\u001B[39m\u001B[38;5;124m decorated with tf.function.\u001B[39m\u001B[38;5;124m\"\u001B[39m)\n",
      "File \u001B[0;32m~/anaconda3/envs/tf/lib/python3.11/site-packages/tensorflow/python/eager/polymorphic_function/tracing_compilation.py:139\u001B[0m, in \u001B[0;36mcall_function\u001B[0;34m(args, kwargs, tracing_options)\u001B[0m\n\u001B[1;32m    137\u001B[0m bound_args \u001B[38;5;241m=\u001B[39m function\u001B[38;5;241m.\u001B[39mfunction_type\u001B[38;5;241m.\u001B[39mbind(\u001B[38;5;241m*\u001B[39margs, \u001B[38;5;241m*\u001B[39m\u001B[38;5;241m*\u001B[39mkwargs)\n\u001B[1;32m    138\u001B[0m flat_inputs \u001B[38;5;241m=\u001B[39m function\u001B[38;5;241m.\u001B[39mfunction_type\u001B[38;5;241m.\u001B[39munpack_inputs(bound_args)\n\u001B[0;32m--> 139\u001B[0m \u001B[38;5;28;01mreturn\u001B[39;00m \u001B[43mfunction\u001B[49m\u001B[38;5;241;43m.\u001B[39;49m\u001B[43m_call_flat\u001B[49m\u001B[43m(\u001B[49m\u001B[43m  \u001B[49m\u001B[38;5;66;43;03m# pylint: disable=protected-access\u001B[39;49;00m\n\u001B[1;32m    140\u001B[0m \u001B[43m    \u001B[49m\u001B[43mflat_inputs\u001B[49m\u001B[43m,\u001B[49m\u001B[43m \u001B[49m\u001B[43mcaptured_inputs\u001B[49m\u001B[38;5;241;43m=\u001B[39;49m\u001B[43mfunction\u001B[49m\u001B[38;5;241;43m.\u001B[39;49m\u001B[43mcaptured_inputs\u001B[49m\n\u001B[1;32m    141\u001B[0m \u001B[43m\u001B[49m\u001B[43m)\u001B[49m\n",
      "File \u001B[0;32m~/anaconda3/envs/tf/lib/python3.11/site-packages/tensorflow/python/eager/polymorphic_function/concrete_function.py:1323\u001B[0m, in \u001B[0;36mConcreteFunction._call_flat\u001B[0;34m(self, tensor_inputs, captured_inputs)\u001B[0m\n\u001B[1;32m   1319\u001B[0m possible_gradient_type \u001B[38;5;241m=\u001B[39m gradients_util\u001B[38;5;241m.\u001B[39mPossibleTapeGradientTypes(args)\n\u001B[1;32m   1320\u001B[0m \u001B[38;5;28;01mif\u001B[39;00m (possible_gradient_type \u001B[38;5;241m==\u001B[39m gradients_util\u001B[38;5;241m.\u001B[39mPOSSIBLE_GRADIENT_TYPES_NONE\n\u001B[1;32m   1321\u001B[0m     \u001B[38;5;129;01mand\u001B[39;00m executing_eagerly):\n\u001B[1;32m   1322\u001B[0m   \u001B[38;5;66;03m# No tape is watching; skip to running the function.\u001B[39;00m\n\u001B[0;32m-> 1323\u001B[0m   \u001B[38;5;28;01mreturn\u001B[39;00m \u001B[38;5;28;43mself\u001B[39;49m\u001B[38;5;241;43m.\u001B[39;49m\u001B[43m_inference_function\u001B[49m\u001B[38;5;241;43m.\u001B[39;49m\u001B[43mcall_preflattened\u001B[49m\u001B[43m(\u001B[49m\u001B[43margs\u001B[49m\u001B[43m)\u001B[49m\n\u001B[1;32m   1324\u001B[0m forward_backward \u001B[38;5;241m=\u001B[39m \u001B[38;5;28mself\u001B[39m\u001B[38;5;241m.\u001B[39m_select_forward_and_backward_functions(\n\u001B[1;32m   1325\u001B[0m     args,\n\u001B[1;32m   1326\u001B[0m     possible_gradient_type,\n\u001B[1;32m   1327\u001B[0m     executing_eagerly)\n\u001B[1;32m   1328\u001B[0m forward_function, args_with_tangents \u001B[38;5;241m=\u001B[39m forward_backward\u001B[38;5;241m.\u001B[39mforward()\n",
      "File \u001B[0;32m~/anaconda3/envs/tf/lib/python3.11/site-packages/tensorflow/python/eager/polymorphic_function/atomic_function.py:216\u001B[0m, in \u001B[0;36mAtomicFunction.call_preflattened\u001B[0;34m(self, args)\u001B[0m\n\u001B[1;32m    214\u001B[0m \u001B[38;5;28;01mdef\u001B[39;00m \u001B[38;5;21mcall_preflattened\u001B[39m(\u001B[38;5;28mself\u001B[39m, args: Sequence[core\u001B[38;5;241m.\u001B[39mTensor]) \u001B[38;5;241m-\u001B[39m\u001B[38;5;241m>\u001B[39m Any:\n\u001B[1;32m    215\u001B[0m \u001B[38;5;250m  \u001B[39m\u001B[38;5;124;03m\"\"\"Calls with flattened tensor inputs and returns the structured output.\"\"\"\u001B[39;00m\n\u001B[0;32m--> 216\u001B[0m   flat_outputs \u001B[38;5;241m=\u001B[39m \u001B[38;5;28;43mself\u001B[39;49m\u001B[38;5;241;43m.\u001B[39;49m\u001B[43mcall_flat\u001B[49m\u001B[43m(\u001B[49m\u001B[38;5;241;43m*\u001B[39;49m\u001B[43margs\u001B[49m\u001B[43m)\u001B[49m\n\u001B[1;32m    217\u001B[0m   \u001B[38;5;28;01mreturn\u001B[39;00m \u001B[38;5;28mself\u001B[39m\u001B[38;5;241m.\u001B[39mfunction_type\u001B[38;5;241m.\u001B[39mpack_output(flat_outputs)\n",
      "File \u001B[0;32m~/anaconda3/envs/tf/lib/python3.11/site-packages/tensorflow/python/eager/polymorphic_function/atomic_function.py:251\u001B[0m, in \u001B[0;36mAtomicFunction.call_flat\u001B[0;34m(self, *args)\u001B[0m\n\u001B[1;32m    249\u001B[0m \u001B[38;5;28;01mwith\u001B[39;00m record\u001B[38;5;241m.\u001B[39mstop_recording():\n\u001B[1;32m    250\u001B[0m   \u001B[38;5;28;01mif\u001B[39;00m \u001B[38;5;28mself\u001B[39m\u001B[38;5;241m.\u001B[39m_bound_context\u001B[38;5;241m.\u001B[39mexecuting_eagerly():\n\u001B[0;32m--> 251\u001B[0m     outputs \u001B[38;5;241m=\u001B[39m \u001B[38;5;28;43mself\u001B[39;49m\u001B[38;5;241;43m.\u001B[39;49m\u001B[43m_bound_context\u001B[49m\u001B[38;5;241;43m.\u001B[39;49m\u001B[43mcall_function\u001B[49m\u001B[43m(\u001B[49m\n\u001B[1;32m    252\u001B[0m \u001B[43m        \u001B[49m\u001B[38;5;28;43mself\u001B[39;49m\u001B[38;5;241;43m.\u001B[39;49m\u001B[43mname\u001B[49m\u001B[43m,\u001B[49m\n\u001B[1;32m    253\u001B[0m \u001B[43m        \u001B[49m\u001B[38;5;28;43mlist\u001B[39;49m\u001B[43m(\u001B[49m\u001B[43margs\u001B[49m\u001B[43m)\u001B[49m\u001B[43m,\u001B[49m\n\u001B[1;32m    254\u001B[0m \u001B[43m        \u001B[49m\u001B[38;5;28;43mlen\u001B[39;49m\u001B[43m(\u001B[49m\u001B[38;5;28;43mself\u001B[39;49m\u001B[38;5;241;43m.\u001B[39;49m\u001B[43mfunction_type\u001B[49m\u001B[38;5;241;43m.\u001B[39;49m\u001B[43mflat_outputs\u001B[49m\u001B[43m)\u001B[49m\u001B[43m,\u001B[49m\n\u001B[1;32m    255\u001B[0m \u001B[43m    \u001B[49m\u001B[43m)\u001B[49m\n\u001B[1;32m    256\u001B[0m   \u001B[38;5;28;01melse\u001B[39;00m:\n\u001B[1;32m    257\u001B[0m     outputs \u001B[38;5;241m=\u001B[39m make_call_op_in_graph(\n\u001B[1;32m    258\u001B[0m         \u001B[38;5;28mself\u001B[39m,\n\u001B[1;32m    259\u001B[0m         \u001B[38;5;28mlist\u001B[39m(args),\n\u001B[1;32m    260\u001B[0m         \u001B[38;5;28mself\u001B[39m\u001B[38;5;241m.\u001B[39m_bound_context\u001B[38;5;241m.\u001B[39mfunction_call_options\u001B[38;5;241m.\u001B[39mas_attrs(),\n\u001B[1;32m    261\u001B[0m     )\n",
      "File \u001B[0;32m~/anaconda3/envs/tf/lib/python3.11/site-packages/tensorflow/python/eager/context.py:1486\u001B[0m, in \u001B[0;36mContext.call_function\u001B[0;34m(self, name, tensor_inputs, num_outputs)\u001B[0m\n\u001B[1;32m   1484\u001B[0m cancellation_context \u001B[38;5;241m=\u001B[39m cancellation\u001B[38;5;241m.\u001B[39mcontext()\n\u001B[1;32m   1485\u001B[0m \u001B[38;5;28;01mif\u001B[39;00m cancellation_context \u001B[38;5;129;01mis\u001B[39;00m \u001B[38;5;28;01mNone\u001B[39;00m:\n\u001B[0;32m-> 1486\u001B[0m   outputs \u001B[38;5;241m=\u001B[39m \u001B[43mexecute\u001B[49m\u001B[38;5;241;43m.\u001B[39;49m\u001B[43mexecute\u001B[49m\u001B[43m(\u001B[49m\n\u001B[1;32m   1487\u001B[0m \u001B[43m      \u001B[49m\u001B[43mname\u001B[49m\u001B[38;5;241;43m.\u001B[39;49m\u001B[43mdecode\u001B[49m\u001B[43m(\u001B[49m\u001B[38;5;124;43m\"\u001B[39;49m\u001B[38;5;124;43mutf-8\u001B[39;49m\u001B[38;5;124;43m\"\u001B[39;49m\u001B[43m)\u001B[49m\u001B[43m,\u001B[49m\n\u001B[1;32m   1488\u001B[0m \u001B[43m      \u001B[49m\u001B[43mnum_outputs\u001B[49m\u001B[38;5;241;43m=\u001B[39;49m\u001B[43mnum_outputs\u001B[49m\u001B[43m,\u001B[49m\n\u001B[1;32m   1489\u001B[0m \u001B[43m      \u001B[49m\u001B[43minputs\u001B[49m\u001B[38;5;241;43m=\u001B[39;49m\u001B[43mtensor_inputs\u001B[49m\u001B[43m,\u001B[49m\n\u001B[1;32m   1490\u001B[0m \u001B[43m      \u001B[49m\u001B[43mattrs\u001B[49m\u001B[38;5;241;43m=\u001B[39;49m\u001B[43mattrs\u001B[49m\u001B[43m,\u001B[49m\n\u001B[1;32m   1491\u001B[0m \u001B[43m      \u001B[49m\u001B[43mctx\u001B[49m\u001B[38;5;241;43m=\u001B[39;49m\u001B[38;5;28;43mself\u001B[39;49m\u001B[43m,\u001B[49m\n\u001B[1;32m   1492\u001B[0m \u001B[43m  \u001B[49m\u001B[43m)\u001B[49m\n\u001B[1;32m   1493\u001B[0m \u001B[38;5;28;01melse\u001B[39;00m:\n\u001B[1;32m   1494\u001B[0m   outputs \u001B[38;5;241m=\u001B[39m execute\u001B[38;5;241m.\u001B[39mexecute_with_cancellation(\n\u001B[1;32m   1495\u001B[0m       name\u001B[38;5;241m.\u001B[39mdecode(\u001B[38;5;124m\"\u001B[39m\u001B[38;5;124mutf-8\u001B[39m\u001B[38;5;124m\"\u001B[39m),\n\u001B[1;32m   1496\u001B[0m       num_outputs\u001B[38;5;241m=\u001B[39mnum_outputs,\n\u001B[0;32m   (...)\u001B[0m\n\u001B[1;32m   1500\u001B[0m       cancellation_manager\u001B[38;5;241m=\u001B[39mcancellation_context,\n\u001B[1;32m   1501\u001B[0m   )\n",
      "File \u001B[0;32m~/anaconda3/envs/tf/lib/python3.11/site-packages/tensorflow/python/eager/execute.py:53\u001B[0m, in \u001B[0;36mquick_execute\u001B[0;34m(op_name, num_outputs, inputs, attrs, ctx, name)\u001B[0m\n\u001B[1;32m     51\u001B[0m \u001B[38;5;28;01mtry\u001B[39;00m:\n\u001B[1;32m     52\u001B[0m   ctx\u001B[38;5;241m.\u001B[39mensure_initialized()\n\u001B[0;32m---> 53\u001B[0m   tensors \u001B[38;5;241m=\u001B[39m \u001B[43mpywrap_tfe\u001B[49m\u001B[38;5;241;43m.\u001B[39;49m\u001B[43mTFE_Py_Execute\u001B[49m\u001B[43m(\u001B[49m\u001B[43mctx\u001B[49m\u001B[38;5;241;43m.\u001B[39;49m\u001B[43m_handle\u001B[49m\u001B[43m,\u001B[49m\u001B[43m \u001B[49m\u001B[43mdevice_name\u001B[49m\u001B[43m,\u001B[49m\u001B[43m \u001B[49m\u001B[43mop_name\u001B[49m\u001B[43m,\u001B[49m\n\u001B[1;32m     54\u001B[0m \u001B[43m                                      \u001B[49m\u001B[43minputs\u001B[49m\u001B[43m,\u001B[49m\u001B[43m \u001B[49m\u001B[43mattrs\u001B[49m\u001B[43m,\u001B[49m\u001B[43m \u001B[49m\u001B[43mnum_outputs\u001B[49m\u001B[43m)\u001B[49m\n\u001B[1;32m     55\u001B[0m \u001B[38;5;28;01mexcept\u001B[39;00m core\u001B[38;5;241m.\u001B[39m_NotOkStatusException \u001B[38;5;28;01mas\u001B[39;00m e:\n\u001B[1;32m     56\u001B[0m   \u001B[38;5;28;01mif\u001B[39;00m name \u001B[38;5;129;01mis\u001B[39;00m \u001B[38;5;129;01mnot\u001B[39;00m \u001B[38;5;28;01mNone\u001B[39;00m:\n",
      "\u001B[0;31mKeyboardInterrupt\u001B[0m: "
     ]
    }
   ],
   "source": [
    "gan.fit(dataset, epochs=epochs, callbacks=[GANMonitor(num_img=1, latent_dim=latent_dim)])"
   ],
   "metadata": {
    "collapsed": false,
    "ExecuteTime": {
     "end_time": "2024-01-03T17:53:29.875064006Z",
     "start_time": "2024-01-03T09:16:27.634711919Z"
    }
   },
   "id": "e78d7b9263b19505",
   "execution_count": 12
  },
  {
   "cell_type": "code",
   "outputs": [],
   "source": [],
   "metadata": {
    "collapsed": false,
    "ExecuteTime": {
     "end_time": "2024-01-03T17:53:29.876164846Z",
     "start_time": "2024-01-03T17:53:29.875568221Z"
    }
   },
   "id": "b228edba19f3751a"
  }
 ],
 "metadata": {
  "kernelspec": {
   "display_name": "Python 3",
   "language": "python",
   "name": "python3"
  },
  "language_info": {
   "codemirror_mode": {
    "name": "ipython",
    "version": 2
   },
   "file_extension": ".py",
   "mimetype": "text/x-python",
   "name": "python",
   "nbconvert_exporter": "python",
   "pygments_lexer": "ipython2",
   "version": "2.7.6"
  }
 },
 "nbformat": 4,
 "nbformat_minor": 5
}
